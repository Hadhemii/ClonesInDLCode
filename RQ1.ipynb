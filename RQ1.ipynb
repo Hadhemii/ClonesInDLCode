{
 "cells": [
  {
   "cell_type": "code",
   "execution_count": 1,
   "metadata": {},
   "outputs": [],
   "source": [
    "import pandas as pd\n",
    "import seaborn as sns\n",
    "import warnings\n",
    "warnings.filterwarnings('ignore')\n",
    "import matplotlib.pyplot as plt\n",
    "from scipy import stats\n",
    "import numpy as np"
   ]
  },
  {
   "cell_type": "markdown",
   "metadata": {},
   "source": [
    "## Clone density distribution"
   ]
  },
  {
   "cell_type": "code",
   "execution_count": 2,
   "metadata": {},
   "outputs": [],
   "source": [
    "dl_type1 = pd.read_csv('clone_data/dl_type1.csv')\n",
    "dl_type2 = pd.read_csv('clone_data/dl_type2.csv')\n",
    "dl_type3 = pd.read_csv('clone_data/dl_type3.csv')"
   ]
  },
  {
   "cell_type": "code",
   "execution_count": 3,
   "metadata": {},
   "outputs": [],
   "source": [
    "dl_type1['clone_type']='Type 1'\n",
    "dl_type2['clone_type']='Type 2'\n",
    "dl_type3['clone_type']='Type 3'"
   ]
  },
  {
   "cell_type": "code",
   "execution_count": 4,
   "metadata": {},
   "outputs": [],
   "source": [
    "dl_all_clones = pd.concat([dl_type1,dl_type2])\n",
    "dl_all_clones = pd.concat([dl_all_clones,dl_type3])"
   ]
  },
  {
   "cell_type": "code",
   "execution_count": 5,
   "metadata": {},
   "outputs": [],
   "source": [
    "trad_type1 = pd.read_csv('clone_data/trad_type1.csv')\n",
    "trad_type2 = pd.read_csv('clone_data/trad_type2.csv')\n",
    "trad_type3 = pd.read_csv('clone_data/trad_type3.csv')"
   ]
  },
  {
   "cell_type": "code",
   "execution_count": 6,
   "metadata": {},
   "outputs": [],
   "source": [
    "trad_type1['clone_type']='Type 1'\n",
    "trad_type2['clone_type']='Type 2'\n",
    "trad_type3['clone_type']='Type 3'"
   ]
  },
  {
   "cell_type": "code",
   "execution_count": 7,
   "metadata": {},
   "outputs": [],
   "source": [
    "trad_all_clones = pd.concat([trad_type1,trad_type2])\n",
    "trad_all_clones = pd.concat([trad_all_clones,trad_type3])"
   ]
  },
  {
   "cell_type": "code",
   "execution_count": 8,
   "metadata": {},
   "outputs": [],
   "source": [
    "dl_all_clones['project_type']='Deep Learning'\n",
    "trad_all_clones['project_type']='Traditional'"
   ]
  },
  {
   "cell_type": "code",
   "execution_count": 9,
   "metadata": {},
   "outputs": [],
   "source": [
    "repos_size = pd.read_csv(\"data/slocs_data.csv\")"
   ]
  },
  {
   "cell_type": "code",
   "execution_count": 10,
   "metadata": {},
   "outputs": [],
   "source": [
    "all_clones = pd.concat([dl_all_clones,trad_all_clones])"
   ]
  },
  {
   "cell_type": "code",
   "execution_count": 11,
   "metadata": {},
   "outputs": [],
   "source": [
    "def get_locc(row):\n",
    "    startline=row['startline']\n",
    "    endline = row['endline']\n",
    "    return endline - startline"
   ]
  },
  {
   "cell_type": "code",
   "execution_count": 12,
   "metadata": {},
   "outputs": [],
   "source": [
    "all_clones['locc']=all_clones.apply(get_locc, axis=1)"
   ]
  },
  {
   "cell_type": "code",
   "execution_count": 13,
   "metadata": {},
   "outputs": [],
   "source": [
    "clones_by_type = all_clones.groupby(['repoName','granularity','clone_type','project_type']).agg({'locc':'sum'}).reset_index()"
   ]
  },
  {
   "cell_type": "code",
   "execution_count": 14,
   "metadata": {},
   "outputs": [],
   "source": [
    "repos_clones_size = pd.merge(clones_by_type,repos_size,how='left', on=['repoName'])"
   ]
  },
  {
   "cell_type": "code",
   "execution_count": 15,
   "metadata": {},
   "outputs": [],
   "source": [
    "repos_clones_size = repos_clones_size[repos_clones_size['total_sloc'] !=0]"
   ]
  },
  {
   "cell_type": "code",
   "execution_count": 16,
   "metadata": {},
   "outputs": [],
   "source": [
    "repos_clones_size['LOCC / total SLOC'] = repos_clones_size['locc']/repos_clones_size['total_sloc']"
   ]
  },
  {
   "cell_type": "code",
   "execution_count": 17,
   "metadata": {},
   "outputs": [],
   "source": [
    "repos_clones_size['LOCC_total_SLOC'] = repos_clones_size['locc']/repos_clones_size['total_sloc']"
   ]
  },
  {
   "cell_type": "code",
   "execution_count": 18,
   "metadata": {},
   "outputs": [
    {
     "data": {
      "image/png": "[encoded data removed]",
      "text/plain": [
       "<Figure size 432x288 with 1 Axes>"
      ]
     },
     "metadata": {
      "needs_background": "light"
     },
     "output_type": "display_data"
    }
   ],
   "source": [
    "ml_trad_boxplot = sns.boxplot(x=\"project_type\", y=\"LOCC / total SLOC\", data=repos_clones_size, showfliers=False)\n",
    "#ml_trad_boxplot.set_yscale(\"log\")"
   ]
  },
  {
   "cell_type": "code",
   "execution_count": 19,
   "metadata": {},
   "outputs": [],
   "source": [
    "traditional = repos_clones_size[repos_clones_size['project_type']=='Traditional']\n",
    "dl = repos_clones_size[repos_clones_size['project_type']=='Deep Learning']"
   ]
  },
  {
   "cell_type": "code",
   "execution_count": 20,
   "metadata": {},
   "outputs": [
    {
     "data": {
      "text/plain": [
       "MannwhitneyuResult(statistic=25987.0, pvalue=5.146640278957621e-16)"
      ]
     },
     "execution_count": 20,
     "metadata": {},
     "output_type": "execute_result"
    }
   ],
   "source": [
    "stats.mannwhitneyu(traditional.LOCC_total_SLOC,dl.LOCC_total_SLOC)"
   ]
  },
  {
   "cell_type": "code",
   "execution_count": 22,
   "metadata": {},
   "outputs": [
    {
     "data": {
      "text/plain": [
       "MannwhitneyuResult(statistic=25987.0, pvalue=1.0293280557915242e-15)"
      ]
     },
     "execution_count": 22,
     "metadata": {},
     "output_type": "execute_result"
    }
   ],
   "source": [
    "stats.mannwhitneyu(traditional.LOCC_total_SLOC,dl.LOCC_total_SLOC, alternative='two-sided')"
   ]
  },
  {
   "cell_type": "code",
   "execution_count": 23,
   "metadata": {},
   "outputs": [
    {
     "data": {
      "text/plain": [
       "MannwhitneyuResult(statistic=58498.0, pvalue=1.0293280557915242e-15)"
      ]
     },
     "execution_count": 23,
     "metadata": {},
     "output_type": "execute_result"
    }
   ],
   "source": [
    "stats.mannwhitneyu(dl.LOCC_total_SLOC,traditional.LOCC_total_SLOC, alternative='two-sided')"
   ]
  },
  {
   "cell_type": "code",
   "execution_count": 32,
   "metadata": {},
   "outputs": [],
   "source": [
    "def runs(lst):\n",
    "    \"Iterator, chunks repeated values\"\n",
    "    for j,two in enumerate(lst):\n",
    "        if j == 0:\n",
    "            one,i = two,0\n",
    "        if one!=two:\n",
    "            yield j - i,one\n",
    "            i = j\n",
    "        one=two\n",
    "    yield j - i + 1,two\n",
    "def cliffsDelta(lst1,lst2): \n",
    "    \"Returns true if there are more than 'dull' differences\"\n",
    "    m, n = len(lst1), len(lst2)\n",
    "    lst2 = sorted(lst2)\n",
    "    j = more = less = 0\n",
    "    for repeats,x in runs(sorted(lst1)):\n",
    "        while j <= (n - 1) and lst2[j] <  x: \n",
    "            j += 1\n",
    "        more += j*repeats\n",
    "        while j <= (n - 1) and lst2[j] == x: \n",
    "            j += 1\n",
    "        less += (n - j)*repeats\n",
    "    d= (more - less) / (m*n) \n",
    "    return abs(d)"
   ]
  },
  {
   "cell_type": "code",
   "execution_count": 33,
   "metadata": {},
   "outputs": [
    {
     "data": {
      "text/plain": [
       "0.7479079126472155"
      ]
     },
     "execution_count": 33,
     "metadata": {},
     "output_type": "execute_result"
    }
   ],
   "source": [
    "cliffsDelta(traditional.LOCC_total_SLOC,dl.LOCC_total_SLOC)"
   ]
  },
  {
   "cell_type": "markdown",
   "metadata": {},
   "source": [
    "## By clone type"
   ]
  },
  {
   "cell_type": "code",
   "execution_count": 36,
   "metadata": {},
   "outputs": [
    {
     "data": {
      "text/plain": [
       "Text(0.5, 1.0, 'Clone occurrences by project type and by clone type')"
      ]
     },
     "execution_count": 36,
     "metadata": {},
     "output_type": "execute_result"
    },
    {
     "data": {
      "image/png": "[encoded data removed]",
      "text/plain": [
       "<Figure size 432x288 with 1 Axes>"
      ]
     },
     "metadata": {
      "needs_background": "light"
     },
     "output_type": "display_data"
    }
   ],
   "source": [
    "ml_trad_boxplot = sns.boxplot(x=\"project_type\", y=\"LOCC / total SLOC\", data=repos_clones_size, showfliers=False, hue='clone_type')\n",
    "ml_trad_boxplot.set_yscale(\"log\")\n",
    "ml_trad_boxplot.set(xlabel='Project Type', ylabel='log(LOCC / total SLOC)')\n",
    "plt.legend(loc='best')\n",
    "plt.title('Clone occurrences by project type and by clone type')"
   ]
  },
  {
   "cell_type": "code",
   "execution_count": 37,
   "metadata": {},
   "outputs": [],
   "source": [
    "trad_type1 = traditional[traditional['clone_type']=='Type 1']\n",
    "trad_type2 = traditional[traditional['clone_type']=='Type 2']\n",
    "trad_type3 = traditional[traditional['clone_type']=='Type 3']\n",
    "\n",
    "dl_type1 = dl[dl['clone_type']=='Type 1']\n",
    "dl_type2 = dl[dl['clone_type']=='Type 2']\n",
    "dl_type3 = dl[dl['clone_type']=='Type 3']"
   ]
  },
  {
   "cell_type": "code",
   "execution_count": 38,
   "metadata": {},
   "outputs": [
    {
     "data": {
      "text/plain": [
       "MannwhitneyuResult(statistic=1627.0, pvalue=3.2953094551306856e-12)"
      ]
     },
     "execution_count": 38,
     "metadata": {},
     "output_type": "execute_result"
    }
   ],
   "source": [
    "stats.mannwhitneyu(trad_type1.LOCC_total_SLOC,dl_type1.LOCC_total_SLOC)"
   ]
  },
  {
   "cell_type": "code",
   "execution_count": 39,
   "metadata": {},
   "outputs": [
    {
     "data": {
      "text/plain": [
       "MannwhitneyuResult(statistic=1812.0, pvalue=9.38365512744147e-10)"
      ]
     },
     "execution_count": 39,
     "metadata": {},
     "output_type": "execute_result"
    }
   ],
   "source": [
    "stats.mannwhitneyu(trad_type2.LOCC_total_SLOC,dl_type2.LOCC_total_SLOC)"
   ]
  },
  {
   "cell_type": "code",
   "execution_count": 40,
   "metadata": {},
   "outputs": [
    {
     "data": {
      "text/plain": [
       "MannwhitneyuResult(statistic=4186.0, pvalue=2.7205326923789545e-06)"
      ]
     },
     "execution_count": 40,
     "metadata": {},
     "output_type": "execute_result"
    }
   ],
   "source": [
    "stats.mannwhitneyu(trad_type3.LOCC_total_SLOC,dl_type3.LOCC_total_SLOC)"
   ]
  },
  {
   "cell_type": "code",
   "execution_count": 41,
   "metadata": {},
   "outputs": [
    {
     "data": {
      "text/plain": [
       "0.7832254853160776"
      ]
     },
     "execution_count": 41,
     "metadata": {},
     "output_type": "execute_result"
    }
   ],
   "source": [
    "cliffsDelta(trad_type1.LOCC_total_SLOC,dl_type1.LOCC_total_SLOC)"
   ]
  },
  {
   "cell_type": "code",
   "execution_count": 42,
   "metadata": {},
   "outputs": [
    {
     "data": {
      "text/plain": [
       "0.5262745098039215"
      ]
     },
     "execution_count": 42,
     "metadata": {},
     "output_type": "execute_result"
    }
   ],
   "source": [
    "cliffsDelta(trad_type2.LOCC_total_SLOC,dl_type2.LOCC_total_SLOC)"
   ]
  },
  {
   "cell_type": "code",
   "execution_count": 43,
   "metadata": {},
   "outputs": [
    {
     "data": {
      "text/plain": [
       "0.6464646464646465"
      ]
     },
     "execution_count": 43,
     "metadata": {},
     "output_type": "execute_result"
    }
   ],
   "source": [
    "cliffsDelta(trad_type3.LOCC_total_SLOC,dl_type3.LOCC_total_SLOC)"
   ]
  },
  {
   "cell_type": "code",
   "execution_count": 62,
   "metadata": {},
   "outputs": [],
   "source": [
    "def update_granularity(row):\n",
    "    granularity=row['granularity']\n",
    "    if 'block' in granularity:\n",
    "        return 'Block'\n",
    "    elif 'function' in granularity:\n",
    "        return 'Function'"
   ]
  },
  {
   "cell_type": "code",
   "execution_count": 63,
   "metadata": {},
   "outputs": [],
   "source": [
    "repos_clones_size['granularity']=repos_clones_size.apply(update_granularity, axis=1)"
   ]
  },
  {
   "cell_type": "code",
   "execution_count": 65,
   "metadata": {},
   "outputs": [],
   "source": [
    "repos_clones_size_block = repos_clones_size[repos_clones_size['granularity']=='Block']\n",
    "repos_clones_size_fct = repos_clones_size[repos_clones_size['granularity']=='Function']"
   ]
  },
  {
   "cell_type": "code",
   "execution_count": 66,
   "metadata": {},
   "outputs": [],
   "source": [
    "traditional_block = repos_clones_size_block[repos_clones_size_block['project_type']=='Traditional']\n",
    "dl_block = repos_clones_size_block[repos_clones_size_block['project_type']=='Deep Learning']\n",
    "traditional_fct = repos_clones_size_fct[repos_clones_size_fct['project_type']=='Traditional']\n",
    "dl_fct = repos_clones_size_fct[repos_clones_size_fct['project_type']=='Deep Learning']"
   ]
  },
  {
   "cell_type": "code",
   "execution_count": 67,
   "metadata": {},
   "outputs": [],
   "source": [
    "trad_type1_fct = traditional_fct[traditional_fct['clone_type']=='Type 1']\n",
    "trad_type2_fct = traditional_fct[traditional_fct['clone_type']=='Type 2']\n",
    "trad_type3_fct = traditional_fct[traditional_fct['clone_type']=='Type 3']\n",
    "\n",
    "dl_type1_fct =dl_fct[dl_fct['clone_type']=='Type 1']\n",
    "dl_type2_fct = dl_fct[dl_fct['clone_type']=='Type 2']\n",
    "dl_type3_fct = dl_fct[dl_fct['clone_type']=='Type 3']"
   ]
  },
  {
   "cell_type": "code",
   "execution_count": 68,
   "metadata": {},
   "outputs": [],
   "source": [
    "trad_type1_block = traditional_block[traditional_block['clone_type']=='Type 1']\n",
    "trad_type2_block = traditional_block[traditional_block['clone_type']=='Type 2']\n",
    "trad_type3_block = traditional_block[traditional_block['clone_type']=='Type 3']\n",
    "\n",
    "dl_type1_block = dl_block[dl_block['clone_type']=='Type 1']\n",
    "dl_type2_block = dl_block[dl_block['clone_type']=='Type 2']\n",
    "dl_type3_block = dl_block[dl_block['clone_type']=='Type 3']"
   ]
  },
  {
   "cell_type": "markdown",
   "metadata": {},
   "source": [
    "### function"
   ]
  },
  {
   "cell_type": "code",
   "execution_count": 69,
   "metadata": {},
   "outputs": [
    {
     "data": {
      "text/plain": [
       "MannwhitneyuResult(statistic=344.0, pvalue=3.1256716143260985e-06)"
      ]
     },
     "execution_count": 69,
     "metadata": {},
     "output_type": "execute_result"
    }
   ],
   "source": [
    "stats.mannwhitneyu(trad_type1_fct.LOCC_total_SLOC,dl_type1_fct.LOCC_total_SLOC)"
   ]
  },
  {
   "cell_type": "code",
   "execution_count": 73,
   "metadata": {},
   "outputs": [
    {
     "data": {
      "text/plain": [
       "0.5845410628019324"
      ]
     },
     "execution_count": 73,
     "metadata": {},
     "output_type": "execute_result"
    }
   ],
   "source": [
    "cliffsDelta(trad_type1_fct.LOCC_total_SLOC,dl_type1_fct.LOCC_total_SLOC)"
   ]
  },
  {
   "cell_type": "code",
   "execution_count": 71,
   "metadata": {},
   "outputs": [
    {
     "data": {
      "text/plain": [
       "MannwhitneyuResult(statistic=670.0, pvalue=3.382972751334123e-05)"
      ]
     },
     "execution_count": 71,
     "metadata": {},
     "output_type": "execute_result"
    }
   ],
   "source": [
    "stats.mannwhitneyu(trad_type2_fct.LOCC_total_SLOC,dl_type2_fct.LOCC_total_SLOC)"
   ]
  },
  {
   "cell_type": "code",
   "execution_count": 74,
   "metadata": {},
   "outputs": [
    {
     "data": {
      "text/plain": [
       "0.46314102564102566"
      ]
     },
     "execution_count": 74,
     "metadata": {},
     "output_type": "execute_result"
    }
   ],
   "source": [
    "cliffsDelta(trad_type2_fct.LOCC_total_SLOC,dl_type2_fct.LOCC_total_SLOC)"
   ]
  },
  {
   "cell_type": "code",
   "execution_count": 72,
   "metadata": {},
   "outputs": [
    {
     "data": {
      "text/plain": [
       "MannwhitneyuResult(statistic=1085.0, pvalue=0.001766510851886626)"
      ]
     },
     "execution_count": 72,
     "metadata": {},
     "output_type": "execute_result"
    }
   ],
   "source": [
    "stats.mannwhitneyu(trad_type3_fct.LOCC_total_SLOC,dl_type3_fct.LOCC_total_SLOC)"
   ]
  },
  {
   "cell_type": "code",
   "execution_count": 75,
   "metadata": {},
   "outputs": [
    {
     "data": {
      "text/plain": [
       "0.31889516635279347"
      ]
     },
     "execution_count": 75,
     "metadata": {},
     "output_type": "execute_result"
    }
   ],
   "source": [
    "cliffsDelta(trad_type3_fct.LOCC_total_SLOC,dl_type3_fct.LOCC_total_SLOC)"
   ]
  },
  {
   "cell_type": "markdown",
   "metadata": {},
   "source": [
    "### blocks"
   ]
  },
  {
   "cell_type": "code",
   "execution_count": 76,
   "metadata": {},
   "outputs": [
    {
     "data": {
      "text/plain": [
       "MannwhitneyuResult(statistic=458.0, pvalue=7.60737673214229e-08)"
      ]
     },
     "execution_count": 76,
     "metadata": {},
     "output_type": "execute_result"
    }
   ],
   "source": [
    "stats.mannwhitneyu(trad_type1_block.LOCC_total_SLOC,dl_type1_block.LOCC_total_SLOC)"
   ]
  },
  {
   "cell_type": "code",
   "execution_count": 77,
   "metadata": {},
   "outputs": [
    {
     "data": {
      "text/plain": [
       "0.617056856187291"
      ]
     },
     "execution_count": 77,
     "metadata": {},
     "output_type": "execute_result"
    }
   ],
   "source": [
    "cliffsDelta(trad_type1_block.LOCC_total_SLOC,dl_type1_block.LOCC_total_SLOC)"
   ]
  },
  {
   "cell_type": "code",
   "execution_count": 78,
   "metadata": {},
   "outputs": [
    {
     "data": {
      "text/plain": [
       "MannwhitneyuResult(statistic=282.0, pvalue=4.172758725088073e-06)"
      ]
     },
     "execution_count": 78,
     "metadata": {},
     "output_type": "execute_result"
    }
   ],
   "source": [
    "stats.mannwhitneyu(trad_type2_block.LOCC_total_SLOC,dl_type2_block.LOCC_total_SLOC)"
   ]
  },
  {
   "cell_type": "code",
   "execution_count": 79,
   "metadata": {},
   "outputs": [
    {
     "data": {
      "text/plain": [
       "0.5988620199146515"
      ]
     },
     "execution_count": 79,
     "metadata": {},
     "output_type": "execute_result"
    }
   ],
   "source": [
    "cliffsDelta(trad_type2_block.LOCC_total_SLOC,dl_type2_block.LOCC_total_SLOC)"
   ]
  },
  {
   "cell_type": "code",
   "execution_count": 80,
   "metadata": {},
   "outputs": [
    {
     "data": {
      "text/plain": [
       "MannwhitneyuResult(statistic=1016.0, pvalue=0.0002872876666620591)"
      ]
     },
     "execution_count": 80,
     "metadata": {},
     "output_type": "execute_result"
    }
   ],
   "source": [
    "stats.mannwhitneyu(trad_type3_block.LOCC_total_SLOC,dl_type3_block.LOCC_total_SLOC)"
   ]
  },
  {
   "cell_type": "code",
   "execution_count": 81,
   "metadata": {},
   "outputs": [
    {
     "data": {
      "text/plain": [
       "0.37438423645320196"
      ]
     },
     "execution_count": 81,
     "metadata": {},
     "output_type": "execute_result"
    }
   ],
   "source": [
    "cliffsDelta(trad_type3_block.LOCC_total_SLOC,dl_type3_block.LOCC_total_SLOC)"
   ]
  },
  {
   "cell_type": "code",
   "execution_count": 86,
   "metadata": {},
   "outputs": [
    {
     "data": {
      "text/plain": [
       "Text(0.5, 1.0, '(a) Block Granularity')"
      ]
     },
     "execution_count": 86,
     "metadata": {},
     "output_type": "execute_result"
    },
    {
     "data": {
      "image/png": "[encoded data removed]",
      "text/plain": [
       "<Figure size 432x288 with 1 Axes>"
      ]
     },
     "metadata": {
      "needs_background": "light"
     },
     "output_type": "display_data"
    }
   ],
   "source": [
    "ml_trad_boxplot = sns.boxplot(x=\"project_type\", y=\"LOCC / total SLOC\", data=repos_clones_size_block, showfliers=False, hue='clone_type')\n",
    "ml_trad_boxplot.set_yscale(\"log\")\n",
    "ml_trad_boxplot.set(xlabel='Project Type', ylabel='log(LOCC / total SLOC)')\n",
    "plt.legend(loc='best')\n",
    "plt.title('(a) Block Granularity')"
   ]
  },
  {
   "cell_type": "code",
   "execution_count": 87,
   "metadata": {},
   "outputs": [
    {
     "data": {
      "text/plain": [
       "Text(0.5, 1.0, '(a) Function Granularity')"
      ]
     },
     "execution_count": 87,
     "metadata": {},
     "output_type": "execute_result"
    },
    {
     "data": {
      "image/png": "[encoded data removed]",
      "text/plain": [
       "<Figure size 432x288 with 1 Axes>"
      ]
     },
     "metadata": {
      "needs_background": "light"
     },
     "output_type": "display_data"
    }
   ],
   "source": [
    "ml_trad_boxplot = sns.boxplot(x=\"project_type\", y=\"LOCC / total SLOC\", data=repos_clones_size_fct, showfliers=False, hue='clone_type')\n",
    "ml_trad_boxplot.set_yscale(\"log\")\n",
    "ml_trad_boxplot.set(xlabel='Project Type', ylabel='log(LOCC / total SLOC)')\n",
    "plt.legend(loc='best')\n",
    "plt.title('(a) Function Granularity')"
   ]
  },
  {
   "cell_type": "code",
   "execution_count": 94,
   "metadata": {},
   "outputs": [
    {
     "data": {
      "text/plain": [
       "Text(0.5, 1.0, '(a) Function Granularity')"
      ]
     },
     "execution_count": 94,
     "metadata": {},
     "output_type": "execute_result"
    },
    {
     "data": {
      "image/png": "[encoded data removed]",
      "text/plain": [
       "<Figure size 432x288 with 1 Axes>"
      ]
     },
     "metadata": {
      "needs_background": "light"
     },
     "output_type": "display_data"
    }
   ],
   "source": [
    "ml_trad_boxplot = sns.boxplot(x=\"project_type\", y=\"LOCC / total SLOC\", data=repos_clones_size_fct, showfliers=False)\n",
    "#ml_trad_boxplot.set_yscale(\"log\")\n",
    "plt.title('(a) Function Granularity')"
   ]
  },
  {
   "cell_type": "code",
   "execution_count": 95,
   "metadata": {},
   "outputs": [
    {
     "data": {
      "text/plain": [
       "Text(0.5, 1.0, '(a) Block Granularity')"
      ]
     },
     "execution_count": 95,
     "metadata": {},
     "output_type": "execute_result"
    },
    {
     "data": {
      "image/png": "[encoded data removed]",
      "text/plain": [
       "<Figure size 432x288 with 1 Axes>"
      ]
     },
     "metadata": {
      "needs_background": "light"
     },
     "output_type": "display_data"
    }
   ],
   "source": [
    "ml_trad_boxplot = sns.boxplot(x=\"project_type\", y=\"LOCC / total SLOC\", data=repos_clones_size_block, showfliers=False)\n",
    "#ml_trad_boxplot.set_yscale(\"log\")\n",
    "plt.title('(a) Block Granularity')"
   ]
  },
  {
   "cell_type": "code",
   "execution_count": 90,
   "metadata": {},
   "outputs": [
    {
     "data": {
      "text/plain": [
       "MannwhitneyuResult(statistic=5936.0, pvalue=3.0068434096511597e-10)"
      ]
     },
     "execution_count": 90,
     "metadata": {},
     "output_type": "execute_result"
    }
   ],
   "source": [
    "stats.mannwhitneyu(traditional_block.LOCC_total_SLOC,dl_block.LOCC_total_SLOC)"
   ]
  },
  {
   "cell_type": "code",
   "execution_count": 91,
   "metadata": {},
   "outputs": [
    {
     "data": {
      "text/plain": [
       "0.5269298075053471"
      ]
     },
     "execution_count": 91,
     "metadata": {},
     "output_type": "execute_result"
    }
   ],
   "source": [
    "cliffsDelta(traditional_block.LOCC_total_SLOC,dl_block.LOCC_total_SLOC)"
   ]
  },
  {
   "cell_type": "code",
   "execution_count": 92,
   "metadata": {},
   "outputs": [
    {
     "data": {
      "text/plain": [
       "MannwhitneyuResult(statistic=7111.0, pvalue=1.7841482512278643e-07)"
      ]
     },
     "execution_count": 92,
     "metadata": {},
     "output_type": "execute_result"
    }
   ],
   "source": [
    "stats.mannwhitneyu(traditional_fct.LOCC_total_SLOC,dl_fct.LOCC_total_SLOC)"
   ]
  },
  {
   "cell_type": "code",
   "execution_count": 93,
   "metadata": {},
   "outputs": [
    {
     "data": {
      "text/plain": [
       "0.80374780762485"
      ]
     },
     "execution_count": 93,
     "metadata": {},
     "output_type": "execute_result"
    }
   ],
   "source": [
    "cliffsDelta(traditional_fct.LOCC_total_SLOC,dl_fct.LOCC_total_SLOC)"
   ]
  },
  {
   "cell_type": "code",
   "execution_count": null,
   "metadata": {},
   "outputs": [],
   "source": []
  },
  {
   "cell_type": "code",
   "execution_count": null,
   "metadata": {},
   "outputs": [],
   "source": []
  }
 ],
 "metadata": {
  "kernelspec": {
   "display_name": "Python 3",
   "language": "python",
   "name": "python3"
  },
  "language_info": {
   "codemirror_mode": {
    "name": "ipython",
    "version": 3
   },
   "file_extension": ".py",
   "mimetype": "text/x-python",
   "name": "python",
   "nbconvert_exporter": "python",
   "pygments_lexer": "ipython3",
   "version": "3.7.4"
  }
 },
 "nbformat": 4,
 "nbformat_minor": 2
}
