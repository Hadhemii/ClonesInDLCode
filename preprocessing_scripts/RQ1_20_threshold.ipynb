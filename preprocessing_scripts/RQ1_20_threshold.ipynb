{
 "cells": [
  {
   "cell_type": "code",
   "execution_count": 1,
   "metadata": {},
   "outputs": [],
   "source": [
    "import pandas as pd\n",
    "import seaborn as sns\n",
    "import warnings\n",
    "warnings.filterwarnings('ignore')\n",
    "import matplotlib.pyplot as plt\n",
    "from scipy import stats\n",
    "import numpy as np\n",
    "from itertools import cycle\n",
    "from matplotlib.patches import Patch"
   ]
  },
  {
   "cell_type": "code",
   "execution_count": 2,
   "metadata": {},
   "outputs": [],
   "source": [
    "global bar\n",
    "def textured_box(bar):\n",
    "    # Define some hatches\n",
    "    hatches = cycle(['///','x', '*', 'o','-', '+', '\\\\'])\n",
    "\n",
    "    # Loop over the bars\n",
    "    for i,thisbar in enumerate(bar.artists):\n",
    "        # Set a different hatch for each bar\n",
    "        thisbar.set_hatch(hatches[i])"
   ]
  },
  {
   "cell_type": "code",
   "execution_count": 3,
   "metadata": {},
   "outputs": [],
   "source": [
    "global bar\n",
    "global num_metrics\n",
    "hatches = cycle(['///','x', '*', 'o','-', '+', '\\\\'])\n",
    "def textured_box(bar,num_metrics):\n",
    "    \n",
    "    for i, patch in enumerate(bar.artists):\n",
    "        # Blue bars first, then green bars\n",
    "        if i % num_metrics == 0:\n",
    "            hatch = next(hatches)\n",
    "        patch.set_hatch(hatch)"
   ]
  },
  {
   "cell_type": "code",
   "execution_count": 4,
   "metadata": {},
   "outputs": [],
   "source": [
    "global bar\n",
    "def textured_box(bar):\n",
    "    #Loop over the bars\n",
    "    hatches = [\"/\", \"o\", \"*\", \"\\\\\"]\n",
    "    for hatch, patch in zip(hatches, ml_trad_boxplot.artists):\n",
    "        patch.set_hatch(hatch)\n",
    " "
   ]
  },
  {
   "cell_type": "code",
   "execution_count": 5,
   "metadata": {},
   "outputs": [],
   "source": [
    "# ax.patches[5].set_hatch('x')\n",
    "from matplotlib.patches import Patch\n"
   ]
  },
  {
   "cell_type": "markdown",
   "metadata": {},
   "source": [
    "## Clone density distribution"
   ]
  },
  {
   "cell_type": "code",
   "execution_count": 7,
   "metadata": {},
   "outputs": [],
   "source": [
    "dl_all = pd.read_csv('dl_t20_single-type/dl_t20_clean.csv')\n",
    "trad_all = pd.read_csv('trad_t20_single-type/trad_t20_clean.csv')"
   ]
  },
  {
   "cell_type": "code",
   "execution_count": 8,
   "metadata": {},
   "outputs": [],
   "source": [
    "dl_all_clones_java = dl_all[dl_all['language']=='java']\n",
    "trad_all_clones_java = trad_all[trad_all['language']=='java']\n",
    "dl_all_clones_csharp = dl_all[dl_all['language']=='csharp']\n",
    "trad_all_clones_csharp = trad_all[trad_all['language']=='csharp']\n"
   ]
  },
  {
   "cell_type": "code",
   "execution_count": 10,
   "metadata": {},
   "outputs": [],
   "source": [
    "dl_all_clones_csharp['project_type']='Deep Learning'\n",
    "trad_all_clones_csharp['project_type']='Traditional'\n",
    "dl_all_clones_java['project_type']='Deep Learning'\n",
    "trad_all_clones_java['project_type']='Traditional'"
   ]
  },
  {
   "cell_type": "code",
   "execution_count": 9,
   "metadata": {},
   "outputs": [],
   "source": [
    "dl_all_clones_java_t1 = dl_all_clones_java[dl_all_clones_java['clone_type']=='Type 1']\n",
    "dl_all_clones_java_t2 = dl_all_clones_java[dl_all_clones_java['clone_type']=='Type 2']\n",
    "dl_all_clones_java_t3 = dl_all_clones_java[dl_all_clones_java['clone_type']=='Type 3']\n",
    "trad_all_clones_java_t1 = trad_all_clones_java[trad_all_clones_java['clone_type']=='Type 1']\n",
    "trad_all_clones_java_t2 = trad_all_clones_java[trad_all_clones_java['clone_type']=='Type 2']\n",
    "trad_all_clones_java_t3 = trad_all_clones_java[trad_all_clones_java['clone_type']=='Type 3']\n",
    "dl_all_clones_csharp_t1 = dl_all_clones_csharp[dl_all_clones_csharp['clone_type']=='Type 1']\n",
    "dl_all_clones_csharp_t2 = dl_all_clones_csharp[dl_all_clones_csharp['clone_type']=='Type 2']\n",
    "dl_all_clones_csharp_t3 = dl_all_clones_csharp[dl_all_clones_csharp['clone_type']=='Type 3']\n",
    "trad_all_clones_csharp_t1 = trad_all_clones_csharp[trad_all_clones_csharp['clone_type']=='Type 1']\n",
    "trad_all_clones_csharp_t2 = trad_all_clones_csharp[trad_all_clones_csharp['clone_type']=='Type 2']\n",
    "trad_all_clones_csharp_t3 = trad_all_clones_csharp[trad_all_clones_csharp['clone_type']=='Type 3']"
   ]
  },
  {
   "cell_type": "code",
   "execution_count": 11,
   "metadata": {},
   "outputs": [
    {
     "data": {
      "text/plain": [
       "6"
      ]
     },
     "execution_count": 11,
     "metadata": {},
     "output_type": "execute_result"
    }
   ],
   "source": [
    "dl_repos_size_java = pd.read_csv(\"data/dl_java_loc.csv\")\n",
    "trad_repos_size_java = pd.read_csv(\"data/trad_java_loc.csv\")\n",
    "dl_repos_size_java.shape[0]"
   ]
  },
  {
   "cell_type": "code",
   "execution_count": 12,
   "metadata": {},
   "outputs": [
    {
     "data": {
      "text/plain": [
       "14"
      ]
     },
     "execution_count": 12,
     "metadata": {},
     "output_type": "execute_result"
    }
   ],
   "source": [
    "dl_repos_size_csharp = pd.read_csv(\"data/dl_csharp_loc.csv\")\n",
    "trad_repos_size_csharp = pd.read_csv(\"data/trad_csharp_loc.csv\")\n",
    "dl_repos_size_csharp.shape[0]"
   ]
  },
  {
   "cell_type": "code",
   "execution_count": 14,
   "metadata": {},
   "outputs": [],
   "source": [
    "dl_repos_size_java['language']='java'\n",
    "dl_repos_size_java['project_type']='Deep Learning'\n",
    "trad_repos_size_java['language']='java'\n",
    "trad_repos_size_java['project_type']='Deep Learning'\n",
    "dl_repos_size_csharp['language']='csharp'\n",
    "dl_repos_size_csharp['project_type']='Deep Learning'\n",
    "trad_repos_size_csharp['language']='csharp'\n",
    "trad_repos_size_csharp['project_type']='Traditional'"
   ]
  },
  {
   "cell_type": "code",
   "execution_count": 15,
   "metadata": {},
   "outputs": [],
   "source": [
    "otherLanguages_sloc = pd.concat([dl_repos_size_java,trad_repos_size_java])\n",
    "otherLanguages_sloc = pd.concat([otherLanguages_sloc,dl_repos_size_csharp])\n",
    "otherLanguages_sloc = pd.concat([otherLanguages_sloc,trad_repos_size_csharp])"
   ]
  },
  {
   "cell_type": "code",
   "execution_count": 28,
   "metadata": {},
   "outputs": [],
   "source": [
    "# don't\n",
    "# otherLanguages_sloc.to_csv('data/all_otherLanguages_sloc.csv', index=False)"
   ]
  },
  {
   "cell_type": "code",
   "execution_count": 17,
   "metadata": {},
   "outputs": [],
   "source": [
    "dl_all['project_type']='Deep Learning'\n",
    "trad_all['project_type']='Traditional'"
   ]
  },
  {
   "cell_type": "code",
   "execution_count": 18,
   "metadata": {},
   "outputs": [],
   "source": [
    "all_clones = pd.concat([dl_all,trad_all])"
   ]
  },
  {
   "cell_type": "code",
   "execution_count": 19,
   "metadata": {},
   "outputs": [
    {
     "data": {
      "text/plain": [
       "282411"
      ]
     },
     "execution_count": 19,
     "metadata": {},
     "output_type": "execute_result"
    }
   ],
   "source": [
    "all_clones.shape[0]"
   ]
  },
  {
   "cell_type": "code",
   "execution_count": null,
   "metadata": {},
   "outputs": [],
   "source": []
  },
  {
   "cell_type": "code",
   "execution_count": 20,
   "metadata": {},
   "outputs": [],
   "source": [
    "def get_locc(row):\n",
    "    startline=row['startline']\n",
    "    endline = row['endline']\n",
    "    return endline - startline +1 # added +1"
   ]
  },
  {
   "cell_type": "code",
   "execution_count": 21,
   "metadata": {},
   "outputs": [],
   "source": [
    "def update_granularity(row):\n",
    "    granularity=row['granularity']\n",
    "    if 'block' in granularity:\n",
    "        return 'Block'\n",
    "    elif 'function' in granularity:\n",
    "        return 'Function'\n",
    "    else:\n",
    "        return row.granularity"
   ]
  },
  {
   "cell_type": "code",
   "execution_count": 22,
   "metadata": {
    "scrolled": true
   },
   "outputs": [
    {
     "data": {
      "text/plain": [
       "282411"
      ]
     },
     "execution_count": 22,
     "metadata": {},
     "output_type": "execute_result"
    }
   ],
   "source": [
    "all_clones['locc']=all_clones.apply(get_locc, axis=1)\n",
    "all_clones.shape[0]"
   ]
  },
  {
   "cell_type": "code",
   "execution_count": 23,
   "metadata": {},
   "outputs": [
    {
     "data": {
      "text/html": [
       "<div>\n",
       "<style scoped>\n",
       "    .dataframe tbody tr th:only-of-type {\n",
       "        vertical-align: middle;\n",
       "    }\n",
       "\n",
       "    .dataframe tbody tr th {\n",
       "        vertical-align: top;\n",
       "    }\n",
       "\n",
       "    .dataframe thead th {\n",
       "        text-align: right;\n",
       "    }\n",
       "</style>\n",
       "<table border=\"1\" class=\"dataframe\">\n",
       "  <thead>\n",
       "    <tr style=\"text-align: right;\">\n",
       "      <th></th>\n",
       "      <th>repoName</th>\n",
       "      <th>clone_type</th>\n",
       "      <th>classid</th>\n",
       "      <th>similarity</th>\n",
       "      <th>granularity</th>\n",
       "      <th>file</th>\n",
       "      <th>startline</th>\n",
       "      <th>endline</th>\n",
       "      <th>language</th>\n",
       "      <th>project_type</th>\n",
       "      <th>locc</th>\n",
       "    </tr>\n",
       "  </thead>\n",
       "  <tbody>\n",
       "    <tr>\n",
       "      <td>0</td>\n",
       "      <td>SharpNet</td>\n",
       "      <td>type 1</td>\n",
       "      <td>1</td>\n",
       "      <td>100</td>\n",
       "      <td>Function</td>\n",
       "      <td>/tmpstore/bimus/repositories/csharp/SharpNet/P...</td>\n",
       "      <td>816</td>\n",
       "      <td>822</td>\n",
       "      <td>csharp</td>\n",
       "      <td>Deep Learning</td>\n",
       "      <td>7</td>\n",
       "    </tr>\n",
       "    <tr>\n",
       "      <td>1</td>\n",
       "      <td>SharpNet</td>\n",
       "      <td>type 1</td>\n",
       "      <td>1</td>\n",
       "      <td>100</td>\n",
       "      <td>Function</td>\n",
       "      <td>/tmpstore/bimus/repositories/csharp/SharpNet/P...</td>\n",
       "      <td>1028</td>\n",
       "      <td>1034</td>\n",
       "      <td>csharp</td>\n",
       "      <td>Deep Learning</td>\n",
       "      <td>7</td>\n",
       "    </tr>\n",
       "    <tr>\n",
       "      <td>2</td>\n",
       "      <td>SharpNet</td>\n",
       "      <td>type 1</td>\n",
       "      <td>2</td>\n",
       "      <td>100</td>\n",
       "      <td>Function</td>\n",
       "      <td>/tmpstore/bimus/repositories/csharp/SharpNet/P...</td>\n",
       "      <td>64</td>\n",
       "      <td>73</td>\n",
       "      <td>csharp</td>\n",
       "      <td>Deep Learning</td>\n",
       "      <td>10</td>\n",
       "    </tr>\n",
       "    <tr>\n",
       "      <td>3</td>\n",
       "      <td>SharpNet</td>\n",
       "      <td>type 1</td>\n",
       "      <td>2</td>\n",
       "      <td>100</td>\n",
       "      <td>Function</td>\n",
       "      <td>/tmpstore/bimus/repositories/csharp/SharpNet/P...</td>\n",
       "      <td>50</td>\n",
       "      <td>59</td>\n",
       "      <td>csharp</td>\n",
       "      <td>Deep Learning</td>\n",
       "      <td>10</td>\n",
       "    </tr>\n",
       "    <tr>\n",
       "      <td>4</td>\n",
       "      <td>KelpNet</td>\n",
       "      <td>type 1</td>\n",
       "      <td>1</td>\n",
       "      <td>100</td>\n",
       "      <td>Block</td>\n",
       "      <td>/tmpstore/bimus/repositories/csharp/KelpNet/Ke...</td>\n",
       "      <td>13</td>\n",
       "      <td>33</td>\n",
       "      <td>csharp</td>\n",
       "      <td>Deep Learning</td>\n",
       "      <td>21</td>\n",
       "    </tr>\n",
       "  </tbody>\n",
       "</table>\n",
       "</div>"
      ],
      "text/plain": [
       "   repoName clone_type  classid  similarity granularity  \\\n",
       "0  SharpNet     type 1        1         100    Function   \n",
       "1  SharpNet     type 1        1         100    Function   \n",
       "2  SharpNet     type 1        2         100    Function   \n",
       "3  SharpNet     type 1        2         100    Function   \n",
       "4   KelpNet     type 1        1         100       Block   \n",
       "\n",
       "                                                file  startline  endline  \\\n",
       "0  /tmpstore/bimus/repositories/csharp/SharpNet/P...        816      822   \n",
       "1  /tmpstore/bimus/repositories/csharp/SharpNet/P...       1028     1034   \n",
       "2  /tmpstore/bimus/repositories/csharp/SharpNet/P...         64       73   \n",
       "3  /tmpstore/bimus/repositories/csharp/SharpNet/P...         50       59   \n",
       "4  /tmpstore/bimus/repositories/csharp/KelpNet/Ke...         13       33   \n",
       "\n",
       "  language   project_type  locc  \n",
       "0   csharp  Deep Learning     7  \n",
       "1   csharp  Deep Learning     7  \n",
       "2   csharp  Deep Learning    10  \n",
       "3   csharp  Deep Learning    10  \n",
       "4   csharp  Deep Learning    21  "
      ]
     },
     "execution_count": 23,
     "metadata": {},
     "output_type": "execute_result"
    }
   ],
   "source": [
    "# all_clones['granularity']=all_clones.apply(update_granularity, axis=1)\n",
    "all_clones.head()"
   ]
  },
  {
   "cell_type": "code",
   "execution_count": 24,
   "metadata": {},
   "outputs": [],
   "source": [
    "all_clones.to_csv('data/all_dl_trad_clones_20.csv', index=False)"
   ]
  },
  {
   "cell_type": "code",
   "execution_count": 23,
   "metadata": {},
   "outputs": [],
   "source": [
    "# load clones if preprocessed and saved\n",
    "all_clones= pd.read_csv('data/all_dl_trad_clones_20.csv')"
   ]
  },
  {
   "cell_type": "code",
   "execution_count": 25,
   "metadata": {},
   "outputs": [],
   "source": [
    "clones_by_type = all_clones.groupby(['repoName','granularity','clone_type','language','project_type']).agg({'locc':'sum'}).reset_index()"
   ]
  },
  {
   "cell_type": "code",
   "execution_count": 134,
   "metadata": {},
   "outputs": [
    {
     "data": {
      "text/plain": [
       "40"
      ]
     },
     "execution_count": 134,
     "metadata": {},
     "output_type": "execute_result"
    }
   ],
   "source": [
    "trad_repos_size_java = pd.read_csv(\"data/otherLanguages/trad_java_loc.csv\")\n",
    "trad_repos_size_java['repo'] = trad_repos_size_java['repoName_path'].apply(lambda x: x.split('/')[-1])\n",
    "trad_repos_size_csharp = pd.read_csv(\"data/otherLanguages/trad_csharp_loc.csv\")\n",
    "trad_repos_size = pd.concat([trad_repos_size_java,trad_repos_size_csharp])\n",
    "repos_size = pd.concat([dl_repos_size, trad_repos_size])\n",
    "repos_size.rename(columns={'repo':'repoName'}, inplace=True)\n",
    "repos_size.shape[0]"
   ]
  },
  {
   "cell_type": "code",
   "execution_count": 135,
   "metadata": {},
   "outputs": [
    {
     "data": {
      "text/plain": [
       "array(['neuralnetworks', 'SANNet', 'DeepDriver', 'deeplearning4j',\n",
       "       'knime-deeplearning', 'djl', 'ConvNetSharp', 'SiaNet', 'KelpNet',\n",
       "       'MyCaffe', 'RNNSharp', 'SharpNet', 'TensorShader', 'keras-sharp',\n",
       "       'CeNiN', 'Seq2SeqSharp', 'Vortex', 'FaceONNX', 'NeuralNetwork.NET',\n",
       "       'Keras.NET', 'spring-framework', 'framework', 'okhttp', 'retrofit',\n",
       "       'dubbo', 'MPAndroidChart', 'EntityFramework.Extended',\n",
       "       'LockstepFramework', 'AspectCore-Framework',\n",
       "       'Pomelo.EntityFrameworkCore.MySql', 'aspnetboilerplate',\n",
       "       'MassTransit', 'shadowsocks-windows', 'PowerShell', 'ShareX',\n",
       "       'ScreenToGif', 'Dapper', 'Avalonia', 'jellyfin', 'efcore'],\n",
       "      dtype=object)"
      ]
     },
     "execution_count": 135,
     "metadata": {},
     "output_type": "execute_result"
    }
   ],
   "source": [
    "repos_size['repoName'].unique()"
   ]
  },
  {
   "cell_type": "code",
   "execution_count": 93,
   "metadata": {},
   "outputs": [],
   "source": [
    "otherLanguages_sloc = pd.read_csv('data/all_otherLanguages_sloc.csv')"
   ]
  },
  {
   "cell_type": "code",
   "execution_count": 95,
   "metadata": {},
   "outputs": [],
   "source": [
    "sloc = otherLanguages_sloc[['repoName', 'total_sloc']]"
   ]
  },
  {
   "cell_type": "code",
   "execution_count": 96,
   "metadata": {},
   "outputs": [
    {
     "data": {
      "text/html": [
       "<div>\n",
       "<style scoped>\n",
       "    .dataframe tbody tr th:only-of-type {\n",
       "        vertical-align: middle;\n",
       "    }\n",
       "\n",
       "    .dataframe tbody tr th {\n",
       "        vertical-align: top;\n",
       "    }\n",
       "\n",
       "    .dataframe thead th {\n",
       "        text-align: right;\n",
       "    }\n",
       "</style>\n",
       "<table border=\"1\" class=\"dataframe\">\n",
       "  <thead>\n",
       "    <tr style=\"text-align: right;\">\n",
       "      <th></th>\n",
       "      <th>repoName</th>\n",
       "      <th>granularity</th>\n",
       "      <th>clone_type</th>\n",
       "      <th>language</th>\n",
       "      <th>project_type</th>\n",
       "      <th>locc</th>\n",
       "      <th>total_sloc</th>\n",
       "    </tr>\n",
       "  </thead>\n",
       "  <tbody>\n",
       "    <tr>\n",
       "      <td>0</td>\n",
       "      <td>AspectCore-Framework</td>\n",
       "      <td>Block</td>\n",
       "      <td>type 1</td>\n",
       "      <td>csharp</td>\n",
       "      <td>Traditional</td>\n",
       "      <td>497</td>\n",
       "      <td>17316</td>\n",
       "    </tr>\n",
       "    <tr>\n",
       "      <td>1</td>\n",
       "      <td>AspectCore-Framework</td>\n",
       "      <td>Block</td>\n",
       "      <td>type 2</td>\n",
       "      <td>csharp</td>\n",
       "      <td>Traditional</td>\n",
       "      <td>1176</td>\n",
       "      <td>17316</td>\n",
       "    </tr>\n",
       "    <tr>\n",
       "      <td>2</td>\n",
       "      <td>AspectCore-Framework</td>\n",
       "      <td>Block</td>\n",
       "      <td>type 3</td>\n",
       "      <td>csharp</td>\n",
       "      <td>Traditional</td>\n",
       "      <td>2811</td>\n",
       "      <td>17316</td>\n",
       "    </tr>\n",
       "    <tr>\n",
       "      <td>3</td>\n",
       "      <td>AspectCore-Framework</td>\n",
       "      <td>Function</td>\n",
       "      <td>type 1</td>\n",
       "      <td>csharp</td>\n",
       "      <td>Traditional</td>\n",
       "      <td>134</td>\n",
       "      <td>17316</td>\n",
       "    </tr>\n",
       "    <tr>\n",
       "      <td>4</td>\n",
       "      <td>AspectCore-Framework</td>\n",
       "      <td>Function</td>\n",
       "      <td>type 2</td>\n",
       "      <td>csharp</td>\n",
       "      <td>Traditional</td>\n",
       "      <td>939</td>\n",
       "      <td>17316</td>\n",
       "    </tr>\n",
       "  </tbody>\n",
       "</table>\n",
       "</div>"
      ],
      "text/plain": [
       "               repoName granularity clone_type language project_type  locc  \\\n",
       "0  AspectCore-Framework       Block     type 1   csharp  Traditional   497   \n",
       "1  AspectCore-Framework       Block     type 2   csharp  Traditional  1176   \n",
       "2  AspectCore-Framework       Block     type 3   csharp  Traditional  2811   \n",
       "3  AspectCore-Framework    Function     type 1   csharp  Traditional   134   \n",
       "4  AspectCore-Framework    Function     type 2   csharp  Traditional   939   \n",
       "\n",
       "   total_sloc  \n",
       "0       17316  \n",
       "1       17316  \n",
       "2       17316  \n",
       "3       17316  \n",
       "4       17316  "
      ]
     },
     "execution_count": 96,
     "metadata": {},
     "output_type": "execute_result"
    }
   ],
   "source": [
    "repos_clones_size = pd.merge(clones_by_type,sloc,how='left', on=['repoName'])\n",
    "repos_clones_size.head()"
   ]
  },
  {
   "cell_type": "code",
   "execution_count": 97,
   "metadata": {},
   "outputs": [],
   "source": [
    "repos_clones_size = repos_clones_size[repos_clones_size['total_sloc'] !=0]"
   ]
  },
  {
   "cell_type": "code",
   "execution_count": 98,
   "metadata": {},
   "outputs": [],
   "source": [
    "repos_clones_size['LOCC / total SLOC'] = repos_clones_size['locc']/repos_clones_size['total_sloc']"
   ]
  },
  {
   "cell_type": "code",
   "execution_count": 99,
   "metadata": {},
   "outputs": [],
   "source": [
    "repos_clones_size['LOCC_total_SLOC'] = repos_clones_size['locc']/repos_clones_size['total_sloc']"
   ]
  },
  {
   "cell_type": "code",
   "execution_count": 140,
   "metadata": {},
   "outputs": [
    {
     "data": {
      "text/plain": [
       "231"
      ]
     },
     "execution_count": 140,
     "metadata": {},
     "output_type": "execute_result"
    }
   ],
   "source": [
    "repos_clones_size.shape[0]"
   ]
  },
  {
   "cell_type": "code",
   "execution_count": 100,
   "metadata": {},
   "outputs": [],
   "source": [
    "repos_clones_size.to_csv('data/repos_clones_size_all_20.csv', index=False)"
   ]
  },
  {
   "cell_type": "code",
   "execution_count": 101,
   "metadata": {},
   "outputs": [],
   "source": [
    "def runs(lst):\n",
    "    \"Iterator, chunks repeated values\"\n",
    "    for j,two in enumerate(lst):\n",
    "        if j == 0:\n",
    "            one,i = two,0\n",
    "        if one!=two:\n",
    "            yield j - i,one\n",
    "            i = j\n",
    "        one=two\n",
    "    yield j - i + 1, two\n",
    "\n",
    "def cliffsDelta(lst1,lst2): \n",
    "    \"Returns true if there are more than 'dull' differences\"\n",
    "    m, n = len(lst1), len(lst2)\n",
    "    lst2 = sorted(lst2)\n",
    "    j = more = less = 0\n",
    "    for repeats,x in runs(sorted(lst1)):\n",
    "        while j <= (n - 1) and lst2[j] <  x: \n",
    "            j += 1\n",
    "        more += j*repeats\n",
    "        while j <= (n - 1) and lst2[j] == x: \n",
    "            j += 1\n",
    "        less += (n - j)*repeats\n",
    "    d= (more - less) / (m*n) \n",
    "    return abs(d)"
   ]
  },
  {
   "cell_type": "code",
   "execution_count": null,
   "metadata": {},
   "outputs": [],
   "source": []
  },
  {
   "cell_type": "code",
   "execution_count": 102,
   "metadata": {},
   "outputs": [],
   "source": [
    "# load data if preprocessed and saved\n",
    "repos_clones_size= pd.read_csv('data/repos_clones_size_all_20.csv')"
   ]
  },
  {
   "cell_type": "code",
   "execution_count": 104,
   "metadata": {},
   "outputs": [
    {
     "data": {
      "text/html": [
       "<div>\n",
       "<style scoped>\n",
       "    .dataframe tbody tr th:only-of-type {\n",
       "        vertical-align: middle;\n",
       "    }\n",
       "\n",
       "    .dataframe tbody tr th {\n",
       "        vertical-align: top;\n",
       "    }\n",
       "\n",
       "    .dataframe thead th {\n",
       "        text-align: right;\n",
       "    }\n",
       "</style>\n",
       "<table border=\"1\" class=\"dataframe\">\n",
       "  <thead>\n",
       "    <tr style=\"text-align: right;\">\n",
       "      <th></th>\n",
       "      <th>repoName</th>\n",
       "      <th>granularity</th>\n",
       "      <th>clone_type</th>\n",
       "      <th>language</th>\n",
       "      <th>project_type</th>\n",
       "      <th>locc</th>\n",
       "      <th>total_sloc</th>\n",
       "      <th>LOCC / total SLOC</th>\n",
       "      <th>LOCC_total_SLOC</th>\n",
       "    </tr>\n",
       "  </thead>\n",
       "  <tbody>\n",
       "    <tr>\n",
       "      <td>0</td>\n",
       "      <td>AspectCore-Framework</td>\n",
       "      <td>Block</td>\n",
       "      <td>type 1</td>\n",
       "      <td>csharp</td>\n",
       "      <td>Traditional</td>\n",
       "      <td>497</td>\n",
       "      <td>17316</td>\n",
       "      <td>0.028702</td>\n",
       "      <td>0.028702</td>\n",
       "    </tr>\n",
       "    <tr>\n",
       "      <td>1</td>\n",
       "      <td>AspectCore-Framework</td>\n",
       "      <td>Block</td>\n",
       "      <td>type 2</td>\n",
       "      <td>csharp</td>\n",
       "      <td>Traditional</td>\n",
       "      <td>1176</td>\n",
       "      <td>17316</td>\n",
       "      <td>0.067914</td>\n",
       "      <td>0.067914</td>\n",
       "    </tr>\n",
       "    <tr>\n",
       "      <td>2</td>\n",
       "      <td>AspectCore-Framework</td>\n",
       "      <td>Block</td>\n",
       "      <td>type 3</td>\n",
       "      <td>csharp</td>\n",
       "      <td>Traditional</td>\n",
       "      <td>2811</td>\n",
       "      <td>17316</td>\n",
       "      <td>0.162335</td>\n",
       "      <td>0.162335</td>\n",
       "    </tr>\n",
       "    <tr>\n",
       "      <td>3</td>\n",
       "      <td>AspectCore-Framework</td>\n",
       "      <td>Function</td>\n",
       "      <td>type 1</td>\n",
       "      <td>csharp</td>\n",
       "      <td>Traditional</td>\n",
       "      <td>134</td>\n",
       "      <td>17316</td>\n",
       "      <td>0.007739</td>\n",
       "      <td>0.007739</td>\n",
       "    </tr>\n",
       "    <tr>\n",
       "      <td>4</td>\n",
       "      <td>AspectCore-Framework</td>\n",
       "      <td>Function</td>\n",
       "      <td>type 2</td>\n",
       "      <td>csharp</td>\n",
       "      <td>Traditional</td>\n",
       "      <td>939</td>\n",
       "      <td>17316</td>\n",
       "      <td>0.054227</td>\n",
       "      <td>0.054227</td>\n",
       "    </tr>\n",
       "  </tbody>\n",
       "</table>\n",
       "</div>"
      ],
      "text/plain": [
       "               repoName granularity clone_type language project_type  locc  \\\n",
       "0  AspectCore-Framework       Block     type 1   csharp  Traditional   497   \n",
       "1  AspectCore-Framework       Block     type 2   csharp  Traditional  1176   \n",
       "2  AspectCore-Framework       Block     type 3   csharp  Traditional  2811   \n",
       "3  AspectCore-Framework    Function     type 1   csharp  Traditional   134   \n",
       "4  AspectCore-Framework    Function     type 2   csharp  Traditional   939   \n",
       "\n",
       "   total_sloc  LOCC / total SLOC  LOCC_total_SLOC  \n",
       "0       17316           0.028702         0.028702  \n",
       "1       17316           0.067914         0.067914  \n",
       "2       17316           0.162335         0.162335  \n",
       "3       17316           0.007739         0.007739  \n",
       "4       17316           0.054227         0.054227  "
      ]
     },
     "execution_count": 104,
     "metadata": {},
     "output_type": "execute_result"
    }
   ],
   "source": [
    "repos_clones_size.head()"
   ]
  },
  {
   "cell_type": "code",
   "execution_count": 105,
   "metadata": {
    "scrolled": true
   },
   "outputs": [
    {
     "data": {
      "text/html": [
       "<div>\n",
       "<style scoped>\n",
       "    .dataframe tbody tr th:only-of-type {\n",
       "        vertical-align: middle;\n",
       "    }\n",
       "\n",
       "    .dataframe tbody tr th {\n",
       "        vertical-align: top;\n",
       "    }\n",
       "\n",
       "    .dataframe thead th {\n",
       "        text-align: right;\n",
       "    }\n",
       "</style>\n",
       "<table border=\"1\" class=\"dataframe\">\n",
       "  <thead>\n",
       "    <tr style=\"text-align: right;\">\n",
       "      <th></th>\n",
       "      <th>repoName</th>\n",
       "      <th>granularity</th>\n",
       "      <th>clone_type</th>\n",
       "      <th>language</th>\n",
       "      <th>project_type</th>\n",
       "      <th>locc</th>\n",
       "      <th>total_sloc</th>\n",
       "      <th>LOCC / total SLOC</th>\n",
       "      <th>LOCC_total_SLOC</th>\n",
       "    </tr>\n",
       "  </thead>\n",
       "  <tbody>\n",
       "    <tr>\n",
       "      <td>0</td>\n",
       "      <td>AspectCore-Framework</td>\n",
       "      <td>Block</td>\n",
       "      <td>type 1</td>\n",
       "      <td>csharp</td>\n",
       "      <td>Traditional</td>\n",
       "      <td>497</td>\n",
       "      <td>17316</td>\n",
       "      <td>0.028702</td>\n",
       "      <td>0.028702</td>\n",
       "    </tr>\n",
       "    <tr>\n",
       "      <td>1</td>\n",
       "      <td>AspectCore-Framework</td>\n",
       "      <td>Block</td>\n",
       "      <td>type 2</td>\n",
       "      <td>csharp</td>\n",
       "      <td>Traditional</td>\n",
       "      <td>1176</td>\n",
       "      <td>17316</td>\n",
       "      <td>0.067914</td>\n",
       "      <td>0.067914</td>\n",
       "    </tr>\n",
       "    <tr>\n",
       "      <td>2</td>\n",
       "      <td>AspectCore-Framework</td>\n",
       "      <td>Block</td>\n",
       "      <td>type 3</td>\n",
       "      <td>csharp</td>\n",
       "      <td>Traditional</td>\n",
       "      <td>2811</td>\n",
       "      <td>17316</td>\n",
       "      <td>0.162335</td>\n",
       "      <td>0.162335</td>\n",
       "    </tr>\n",
       "    <tr>\n",
       "      <td>3</td>\n",
       "      <td>AspectCore-Framework</td>\n",
       "      <td>Function</td>\n",
       "      <td>type 1</td>\n",
       "      <td>csharp</td>\n",
       "      <td>Traditional</td>\n",
       "      <td>134</td>\n",
       "      <td>17316</td>\n",
       "      <td>0.007739</td>\n",
       "      <td>0.007739</td>\n",
       "    </tr>\n",
       "    <tr>\n",
       "      <td>4</td>\n",
       "      <td>AspectCore-Framework</td>\n",
       "      <td>Function</td>\n",
       "      <td>type 2</td>\n",
       "      <td>csharp</td>\n",
       "      <td>Traditional</td>\n",
       "      <td>939</td>\n",
       "      <td>17316</td>\n",
       "      <td>0.054227</td>\n",
       "      <td>0.054227</td>\n",
       "    </tr>\n",
       "  </tbody>\n",
       "</table>\n",
       "</div>"
      ],
      "text/plain": [
       "               repoName granularity clone_type language project_type  locc  \\\n",
       "0  AspectCore-Framework       Block     type 1   csharp  Traditional   497   \n",
       "1  AspectCore-Framework       Block     type 2   csharp  Traditional  1176   \n",
       "2  AspectCore-Framework       Block     type 3   csharp  Traditional  2811   \n",
       "3  AspectCore-Framework    Function     type 1   csharp  Traditional   134   \n",
       "4  AspectCore-Framework    Function     type 2   csharp  Traditional   939   \n",
       "\n",
       "   total_sloc  LOCC / total SLOC  LOCC_total_SLOC  \n",
       "0       17316           0.028702         0.028702  \n",
       "1       17316           0.067914         0.067914  \n",
       "2       17316           0.162335         0.162335  \n",
       "3       17316           0.007739         0.007739  \n",
       "4       17316           0.054227         0.054227  "
      ]
     },
     "execution_count": 105,
     "metadata": {},
     "output_type": "execute_result"
    }
   ],
   "source": [
    "repos_clones_size['granularity']=repos_clones_size.apply(update_granularity, axis=1)\n",
    "repos_clones_size.head()"
   ]
  },
  {
   "cell_type": "code",
   "execution_count": 106,
   "metadata": {},
   "outputs": [
    {
     "data": {
      "text/html": [
       "<div>\n",
       "<style scoped>\n",
       "    .dataframe tbody tr th:only-of-type {\n",
       "        vertical-align: middle;\n",
       "    }\n",
       "\n",
       "    .dataframe tbody tr th {\n",
       "        vertical-align: top;\n",
       "    }\n",
       "\n",
       "    .dataframe thead th {\n",
       "        text-align: right;\n",
       "    }\n",
       "</style>\n",
       "<table border=\"1\" class=\"dataframe\">\n",
       "  <thead>\n",
       "    <tr style=\"text-align: right;\">\n",
       "      <th></th>\n",
       "      <th>repoName</th>\n",
       "      <th>granularity</th>\n",
       "      <th>clone_type</th>\n",
       "      <th>language</th>\n",
       "      <th>project_type</th>\n",
       "      <th>locc</th>\n",
       "      <th>total_sloc</th>\n",
       "      <th>LOCC / total SLOC</th>\n",
       "      <th>LOCC_total_SLOC</th>\n",
       "    </tr>\n",
       "  </thead>\n",
       "  <tbody>\n",
       "    <tr>\n",
       "      <td>0</td>\n",
       "      <td>AspectCore-Framework</td>\n",
       "      <td>Block</td>\n",
       "      <td>type 1</td>\n",
       "      <td>csharp</td>\n",
       "      <td>Traditional</td>\n",
       "      <td>497</td>\n",
       "      <td>17316</td>\n",
       "      <td>0.028702</td>\n",
       "      <td>0.028702</td>\n",
       "    </tr>\n",
       "    <tr>\n",
       "      <td>1</td>\n",
       "      <td>AspectCore-Framework</td>\n",
       "      <td>Block</td>\n",
       "      <td>type 2</td>\n",
       "      <td>csharp</td>\n",
       "      <td>Traditional</td>\n",
       "      <td>1176</td>\n",
       "      <td>17316</td>\n",
       "      <td>0.067914</td>\n",
       "      <td>0.067914</td>\n",
       "    </tr>\n",
       "    <tr>\n",
       "      <td>2</td>\n",
       "      <td>AspectCore-Framework</td>\n",
       "      <td>Block</td>\n",
       "      <td>type 3</td>\n",
       "      <td>csharp</td>\n",
       "      <td>Traditional</td>\n",
       "      <td>2811</td>\n",
       "      <td>17316</td>\n",
       "      <td>0.162335</td>\n",
       "      <td>0.162335</td>\n",
       "    </tr>\n",
       "    <tr>\n",
       "      <td>3</td>\n",
       "      <td>AspectCore-Framework</td>\n",
       "      <td>Function</td>\n",
       "      <td>type 1</td>\n",
       "      <td>csharp</td>\n",
       "      <td>Traditional</td>\n",
       "      <td>134</td>\n",
       "      <td>17316</td>\n",
       "      <td>0.007739</td>\n",
       "      <td>0.007739</td>\n",
       "    </tr>\n",
       "    <tr>\n",
       "      <td>4</td>\n",
       "      <td>AspectCore-Framework</td>\n",
       "      <td>Function</td>\n",
       "      <td>type 2</td>\n",
       "      <td>csharp</td>\n",
       "      <td>Traditional</td>\n",
       "      <td>939</td>\n",
       "      <td>17316</td>\n",
       "      <td>0.054227</td>\n",
       "      <td>0.054227</td>\n",
       "    </tr>\n",
       "  </tbody>\n",
       "</table>\n",
       "</div>"
      ],
      "text/plain": [
       "               repoName granularity clone_type language project_type  locc  \\\n",
       "0  AspectCore-Framework       Block     type 1   csharp  Traditional   497   \n",
       "1  AspectCore-Framework       Block     type 2   csharp  Traditional  1176   \n",
       "2  AspectCore-Framework       Block     type 3   csharp  Traditional  2811   \n",
       "3  AspectCore-Framework    Function     type 1   csharp  Traditional   134   \n",
       "4  AspectCore-Framework    Function     type 2   csharp  Traditional   939   \n",
       "\n",
       "   total_sloc  LOCC / total SLOC  LOCC_total_SLOC  \n",
       "0       17316           0.028702         0.028702  \n",
       "1       17316           0.067914         0.067914  \n",
       "2       17316           0.162335         0.162335  \n",
       "3       17316           0.007739         0.007739  \n",
       "4       17316           0.054227         0.054227  "
      ]
     },
     "execution_count": 106,
     "metadata": {},
     "output_type": "execute_result"
    }
   ],
   "source": [
    "repos_clones_size_all = repos_clones_size\n",
    "repos_clones_size_all.head()"
   ]
  },
  {
   "cell_type": "code",
   "execution_count": 107,
   "metadata": {},
   "outputs": [
    {
     "name": "stdout",
     "output_type": "stream",
     "text": [
      "AspectCore-Framework Block type 1 csharp\n",
      "AspectCore-Framework Block type 2 csharp\n",
      "AspectCore-Framework Block type 3 csharp\n",
      "AspectCore-Framework Function type 1 csharp\n",
      "AspectCore-Framework Function type 2 csharp\n",
      "AspectCore-Framework Function type 3 csharp\n",
      "Avalonia Block type 1 csharp\n",
      "Avalonia Block type 2 csharp\n",
      "Avalonia Block type 3 csharp\n",
      "Avalonia Function type 1 csharp\n",
      "Avalonia Function type 2 csharp\n",
      "Avalonia Function type 3 csharp\n",
      "CeNiN Block type 1 csharp\n",
      "CeNiN Block type 2 csharp\n",
      "CeNiN Block type 3 csharp\n",
      "CeNiN Function type 1 csharp\n",
      "CeNiN Function type 3 csharp\n",
      "ConvNetSharp Block type 1 csharp\n",
      "ConvNetSharp Block type 2 csharp\n",
      "ConvNetSharp Block type 3 csharp\n",
      "ConvNetSharp Function type 1 csharp\n",
      "ConvNetSharp Function type 2 csharp\n",
      "ConvNetSharp Function type 3 csharp\n",
      "Dapper Block type 1 csharp\n",
      "Dapper Block type 2 csharp\n",
      "Dapper Block type 3 csharp\n",
      "Dapper Function type 1 csharp\n",
      "Dapper Function type 2 csharp\n",
      "Dapper Function type 3 csharp\n",
      "DeepDriver Block type 1 java\n",
      "DeepDriver Block type 2 java\n",
      "DeepDriver Block type 3 java\n",
      "DeepDriver Function type 1 java\n",
      "DeepDriver Function type 2 java\n",
      "DeepDriver Function type 3 java\n",
      "EntityFramework.Extended Block type 1 csharp\n",
      "EntityFramework.Extended Block type 2 csharp\n",
      "EntityFramework.Extended Block type 3 csharp\n",
      "EntityFramework.Extended Function type 1 csharp\n",
      "EntityFramework.Extended Function type 2 csharp\n",
      "EntityFramework.Extended Function type 3 csharp\n",
      "FaceONNX Block type 1 csharp\n",
      "FaceONNX Block type 2 csharp\n",
      "FaceONNX Block type 3 csharp\n",
      "FaceONNX Function type 1 csharp\n",
      "FaceONNX Function type 3 csharp\n",
      "KelpNet Block type 1 csharp\n",
      "KelpNet Block type 2 csharp\n",
      "KelpNet Block type 3 csharp\n",
      "KelpNet Function type 1 csharp\n",
      "KelpNet Function type 2 csharp\n",
      "KelpNet Function type 3 csharp\n",
      "Keras.NET Block type 1 csharp\n",
      "Keras.NET Block type 2 csharp\n",
      "Keras.NET Block type 3 csharp\n",
      "Keras.NET Function type 2 csharp\n",
      "Keras.NET Function type 3 csharp\n",
      "LockstepFramework Block type 1 csharp\n",
      "LockstepFramework Block type 2 csharp\n",
      "LockstepFramework Block type 3 csharp\n",
      "LockstepFramework Function type 1 csharp\n",
      "LockstepFramework Function type 2 csharp\n",
      "LockstepFramework Function type 3 csharp\n",
      "MPAndroidChart Block type 1 java\n",
      "MPAndroidChart Block type 2 java\n",
      "MPAndroidChart Block type 3 java\n",
      "MPAndroidChart Function type 1 java\n",
      "MPAndroidChart Function type 2 java\n",
      "MPAndroidChart Function type 3 java\n",
      "MassTransit Block type 1 csharp\n",
      "MassTransit Block type 2 csharp\n",
      "MassTransit Block type 3 csharp\n",
      "MassTransit Function type 1 csharp\n",
      "MassTransit Function type 2 csharp\n",
      "MassTransit Function type 3 csharp\n",
      "MyCaffe Block type 1 csharp\n",
      "MyCaffe Block type 2 csharp\n",
      "MyCaffe Block type 3 csharp\n",
      "MyCaffe Function type 1 csharp\n",
      "MyCaffe Function type 2 csharp\n",
      "MyCaffe Function type 3 csharp\n",
      "NeuralNetwork.NET Block type 1 csharp\n",
      "NeuralNetwork.NET Block type 2 csharp\n",
      "NeuralNetwork.NET Block type 3 csharp\n",
      "NeuralNetwork.NET Function type 1 csharp\n",
      "NeuralNetwork.NET Function type 2 csharp\n",
      "NeuralNetwork.NET Function type 3 csharp\n",
      "Pomelo.EntityFrameworkCore.MySql Block type 1 csharp\n",
      "Pomelo.EntityFrameworkCore.MySql Block type 2 csharp\n",
      "Pomelo.EntityFrameworkCore.MySql Block type 3 csharp\n",
      "Pomelo.EntityFrameworkCore.MySql Function type 1 csharp\n",
      "Pomelo.EntityFrameworkCore.MySql Function type 2 csharp\n",
      "Pomelo.EntityFrameworkCore.MySql Function type 3 csharp\n",
      "PowerShell Block type 1 csharp\n",
      "PowerShell Block type 2 csharp\n",
      "PowerShell Block type 3 csharp\n",
      "PowerShell Function type 1 csharp\n",
      "PowerShell Function type 2 csharp\n",
      "PowerShell Function type 3 csharp\n",
      "RNNSharp Block type 1 csharp\n",
      "RNNSharp Block type 2 csharp\n",
      "RNNSharp Block type 3 csharp\n",
      "RNNSharp Function type 1 csharp\n",
      "RNNSharp Function type 2 csharp\n",
      "RNNSharp Function type 3 csharp\n",
      "SANNet Block type 1 java\n",
      "SANNet Block type 2 java\n",
      "SANNet Block type 3 java\n",
      "SANNet Function type 1 java\n",
      "SANNet Function type 2 java\n",
      "SANNet Function type 3 java\n",
      "ScreenToGif Block type 1 csharp\n",
      "ScreenToGif Block type 2 csharp\n",
      "ScreenToGif Block type 3 csharp\n",
      "ScreenToGif Function type 1 csharp\n",
      "ScreenToGif Function type 2 csharp\n",
      "ScreenToGif Function type 3 csharp\n",
      "Seq2SeqSharp Block type 1 csharp\n",
      "Seq2SeqSharp Block type 2 csharp\n",
      "Seq2SeqSharp Block type 3 csharp\n",
      "Seq2SeqSharp Function type 1 csharp\n",
      "Seq2SeqSharp Function type 2 csharp\n",
      "Seq2SeqSharp Function type 3 csharp\n",
      "ShareX Block type 1 csharp\n",
      "ShareX Block type 2 csharp\n",
      "ShareX Block type 3 csharp\n",
      "ShareX Function type 1 csharp\n",
      "ShareX Function type 2 csharp\n",
      "ShareX Function type 3 csharp\n",
      "SharpNet Block type 1 csharp\n",
      "SharpNet Block type 2 csharp\n",
      "SharpNet Block type 3 csharp\n",
      "SharpNet Function type 1 csharp\n",
      "SharpNet Function type 2 csharp\n",
      "SharpNet Function type 3 csharp\n",
      "SiaNet Block type 1 csharp\n",
      "SiaNet Block type 2 csharp\n",
      "SiaNet Block type 3 csharp\n",
      "SiaNet Function type 1 csharp\n",
      "SiaNet Function type 2 csharp\n",
      "SiaNet Function type 3 csharp\n",
      "TensorShader Block type 1 csharp\n",
      "TensorShader Block type 2 csharp\n",
      "TensorShader Block type 3 csharp\n",
      "TensorShader Function type 1 csharp\n",
      "TensorShader Function type 2 csharp\n",
      "TensorShader Function type 3 csharp\n",
      "Vortex Block type 1 csharp\n",
      "Vortex Block type 2 csharp\n",
      "Vortex Block type 3 csharp\n",
      "Vortex Function type 1 csharp\n",
      "Vortex Function type 2 csharp\n",
      "Vortex Function type 3 csharp\n",
      "aspnetboilerplate Block type 1 csharp\n",
      "aspnetboilerplate Block type 2 csharp\n",
      "aspnetboilerplate Block type 3 csharp\n",
      "aspnetboilerplate Function type 1 csharp\n",
      "aspnetboilerplate Function type 2 csharp\n",
      "aspnetboilerplate Function type 3 csharp\n",
      "deeplearning4j Block type 1 java\n",
      "deeplearning4j Block type 2 java\n",
      "deeplearning4j Block type 3 java\n",
      "deeplearning4j Function type 1 java\n",
      "deeplearning4j Function type 2 java\n",
      "deeplearning4j Function type 3 java\n",
      "djl Block type 1 java\n",
      "djl Block type 2 java\n",
      "djl Block type 3 java\n",
      "djl Function type 1 java\n",
      "djl Function type 2 java\n",
      "djl Function type 3 java\n",
      "dubbo Function type 1 java\n",
      "dubbo Function type 2 java\n",
      "dubbo Function type 3 java\n",
      "efcore Block type 1 csharp\n",
      "efcore Block type 2 csharp\n",
      "efcore Block type 3 csharp\n",
      "efcore Function type 1 csharp\n",
      "efcore Function type 2 csharp\n",
      "efcore Function type 3 csharp\n",
      "framework Block type 1 java\n",
      "framework Block type 2 java\n",
      "framework Block type 3 java\n",
      "framework Function type 1 java\n",
      "framework Function type 2 java\n",
      "framework Function type 3 java\n",
      "jellyfin Block type 1 csharp\n",
      "jellyfin Block type 2 csharp\n",
      "jellyfin Block type 3 csharp\n",
      "jellyfin Function type 1 csharp\n",
      "jellyfin Function type 2 csharp\n",
      "jellyfin Function type 3 csharp\n",
      "keras-sharp Block type 1 csharp\n",
      "keras-sharp Block type 2 csharp\n",
      "keras-sharp Block type 3 csharp\n",
      "keras-sharp Function type 2 csharp\n",
      "keras-sharp Function type 3 csharp\n",
      "knime-deeplearning Block type 1 java\n",
      "knime-deeplearning Block type 2 java\n",
      "knime-deeplearning Block type 3 java\n",
      "knime-deeplearning Function type 1 java\n",
      "knime-deeplearning Function type 2 java\n",
      "knime-deeplearning Function type 3 java\n",
      "neuralnetworks Block type 1 java\n",
      "neuralnetworks Block type 2 java\n",
      "neuralnetworks Block type 3 java\n",
      "neuralnetworks Function type 1 java\n",
      "neuralnetworks Function type 2 java\n",
      "neuralnetworks Function type 3 java\n",
      "okhttp Block type 1 java\n",
      "okhttp Block type 2 java\n",
      "okhttp Block type 3 java\n",
      "okhttp Function type 1 java\n",
      "okhttp Function type 2 java\n",
      "okhttp Function type 3 java\n",
      "retrofit Block type 1 java\n",
      "retrofit Block type 2 java\n",
      "retrofit Block type 3 java\n",
      "retrofit Function type 1 java\n",
      "retrofit Function type 2 java\n",
      "retrofit Function type 3 java\n",
      "shadowsocks-windows Block type 2 csharp\n",
      "shadowsocks-windows Block type 3 csharp\n",
      "shadowsocks-windows Function type 2 csharp\n",
      "shadowsocks-windows Function type 3 csharp\n",
      "spring-framework Block type 1 java\n",
      "spring-framework Block type 2 java\n",
      "spring-framework Block type 3 java\n",
      "spring-framework Function type 1 java\n",
      "spring-framework Function type 2 java\n",
      "spring-framework Function type 3 java\n"
     ]
    }
   ],
   "source": [
    "for index1, row1 in repos_clones_size_all.iterrows():\n",
    "    print('{} {} {} {}'.format(row1['repoName'], row1['granularity'], row1['clone_type'], row1['language']))\n",
    "    "
   ]
  },
  {
   "cell_type": "markdown",
   "metadata": {},
   "source": [
    "# RQ1-Java"
   ]
  },
  {
   "cell_type": "code",
   "execution_count": 108,
   "metadata": {},
   "outputs": [],
   "source": [
    "repos_clones_size = repos_clones_size_all\n",
    "repos_clones_size_java= repos_clones_size[repos_clones_size['language']=='java']\n",
    "repos_clones_size_java_fct = repos_clones_size_java[repos_clones_size_java['granularity']=='Function']\n",
    "repos_clones_size_java_blk = repos_clones_size_java[repos_clones_size_java['granularity']=='Block']"
   ]
  },
  {
   "cell_type": "code",
   "execution_count": 109,
   "metadata": {
    "scrolled": true
   },
   "outputs": [
    {
     "data": {
      "text/html": [
       "<div>\n",
       "<style scoped>\n",
       "    .dataframe tbody tr th:only-of-type {\n",
       "        vertical-align: middle;\n",
       "    }\n",
       "\n",
       "    .dataframe tbody tr th {\n",
       "        vertical-align: top;\n",
       "    }\n",
       "\n",
       "    .dataframe thead th {\n",
       "        text-align: right;\n",
       "    }\n",
       "</style>\n",
       "<table border=\"1\" class=\"dataframe\">\n",
       "  <thead>\n",
       "    <tr style=\"text-align: right;\">\n",
       "      <th></th>\n",
       "      <th>repoName</th>\n",
       "      <th>granularity</th>\n",
       "      <th>clone_type</th>\n",
       "      <th>language</th>\n",
       "      <th>project_type</th>\n",
       "      <th>locc</th>\n",
       "      <th>total_sloc</th>\n",
       "      <th>LOCC / total SLOC</th>\n",
       "      <th>LOCC_total_SLOC</th>\n",
       "    </tr>\n",
       "  </thead>\n",
       "  <tbody>\n",
       "    <tr>\n",
       "      <td>32</td>\n",
       "      <td>DeepDriver</td>\n",
       "      <td>Function</td>\n",
       "      <td>type 1</td>\n",
       "      <td>java</td>\n",
       "      <td>Deep Learning</td>\n",
       "      <td>3510</td>\n",
       "      <td>32265</td>\n",
       "      <td>0.108787</td>\n",
       "      <td>0.108787</td>\n",
       "    </tr>\n",
       "    <tr>\n",
       "      <td>33</td>\n",
       "      <td>DeepDriver</td>\n",
       "      <td>Function</td>\n",
       "      <td>type 2</td>\n",
       "      <td>java</td>\n",
       "      <td>Deep Learning</td>\n",
       "      <td>1630</td>\n",
       "      <td>32265</td>\n",
       "      <td>0.050519</td>\n",
       "      <td>0.050519</td>\n",
       "    </tr>\n",
       "    <tr>\n",
       "      <td>34</td>\n",
       "      <td>DeepDriver</td>\n",
       "      <td>Function</td>\n",
       "      <td>type 3</td>\n",
       "      <td>java</td>\n",
       "      <td>Deep Learning</td>\n",
       "      <td>6446</td>\n",
       "      <td>32265</td>\n",
       "      <td>0.199783</td>\n",
       "      <td>0.199783</td>\n",
       "    </tr>\n",
       "    <tr>\n",
       "      <td>66</td>\n",
       "      <td>MPAndroidChart</td>\n",
       "      <td>Function</td>\n",
       "      <td>type 1</td>\n",
       "      <td>java</td>\n",
       "      <td>Traditional</td>\n",
       "      <td>390</td>\n",
       "      <td>25232</td>\n",
       "      <td>0.015457</td>\n",
       "      <td>0.015457</td>\n",
       "    </tr>\n",
       "    <tr>\n",
       "      <td>67</td>\n",
       "      <td>MPAndroidChart</td>\n",
       "      <td>Function</td>\n",
       "      <td>type 2</td>\n",
       "      <td>java</td>\n",
       "      <td>Traditional</td>\n",
       "      <td>818</td>\n",
       "      <td>25232</td>\n",
       "      <td>0.032419</td>\n",
       "      <td>0.032419</td>\n",
       "    </tr>\n",
       "  </tbody>\n",
       "</table>\n",
       "</div>"
      ],
      "text/plain": [
       "          repoName granularity clone_type language   project_type  locc  \\\n",
       "32      DeepDriver    Function     type 1     java  Deep Learning  3510   \n",
       "33      DeepDriver    Function     type 2     java  Deep Learning  1630   \n",
       "34      DeepDriver    Function     type 3     java  Deep Learning  6446   \n",
       "66  MPAndroidChart    Function     type 1     java    Traditional   390   \n",
       "67  MPAndroidChart    Function     type 2     java    Traditional   818   \n",
       "\n",
       "    total_sloc  LOCC / total SLOC  LOCC_total_SLOC  \n",
       "32       32265           0.108787         0.108787  \n",
       "33       32265           0.050519         0.050519  \n",
       "34       32265           0.199783         0.199783  \n",
       "66       25232           0.015457         0.015457  \n",
       "67       25232           0.032419         0.032419  "
      ]
     },
     "execution_count": 109,
     "metadata": {},
     "output_type": "execute_result"
    }
   ],
   "source": [
    "repos_clones_size_java_fct.head()"
   ]
  },
  {
   "cell_type": "code",
   "execution_count": 110,
   "metadata": {},
   "outputs": [
    {
     "data": {
      "text/html": [
       "<div>\n",
       "<style scoped>\n",
       "    .dataframe tbody tr th:only-of-type {\n",
       "        vertical-align: middle;\n",
       "    }\n",
       "\n",
       "    .dataframe tbody tr th {\n",
       "        vertical-align: top;\n",
       "    }\n",
       "\n",
       "    .dataframe thead th {\n",
       "        text-align: right;\n",
       "    }\n",
       "</style>\n",
       "<table border=\"1\" class=\"dataframe\">\n",
       "  <thead>\n",
       "    <tr style=\"text-align: right;\">\n",
       "      <th></th>\n",
       "      <th>repoName</th>\n",
       "      <th>granularity</th>\n",
       "      <th>clone_type</th>\n",
       "      <th>language</th>\n",
       "      <th>project_type</th>\n",
       "      <th>locc</th>\n",
       "      <th>total_sloc</th>\n",
       "      <th>LOCC / total SLOC</th>\n",
       "      <th>LOCC_total_SLOC</th>\n",
       "    </tr>\n",
       "  </thead>\n",
       "  <tbody>\n",
       "    <tr>\n",
       "      <td>29</td>\n",
       "      <td>DeepDriver</td>\n",
       "      <td>Block</td>\n",
       "      <td>type 1</td>\n",
       "      <td>java</td>\n",
       "      <td>Deep Learning</td>\n",
       "      <td>5790</td>\n",
       "      <td>32265</td>\n",
       "      <td>0.179451</td>\n",
       "      <td>0.179451</td>\n",
       "    </tr>\n",
       "    <tr>\n",
       "      <td>30</td>\n",
       "      <td>DeepDriver</td>\n",
       "      <td>Block</td>\n",
       "      <td>type 2</td>\n",
       "      <td>java</td>\n",
       "      <td>Deep Learning</td>\n",
       "      <td>2891</td>\n",
       "      <td>32265</td>\n",
       "      <td>0.089602</td>\n",
       "      <td>0.089602</td>\n",
       "    </tr>\n",
       "    <tr>\n",
       "      <td>31</td>\n",
       "      <td>DeepDriver</td>\n",
       "      <td>Block</td>\n",
       "      <td>type 3</td>\n",
       "      <td>java</td>\n",
       "      <td>Deep Learning</td>\n",
       "      <td>10435</td>\n",
       "      <td>32265</td>\n",
       "      <td>0.323415</td>\n",
       "      <td>0.323415</td>\n",
       "    </tr>\n",
       "    <tr>\n",
       "      <td>63</td>\n",
       "      <td>MPAndroidChart</td>\n",
       "      <td>Block</td>\n",
       "      <td>type 1</td>\n",
       "      <td>java</td>\n",
       "      <td>Traditional</td>\n",
       "      <td>1969</td>\n",
       "      <td>25232</td>\n",
       "      <td>0.078036</td>\n",
       "      <td>0.078036</td>\n",
       "    </tr>\n",
       "    <tr>\n",
       "      <td>64</td>\n",
       "      <td>MPAndroidChart</td>\n",
       "      <td>Block</td>\n",
       "      <td>type 2</td>\n",
       "      <td>java</td>\n",
       "      <td>Traditional</td>\n",
       "      <td>2590</td>\n",
       "      <td>25232</td>\n",
       "      <td>0.102647</td>\n",
       "      <td>0.102647</td>\n",
       "    </tr>\n",
       "  </tbody>\n",
       "</table>\n",
       "</div>"
      ],
      "text/plain": [
       "          repoName granularity clone_type language   project_type   locc  \\\n",
       "29      DeepDriver       Block     type 1     java  Deep Learning   5790   \n",
       "30      DeepDriver       Block     type 2     java  Deep Learning   2891   \n",
       "31      DeepDriver       Block     type 3     java  Deep Learning  10435   \n",
       "63  MPAndroidChart       Block     type 1     java    Traditional   1969   \n",
       "64  MPAndroidChart       Block     type 2     java    Traditional   2590   \n",
       "\n",
       "    total_sloc  LOCC / total SLOC  LOCC_total_SLOC  \n",
       "29       32265           0.179451         0.179451  \n",
       "30       32265           0.089602         0.089602  \n",
       "31       32265           0.323415         0.323415  \n",
       "63       25232           0.078036         0.078036  \n",
       "64       25232           0.102647         0.102647  "
      ]
     },
     "execution_count": 110,
     "metadata": {},
     "output_type": "execute_result"
    }
   ],
   "source": [
    "repos_clones_size_java_blk.head()"
   ]
  },
  {
   "cell_type": "code",
   "execution_count": 111,
   "metadata": {},
   "outputs": [
    {
     "data": {
      "text/html": [
       "<div>\n",
       "<style scoped>\n",
       "    .dataframe tbody tr th:only-of-type {\n",
       "        vertical-align: middle;\n",
       "    }\n",
       "\n",
       "    .dataframe tbody tr th {\n",
       "        vertical-align: top;\n",
       "    }\n",
       "\n",
       "    .dataframe thead th {\n",
       "        text-align: right;\n",
       "    }\n",
       "</style>\n",
       "<table border=\"1\" class=\"dataframe\">\n",
       "  <thead>\n",
       "    <tr style=\"text-align: right;\">\n",
       "      <th></th>\n",
       "      <th>repoName</th>\n",
       "      <th>granularity</th>\n",
       "      <th>clone_type</th>\n",
       "      <th>language</th>\n",
       "      <th>project_type</th>\n",
       "      <th>locc</th>\n",
       "      <th>total_sloc</th>\n",
       "      <th>LOCC / total SLOC</th>\n",
       "      <th>LOCC_total_SLOC</th>\n",
       "    </tr>\n",
       "  </thead>\n",
       "  <tbody>\n",
       "    <tr>\n",
       "      <td>32</td>\n",
       "      <td>DeepDriver</td>\n",
       "      <td>Function</td>\n",
       "      <td>type 1</td>\n",
       "      <td>java</td>\n",
       "      <td>Deep Learning</td>\n",
       "      <td>3510</td>\n",
       "      <td>32265</td>\n",
       "      <td>0.108787</td>\n",
       "      <td>0.108787</td>\n",
       "    </tr>\n",
       "    <tr>\n",
       "      <td>66</td>\n",
       "      <td>MPAndroidChart</td>\n",
       "      <td>Function</td>\n",
       "      <td>type 1</td>\n",
       "      <td>java</td>\n",
       "      <td>Traditional</td>\n",
       "      <td>390</td>\n",
       "      <td>25232</td>\n",
       "      <td>0.015457</td>\n",
       "      <td>0.015457</td>\n",
       "    </tr>\n",
       "    <tr>\n",
       "      <td>108</td>\n",
       "      <td>SANNet</td>\n",
       "      <td>Function</td>\n",
       "      <td>type 1</td>\n",
       "      <td>java</td>\n",
       "      <td>Deep Learning</td>\n",
       "      <td>319</td>\n",
       "      <td>16172</td>\n",
       "      <td>0.019725</td>\n",
       "      <td>0.019725</td>\n",
       "    </tr>\n",
       "    <tr>\n",
       "      <td>162</td>\n",
       "      <td>deeplearning4j</td>\n",
       "      <td>Function</td>\n",
       "      <td>type 1</td>\n",
       "      <td>java</td>\n",
       "      <td>Deep Learning</td>\n",
       "      <td>14017</td>\n",
       "      <td>526195</td>\n",
       "      <td>0.026638</td>\n",
       "      <td>0.026638</td>\n",
       "    </tr>\n",
       "    <tr>\n",
       "      <td>168</td>\n",
       "      <td>djl</td>\n",
       "      <td>Function</td>\n",
       "      <td>type 1</td>\n",
       "      <td>java</td>\n",
       "      <td>Deep Learning</td>\n",
       "      <td>1002</td>\n",
       "      <td>74161</td>\n",
       "      <td>0.013511</td>\n",
       "      <td>0.013511</td>\n",
       "    </tr>\n",
       "  </tbody>\n",
       "</table>\n",
       "</div>"
      ],
      "text/plain": [
       "           repoName granularity clone_type language   project_type   locc  \\\n",
       "32       DeepDriver    Function     type 1     java  Deep Learning   3510   \n",
       "66   MPAndroidChart    Function     type 1     java    Traditional    390   \n",
       "108          SANNet    Function     type 1     java  Deep Learning    319   \n",
       "162  deeplearning4j    Function     type 1     java  Deep Learning  14017   \n",
       "168             djl    Function     type 1     java  Deep Learning   1002   \n",
       "\n",
       "     total_sloc  LOCC / total SLOC  LOCC_total_SLOC  \n",
       "32        32265           0.108787         0.108787  \n",
       "66        25232           0.015457         0.015457  \n",
       "108       16172           0.019725         0.019725  \n",
       "162      526195           0.026638         0.026638  \n",
       "168       74161           0.013511         0.013511  "
      ]
     },
     "execution_count": 111,
     "metadata": {},
     "output_type": "execute_result"
    }
   ],
   "source": [
    "java_fct=repos_clones_size_java_fct[repos_clones_size_java_fct['language']=='java']\n",
    "java_fct_t1=java_fct[java_fct['clone_type']=='type 1']\n",
    "java_fct_t1.head()"
   ]
  },
  {
   "cell_type": "markdown",
   "metadata": {},
   "source": [
    "## Java All Types Function granularity"
   ]
  },
  {
   "cell_type": "code",
   "execution_count": 112,
   "metadata": {},
   "outputs": [],
   "source": [
    "repos_clones_size = repos_clones_size_java_fct"
   ]
  },
  {
   "cell_type": "code",
   "execution_count": 113,
   "metadata": {},
   "outputs": [],
   "source": [
    "traditional = repos_clones_size[repos_clones_size['project_type']=='Traditional']\n",
    "dl = repos_clones_size[repos_clones_size['project_type']=='Deep Learning']"
   ]
  },
  {
   "cell_type": "code",
   "execution_count": 115,
   "metadata": {},
   "outputs": [
    {
     "data": {
      "text/plain": [
       "MannwhitneyuResult(statistic=155.0, pvalue=0.4185318077449268)"
      ]
     },
     "execution_count": 115,
     "metadata": {},
     "output_type": "execute_result"
    }
   ],
   "source": [
    "stats.mannwhitneyu(traditional.LOCC_total_SLOC,dl.LOCC_total_SLOC)"
   ]
  },
  {
   "cell_type": "code",
   "execution_count": 116,
   "metadata": {},
   "outputs": [
    {
     "data": {
      "text/plain": [
       "MannwhitneyuResult(statistic=155.0, pvalue=0.8370636154898536)"
      ]
     },
     "execution_count": 116,
     "metadata": {},
     "output_type": "execute_result"
    }
   ],
   "source": [
    "stats.mannwhitneyu(traditional.LOCC_total_SLOC,dl.LOCC_total_SLOC, alternative='two-sided')"
   ]
  },
  {
   "cell_type": "code",
   "execution_count": 117,
   "metadata": {},
   "outputs": [
    {
     "data": {
      "text/plain": [
       "MannwhitneyuResult(statistic=169.0, pvalue=0.8370636154898536)"
      ]
     },
     "execution_count": 117,
     "metadata": {},
     "output_type": "execute_result"
    }
   ],
   "source": [
    "stats.mannwhitneyu(dl.LOCC_total_SLOC,traditional.LOCC_total_SLOC, alternative='two-sided')"
   ]
  },
  {
   "cell_type": "code",
   "execution_count": 118,
   "metadata": {},
   "outputs": [
    {
     "data": {
      "text/plain": [
       "0.043209876543209874"
      ]
     },
     "execution_count": 118,
     "metadata": {},
     "output_type": "execute_result"
    }
   ],
   "source": [
    "cliffsDelta(traditional.LOCC_total_SLOC,dl.LOCC_total_SLOC)"
   ]
  },
  {
   "cell_type": "code",
   "execution_count": 202,
   "metadata": {},
   "outputs": [
    {
     "data": {
      "image/png": "[encoded data removed]",
      "text/plain": [
       "<Figure size 360x360 with 1 Axes>"
      ]
     },
     "metadata": {},
     "output_type": "display_data"
    }
   ],
   "source": [
    "sns.set(rc={'figure.figsize':(5,5)})\n",
    "sns.set(font_scale=1.5)\n",
    "sns.set_style('white')\n",
    "sns.set_style('ticks', {'axes.edgecolor': '0',  \n",
    "                        'xtick.color': '0',\n",
    "                        'ytick.color': '0'})\n",
    "# Define some hatches\n",
    "hatches = cycle(['///','x', 'o'])\n",
    "\n",
    "\n",
    "# Boxplot\n",
    "ax = sns.boxplot(x=\"project_type\", y=\"LOCC / total SLOC\", data=repos_clones_size_java_fct, order=[\"Deep Learning\", \"Traditional\"], showfliers=False,color='black',medianprops=dict(color='black'), \n",
    "                  boxprops = dict(facecolor='white',edgecolor='black' ))\n",
    "#ax.set_yscale(\"log\")\n",
    "ax.set(xlabel='Project Type (Java Th20%)', ylabel='log(LOCC / total SLOC)')\n",
    "#plt.legend(loc='best')\n",
    "plt.title('(a) Function Granularity')\n",
    "patches=[]\n",
    "for i, patch in enumerate(ax.artists):\n",
    "    # Boxes from left to right\n",
    "    hatch = next(hatches)\n",
    "    patch.set_hatch(hatch)\n",
    "    if patch not in patches:\n",
    "        patches.append(patch)\n",
    "\n",
    "plt.show()\n",
    "fig = ax.get_figure()\n",
    "fig.savefig(\"images_pdf/java_dl_trad_all_clone_type_fct_20.pdf\",bbox_inches='tight')"
   ]
  },
  {
   "cell_type": "markdown",
   "metadata": {},
   "source": [
    "## Java- All Types Block granularity"
   ]
  },
  {
   "cell_type": "code",
   "execution_count": 120,
   "metadata": {},
   "outputs": [],
   "source": [
    "repos_clones_size = repos_clones_size_java_blk"
   ]
  },
  {
   "cell_type": "code",
   "execution_count": 121,
   "metadata": {},
   "outputs": [],
   "source": [
    "traditional = repos_clones_size[repos_clones_size['project_type']=='Traditional']\n",
    "dl = repos_clones_size[repos_clones_size['project_type']=='Deep Learning']"
   ]
  },
  {
   "cell_type": "code",
   "execution_count": 122,
   "metadata": {},
   "outputs": [
    {
     "data": {
      "text/plain": [
       "MannwhitneyuResult(statistic=120.0, pvalue=0.3000528188066002)"
      ]
     },
     "execution_count": 122,
     "metadata": {},
     "output_type": "execute_result"
    }
   ],
   "source": [
    "stats.mannwhitneyu(traditional.LOCC_total_SLOC,dl.LOCC_total_SLOC)"
   ]
  },
  {
   "cell_type": "code",
   "execution_count": 123,
   "metadata": {},
   "outputs": [
    {
     "data": {
      "text/plain": [
       "MannwhitneyuResult(statistic=120.0, pvalue=0.6001056376132003)"
      ]
     },
     "execution_count": 123,
     "metadata": {},
     "output_type": "execute_result"
    }
   ],
   "source": [
    "stats.mannwhitneyu(traditional.LOCC_total_SLOC,dl.LOCC_total_SLOC, alternative='two-sided')"
   ]
  },
  {
   "cell_type": "code",
   "execution_count": 124,
   "metadata": {},
   "outputs": [
    {
     "data": {
      "text/plain": [
       "MannwhitneyuResult(statistic=150.0, pvalue=0.6001056376132003)"
      ]
     },
     "execution_count": 124,
     "metadata": {},
     "output_type": "execute_result"
    }
   ],
   "source": [
    "stats.mannwhitneyu(dl.LOCC_total_SLOC,traditional.LOCC_total_SLOC, alternative='two-sided')"
   ]
  },
  {
   "cell_type": "code",
   "execution_count": 125,
   "metadata": {},
   "outputs": [
    {
     "data": {
      "text/plain": [
       "0.1111111111111111"
      ]
     },
     "execution_count": 125,
     "metadata": {},
     "output_type": "execute_result"
    }
   ],
   "source": [
    "cliffsDelta(traditional.LOCC_total_SLOC,dl.LOCC_total_SLOC)"
   ]
  },
  {
   "cell_type": "code",
   "execution_count": 203,
   "metadata": {},
   "outputs": [
    {
     "data": {
      "image/png": "[encoded data removed]",
      "text/plain": [
       "<Figure size 360x360 with 1 Axes>"
      ]
     },
     "metadata": {},
     "output_type": "display_data"
    }
   ],
   "source": [
    "sns.set(rc={'figure.figsize':(5,5)})\n",
    "sns.set(font_scale=1.5)\n",
    "sns.set_style('white')\n",
    "sns.set_style('ticks', {'axes.edgecolor': '0',  \n",
    "                        'xtick.color': '0',\n",
    "                        'ytick.color': '0'})\n",
    "# Define some hatches\n",
    "hatches = cycle(['///','x', 'o'])\n",
    "\n",
    "\n",
    "# Boxplot\n",
    "ax = sns.boxplot(x=\"project_type\", y=\"LOCC / total SLOC\", data=repos_clones_size_java_blk,order=[\"Deep Learning\", \"Traditional\"], showfliers=False,color='black',medianprops=dict(color='black'), \n",
    "                  boxprops = dict(facecolor='white',edgecolor='black' ))\n",
    "#ax.set_yscale(\"log\")\n",
    "ax.set(xlabel='Project Type (java Th20)', ylabel='log(LOCC / total SLOC)')\n",
    "#plt.legend(loc='best')\n",
    "plt.title('(b) Block Granularity')\n",
    "patches=[]\n",
    "for i, patch in enumerate(ax.artists):\n",
    "    # Boxes from left to right\n",
    "    hatch = next(hatches)\n",
    "    patch.set_hatch(hatch)\n",
    "    if patch not in patches:\n",
    "        patches.append(patch)\n",
    "\n",
    "plt.show()\n",
    "fig = ax.get_figure()\n",
    "fig.savefig(\"images_pdf/java_dl_trad_all_clone_type_blk_20.pdf\",bbox_inches='tight')"
   ]
  },
  {
   "cell_type": "markdown",
   "metadata": {},
   "source": [
    "## Java -By Clone Types-Function granularity"
   ]
  },
  {
   "cell_type": "code",
   "execution_count": 208,
   "metadata": {},
   "outputs": [],
   "source": [
    "repos_clones_size = repos_clones_size_java_fct\n",
    "traditional = repos_clones_size[repos_clones_size['project_type']=='Traditional']\n",
    "dl = repos_clones_size[repos_clones_size['project_type']=='Deep Learning']"
   ]
  },
  {
   "cell_type": "code",
   "execution_count": 209,
   "metadata": {},
   "outputs": [],
   "source": [
    "def capitalize(row):\n",
    "    return row['clone_type'].capitalize()"
   ]
  },
  {
   "cell_type": "code",
   "execution_count": 210,
   "metadata": {},
   "outputs": [],
   "source": [
    "traditional['clone_type'] = traditional.apply(capitalize, axis=1)\n",
    "dl['clone_type'] = dl.apply(capitalize, axis=1)"
   ]
  },
  {
   "cell_type": "code",
   "execution_count": 211,
   "metadata": {},
   "outputs": [],
   "source": [
    "trad_type1 = traditional[traditional['clone_type']=='Type 1']\n",
    "trad_type2 = traditional[traditional['clone_type']=='Type 2']\n",
    "trad_type3 = traditional[traditional['clone_type']=='Type 3']\n",
    "\n",
    "dl_type1 = dl[dl['clone_type']=='Type 1']\n",
    "dl_type2 = dl[dl['clone_type']=='Type 2']\n",
    "dl_type3 = dl[dl['clone_type']=='Type 3']"
   ]
  },
  {
   "cell_type": "code",
   "execution_count": 212,
   "metadata": {},
   "outputs": [
    {
     "data": {
      "text/html": [
       "<div>\n",
       "<style scoped>\n",
       "    .dataframe tbody tr th:only-of-type {\n",
       "        vertical-align: middle;\n",
       "    }\n",
       "\n",
       "    .dataframe tbody tr th {\n",
       "        vertical-align: top;\n",
       "    }\n",
       "\n",
       "    .dataframe thead th {\n",
       "        text-align: right;\n",
       "    }\n",
       "</style>\n",
       "<table border=\"1\" class=\"dataframe\">\n",
       "  <thead>\n",
       "    <tr style=\"text-align: right;\">\n",
       "      <th></th>\n",
       "      <th>repoName</th>\n",
       "      <th>granularity</th>\n",
       "      <th>clone_type</th>\n",
       "      <th>language</th>\n",
       "      <th>project_type</th>\n",
       "      <th>locc</th>\n",
       "      <th>total_sloc</th>\n",
       "      <th>LOCC / total SLOC</th>\n",
       "      <th>LOCC_total_SLOC</th>\n",
       "    </tr>\n",
       "  </thead>\n",
       "  <tbody>\n",
       "    <tr>\n",
       "      <td>66</td>\n",
       "      <td>MPAndroidChart</td>\n",
       "      <td>Function</td>\n",
       "      <td>Type 1</td>\n",
       "      <td>java</td>\n",
       "      <td>Traditional</td>\n",
       "      <td>390</td>\n",
       "      <td>25232</td>\n",
       "      <td>0.015457</td>\n",
       "      <td>0.015457</td>\n",
       "    </tr>\n",
       "    <tr>\n",
       "      <td>171</td>\n",
       "      <td>dubbo</td>\n",
       "      <td>Function</td>\n",
       "      <td>Type 1</td>\n",
       "      <td>java</td>\n",
       "      <td>Traditional</td>\n",
       "      <td>13175</td>\n",
       "      <td>174064</td>\n",
       "      <td>0.075691</td>\n",
       "      <td>0.075691</td>\n",
       "    </tr>\n",
       "    <tr>\n",
       "      <td>183</td>\n",
       "      <td>framework</td>\n",
       "      <td>Function</td>\n",
       "      <td>Type 1</td>\n",
       "      <td>java</td>\n",
       "      <td>Traditional</td>\n",
       "      <td>24808</td>\n",
       "      <td>437134</td>\n",
       "      <td>0.056751</td>\n",
       "      <td>0.056751</td>\n",
       "    </tr>\n",
       "    <tr>\n",
       "      <td>212</td>\n",
       "      <td>okhttp</td>\n",
       "      <td>Function</td>\n",
       "      <td>Type 1</td>\n",
       "      <td>java</td>\n",
       "      <td>Traditional</td>\n",
       "      <td>1113</td>\n",
       "      <td>37217</td>\n",
       "      <td>0.029906</td>\n",
       "      <td>0.029906</td>\n",
       "    </tr>\n",
       "    <tr>\n",
       "      <td>218</td>\n",
       "      <td>retrofit</td>\n",
       "      <td>Function</td>\n",
       "      <td>Type 1</td>\n",
       "      <td>java</td>\n",
       "      <td>Traditional</td>\n",
       "      <td>4617</td>\n",
       "      <td>26513</td>\n",
       "      <td>0.174141</td>\n",
       "      <td>0.174141</td>\n",
       "    </tr>\n",
       "  </tbody>\n",
       "</table>\n",
       "</div>"
      ],
      "text/plain": [
       "           repoName granularity clone_type language project_type   locc  \\\n",
       "66   MPAndroidChart    Function     Type 1     java  Traditional    390   \n",
       "171           dubbo    Function     Type 1     java  Traditional  13175   \n",
       "183       framework    Function     Type 1     java  Traditional  24808   \n",
       "212          okhttp    Function     Type 1     java  Traditional   1113   \n",
       "218        retrofit    Function     Type 1     java  Traditional   4617   \n",
       "\n",
       "     total_sloc  LOCC / total SLOC  LOCC_total_SLOC  \n",
       "66        25232           0.015457         0.015457  \n",
       "171      174064           0.075691         0.075691  \n",
       "183      437134           0.056751         0.056751  \n",
       "212       37217           0.029906         0.029906  \n",
       "218       26513           0.174141         0.174141  "
      ]
     },
     "execution_count": 212,
     "metadata": {},
     "output_type": "execute_result"
    }
   ],
   "source": [
    "trad_type1.head()"
   ]
  },
  {
   "cell_type": "code",
   "execution_count": 213,
   "metadata": {},
   "outputs": [
    {
     "data": {
      "text/plain": [
       "MannwhitneyuResult(statistic=19.0, pvalue=0.9361862934730594)"
      ]
     },
     "execution_count": 213,
     "metadata": {},
     "output_type": "execute_result"
    }
   ],
   "source": [
    "stats.mannwhitneyu(trad_type1.LOCC_total_SLOC,dl_type1.LOCC_total_SLOC, alternative='two-sided')"
   ]
  },
  {
   "cell_type": "code",
   "execution_count": 142,
   "metadata": {},
   "outputs": [
    {
     "data": {
      "text/plain": [
       "MannwhitneyuResult(statistic=14.0, pvalue=0.5751735319201967)"
      ]
     },
     "execution_count": 142,
     "metadata": {},
     "output_type": "execute_result"
    }
   ],
   "source": [
    "stats.mannwhitneyu(trad_type2.LOCC_total_SLOC,dl_type2.LOCC_total_SLOC, alternative='two-sided')"
   ]
  },
  {
   "cell_type": "code",
   "execution_count": 143,
   "metadata": {},
   "outputs": [
    {
     "data": {
      "text/plain": [
       "MannwhitneyuResult(statistic=17.0, pvalue=0.9361862934730594)"
      ]
     },
     "execution_count": 143,
     "metadata": {},
     "output_type": "execute_result"
    }
   ],
   "source": [
    "stats.mannwhitneyu(trad_type3.LOCC_total_SLOC,dl_type3.LOCC_total_SLOC, alternative='two-sided')"
   ]
  },
  {
   "cell_type": "code",
   "execution_count": 144,
   "metadata": {},
   "outputs": [
    {
     "data": {
      "text/html": [
       "<div>\n",
       "<style scoped>\n",
       "    .dataframe tbody tr th:only-of-type {\n",
       "        vertical-align: middle;\n",
       "    }\n",
       "\n",
       "    .dataframe tbody tr th {\n",
       "        vertical-align: top;\n",
       "    }\n",
       "\n",
       "    .dataframe thead th {\n",
       "        text-align: right;\n",
       "    }\n",
       "</style>\n",
       "<table border=\"1\" class=\"dataframe\">\n",
       "  <thead>\n",
       "    <tr style=\"text-align: right;\">\n",
       "      <th></th>\n",
       "      <th>repoName</th>\n",
       "      <th>granularity</th>\n",
       "      <th>clone_type</th>\n",
       "      <th>language</th>\n",
       "      <th>project_type</th>\n",
       "      <th>locc</th>\n",
       "      <th>total_sloc</th>\n",
       "      <th>LOCC / total SLOC</th>\n",
       "      <th>LOCC_total_SLOC</th>\n",
       "    </tr>\n",
       "  </thead>\n",
       "  <tbody>\n",
       "    <tr>\n",
       "      <td>66</td>\n",
       "      <td>MPAndroidChart</td>\n",
       "      <td>Function</td>\n",
       "      <td>Type 1</td>\n",
       "      <td>java</td>\n",
       "      <td>Traditional</td>\n",
       "      <td>390</td>\n",
       "      <td>25232</td>\n",
       "      <td>0.015457</td>\n",
       "      <td>0.015457</td>\n",
       "    </tr>\n",
       "    <tr>\n",
       "      <td>171</td>\n",
       "      <td>dubbo</td>\n",
       "      <td>Function</td>\n",
       "      <td>Type 1</td>\n",
       "      <td>java</td>\n",
       "      <td>Traditional</td>\n",
       "      <td>13175</td>\n",
       "      <td>174064</td>\n",
       "      <td>0.075691</td>\n",
       "      <td>0.075691</td>\n",
       "    </tr>\n",
       "    <tr>\n",
       "      <td>183</td>\n",
       "      <td>framework</td>\n",
       "      <td>Function</td>\n",
       "      <td>Type 1</td>\n",
       "      <td>java</td>\n",
       "      <td>Traditional</td>\n",
       "      <td>24808</td>\n",
       "      <td>437134</td>\n",
       "      <td>0.056751</td>\n",
       "      <td>0.056751</td>\n",
       "    </tr>\n",
       "    <tr>\n",
       "      <td>212</td>\n",
       "      <td>okhttp</td>\n",
       "      <td>Function</td>\n",
       "      <td>Type 1</td>\n",
       "      <td>java</td>\n",
       "      <td>Traditional</td>\n",
       "      <td>1113</td>\n",
       "      <td>37217</td>\n",
       "      <td>0.029906</td>\n",
       "      <td>0.029906</td>\n",
       "    </tr>\n",
       "    <tr>\n",
       "      <td>218</td>\n",
       "      <td>retrofit</td>\n",
       "      <td>Function</td>\n",
       "      <td>Type 1</td>\n",
       "      <td>java</td>\n",
       "      <td>Traditional</td>\n",
       "      <td>4617</td>\n",
       "      <td>26513</td>\n",
       "      <td>0.174141</td>\n",
       "      <td>0.174141</td>\n",
       "    </tr>\n",
       "  </tbody>\n",
       "</table>\n",
       "</div>"
      ],
      "text/plain": [
       "           repoName granularity clone_type language project_type   locc  \\\n",
       "66   MPAndroidChart    Function     Type 1     java  Traditional    390   \n",
       "171           dubbo    Function     Type 1     java  Traditional  13175   \n",
       "183       framework    Function     Type 1     java  Traditional  24808   \n",
       "212          okhttp    Function     Type 1     java  Traditional   1113   \n",
       "218        retrofit    Function     Type 1     java  Traditional   4617   \n",
       "\n",
       "     total_sloc  LOCC / total SLOC  LOCC_total_SLOC  \n",
       "66        25232           0.015457         0.015457  \n",
       "171      174064           0.075691         0.075691  \n",
       "183      437134           0.056751         0.056751  \n",
       "212       37217           0.029906         0.029906  \n",
       "218       26513           0.174141         0.174141  "
      ]
     },
     "execution_count": 144,
     "metadata": {},
     "output_type": "execute_result"
    }
   ],
   "source": [
    "trad_type1.head()"
   ]
  },
  {
   "cell_type": "code",
   "execution_count": 145,
   "metadata": {},
   "outputs": [
    {
     "data": {
      "text/html": [
       "<div>\n",
       "<style scoped>\n",
       "    .dataframe tbody tr th:only-of-type {\n",
       "        vertical-align: middle;\n",
       "    }\n",
       "\n",
       "    .dataframe tbody tr th {\n",
       "        vertical-align: top;\n",
       "    }\n",
       "\n",
       "    .dataframe thead th {\n",
       "        text-align: right;\n",
       "    }\n",
       "</style>\n",
       "<table border=\"1\" class=\"dataframe\">\n",
       "  <thead>\n",
       "    <tr style=\"text-align: right;\">\n",
       "      <th></th>\n",
       "      <th>repoName</th>\n",
       "      <th>granularity</th>\n",
       "      <th>clone_type</th>\n",
       "      <th>language</th>\n",
       "      <th>project_type</th>\n",
       "      <th>locc</th>\n",
       "      <th>total_sloc</th>\n",
       "      <th>LOCC / total SLOC</th>\n",
       "      <th>LOCC_total_SLOC</th>\n",
       "    </tr>\n",
       "  </thead>\n",
       "  <tbody>\n",
       "    <tr>\n",
       "      <td>32</td>\n",
       "      <td>DeepDriver</td>\n",
       "      <td>Function</td>\n",
       "      <td>Type 1</td>\n",
       "      <td>java</td>\n",
       "      <td>Deep Learning</td>\n",
       "      <td>3510</td>\n",
       "      <td>32265</td>\n",
       "      <td>0.108787</td>\n",
       "      <td>0.108787</td>\n",
       "    </tr>\n",
       "    <tr>\n",
       "      <td>108</td>\n",
       "      <td>SANNet</td>\n",
       "      <td>Function</td>\n",
       "      <td>Type 1</td>\n",
       "      <td>java</td>\n",
       "      <td>Deep Learning</td>\n",
       "      <td>319</td>\n",
       "      <td>16172</td>\n",
       "      <td>0.019725</td>\n",
       "      <td>0.019725</td>\n",
       "    </tr>\n",
       "    <tr>\n",
       "      <td>162</td>\n",
       "      <td>deeplearning4j</td>\n",
       "      <td>Function</td>\n",
       "      <td>Type 1</td>\n",
       "      <td>java</td>\n",
       "      <td>Deep Learning</td>\n",
       "      <td>14017</td>\n",
       "      <td>526195</td>\n",
       "      <td>0.026638</td>\n",
       "      <td>0.026638</td>\n",
       "    </tr>\n",
       "    <tr>\n",
       "      <td>168</td>\n",
       "      <td>djl</td>\n",
       "      <td>Function</td>\n",
       "      <td>Type 1</td>\n",
       "      <td>java</td>\n",
       "      <td>Deep Learning</td>\n",
       "      <td>1002</td>\n",
       "      <td>74161</td>\n",
       "      <td>0.013511</td>\n",
       "      <td>0.013511</td>\n",
       "    </tr>\n",
       "    <tr>\n",
       "      <td>200</td>\n",
       "      <td>knime-deeplearning</td>\n",
       "      <td>Function</td>\n",
       "      <td>Type 1</td>\n",
       "      <td>java</td>\n",
       "      <td>Deep Learning</td>\n",
       "      <td>4249</td>\n",
       "      <td>49445</td>\n",
       "      <td>0.085934</td>\n",
       "      <td>0.085934</td>\n",
       "    </tr>\n",
       "  </tbody>\n",
       "</table>\n",
       "</div>"
      ],
      "text/plain": [
       "               repoName granularity clone_type language   project_type   locc  \\\n",
       "32           DeepDriver    Function     Type 1     java  Deep Learning   3510   \n",
       "108              SANNet    Function     Type 1     java  Deep Learning    319   \n",
       "162      deeplearning4j    Function     Type 1     java  Deep Learning  14017   \n",
       "168                 djl    Function     Type 1     java  Deep Learning   1002   \n",
       "200  knime-deeplearning    Function     Type 1     java  Deep Learning   4249   \n",
       "\n",
       "     total_sloc  LOCC / total SLOC  LOCC_total_SLOC  \n",
       "32        32265           0.108787         0.108787  \n",
       "108       16172           0.019725         0.019725  \n",
       "162      526195           0.026638         0.026638  \n",
       "168       74161           0.013511         0.013511  \n",
       "200       49445           0.085934         0.085934  "
      ]
     },
     "execution_count": 145,
     "metadata": {},
     "output_type": "execute_result"
    }
   ],
   "source": [
    "dl_type1.head()"
   ]
  },
  {
   "cell_type": "code",
   "execution_count": 146,
   "metadata": {},
   "outputs": [
    {
     "data": {
      "text/plain": [
       "0.05555555555555555"
      ]
     },
     "execution_count": 146,
     "metadata": {},
     "output_type": "execute_result"
    }
   ],
   "source": [
    "cliffsDelta(trad_type1.LOCC_total_SLOC,dl_type1.LOCC_total_SLOC)"
   ]
  },
  {
   "cell_type": "code",
   "execution_count": 147,
   "metadata": {},
   "outputs": [
    {
     "data": {
      "text/plain": [
       "0.2222222222222222"
      ]
     },
     "execution_count": 147,
     "metadata": {},
     "output_type": "execute_result"
    }
   ],
   "source": [
    "cliffsDelta(trad_type2.LOCC_total_SLOC,dl_type2.LOCC_total_SLOC)"
   ]
  },
  {
   "cell_type": "code",
   "execution_count": 148,
   "metadata": {},
   "outputs": [
    {
     "data": {
      "text/plain": [
       "0.05555555555555555"
      ]
     },
     "execution_count": 148,
     "metadata": {},
     "output_type": "execute_result"
    }
   ],
   "source": [
    "cliffsDelta(trad_type3.LOCC_total_SLOC,dl_type3.LOCC_total_SLOC)"
   ]
  },
  {
   "cell_type": "code",
   "execution_count": 227,
   "metadata": {},
   "outputs": [
    {
     "data": {
      "image/png": "[encoded data removed]",
      "text/plain": [
       "<Figure size 432x432 with 1 Axes>"
      ]
     },
     "metadata": {},
     "output_type": "display_data"
    }
   ],
   "source": [
    "sns.set(rc={'figure.figsize':(6,6)})\n",
    "sns.set(font_scale=1.5)\n",
    "sns.set_style('white')\n",
    "sns.set_style('ticks', {'axes.edgecolor': '0',  \n",
    "                        'xtick.color': '0',\n",
    "                        'ytick.color': '0'})\n",
    "# Define some hatches\n",
    "hatches = cycle(['///','x', 'o'])\n",
    "\n",
    "\n",
    "# Boxplot\n",
    "ax = sns.boxplot(x=\"project_type\", y=\"LOCC / total SLOC\", data=repos_clones_size_java_fct,order=[\"Deep Learning\", \"Traditional\"],\n",
    "                 showfliers=False, hue='clone_type',color='black',medianprops=dict(color='black'), \n",
    "                  boxprops = dict(facecolor='white',edgecolor='black' ))\n",
    "ax.set_yscale(\"log\")\n",
    "ax.set(xlabel='Project Type (java Th20)', ylabel='log(LOCC / total SLOC)')\n",
    "#plt.legend(loc='best')\n",
    "plt.title('(a) Function Granularity')\n",
    "patches=[]\n",
    "for i, patch in enumerate(ax.artists):\n",
    "    # Boxes from left to right\n",
    "    hatch = next(hatches)\n",
    "    patch.set_hatch(hatch)\n",
    "    if patch not in patches:\n",
    "        patches.append(patch)\n",
    "\n",
    "type1_patch = Patch(fc='white',edgecolor='black', label='Type 1', hatch='///')\n",
    "type2_patch = Patch( fc='white',edgecolor='black',label='Type 2',     hatch ='x')\n",
    "type3_patch = Patch(fc='white',edgecolor='black', label='Type 3',     hatch ='o')\n",
    "legend=plt.legend(handles=[type1_patch, type2_patch, type3_patch],loc='best')\n",
    "frame = legend.get_frame()\n",
    "plt.show()\n",
    "fig = ax.get_figure()\n",
    "fig.savefig(\"images_pdf/java_dl_trad_clone_types_fct_20.pdf\",bbox_inches='tight')"
   ]
  },
  {
   "cell_type": "markdown",
   "metadata": {},
   "source": [
    "## Java -By Clone Types-Block granularity"
   ]
  },
  {
   "cell_type": "code",
   "execution_count": 216,
   "metadata": {},
   "outputs": [],
   "source": [
    "repos_clones_size = repos_clones_size_java_blk\n",
    "traditional = repos_clones_size[repos_clones_size['project_type']=='Traditional']\n",
    "dl = repos_clones_size[repos_clones_size['project_type']=='Deep Learning']"
   ]
  },
  {
   "cell_type": "code",
   "execution_count": 217,
   "metadata": {},
   "outputs": [],
   "source": [
    "traditional['clone_type'] = traditional.apply(capitalize, axis=1)\n",
    "dl['clone_type'] = dl.apply(capitalize, axis=1)"
   ]
  },
  {
   "cell_type": "code",
   "execution_count": 218,
   "metadata": {},
   "outputs": [],
   "source": [
    "trad_type1 = traditional[traditional['clone_type']=='Type 1']\n",
    "trad_type2 = traditional[traditional['clone_type']=='Type 2']\n",
    "trad_type3 = traditional[traditional['clone_type']=='Type 3']\n",
    "\n",
    "dl_type1 = dl[dl['clone_type']=='Type 1']\n",
    "dl_type2 = dl[dl['clone_type']=='Type 2']\n",
    "dl_type3 = dl[dl['clone_type']=='Type 3']"
   ]
  },
  {
   "cell_type": "code",
   "execution_count": 219,
   "metadata": {},
   "outputs": [
    {
     "data": {
      "text/plain": [
       "MannwhitneyuResult(statistic=14.0, pvalue=0.9272644735252321)"
      ]
     },
     "execution_count": 219,
     "metadata": {},
     "output_type": "execute_result"
    }
   ],
   "source": [
    "stats.mannwhitneyu(trad_type1.LOCC_total_SLOC,dl_type1.LOCC_total_SLOC, alternative='two-sided')"
   ]
  },
  {
   "cell_type": "code",
   "execution_count": 154,
   "metadata": {},
   "outputs": [
    {
     "data": {
      "text/plain": [
       "MannwhitneyuResult(statistic=12.0, pvalue=0.6480768681391461)"
      ]
     },
     "execution_count": 154,
     "metadata": {},
     "output_type": "execute_result"
    }
   ],
   "source": [
    "stats.mannwhitneyu(trad_type2.LOCC_total_SLOC,dl_type2.LOCC_total_SLOC, alternative='two-sided')"
   ]
  },
  {
   "cell_type": "code",
   "execution_count": 155,
   "metadata": {},
   "outputs": [
    {
     "data": {
      "text/plain": [
       "MannwhitneyuResult(statistic=15.0, pvalue=0.9272644735252321)"
      ]
     },
     "execution_count": 155,
     "metadata": {},
     "output_type": "execute_result"
    }
   ],
   "source": [
    "stats.mannwhitneyu(trad_type3.LOCC_total_SLOC,dl_type3.LOCC_total_SLOC, alternative='two-sided')"
   ]
  },
  {
   "cell_type": "code",
   "execution_count": 156,
   "metadata": {},
   "outputs": [
    {
     "data": {
      "text/plain": [
       "0.06666666666666667"
      ]
     },
     "execution_count": 156,
     "metadata": {},
     "output_type": "execute_result"
    }
   ],
   "source": [
    "cliffsDelta(trad_type1.LOCC_total_SLOC,dl_type1.LOCC_total_SLOC)"
   ]
  },
  {
   "cell_type": "code",
   "execution_count": 157,
   "metadata": {},
   "outputs": [
    {
     "data": {
      "text/plain": [
       "0.2"
      ]
     },
     "execution_count": 157,
     "metadata": {},
     "output_type": "execute_result"
    }
   ],
   "source": [
    "cliffsDelta(trad_type2.LOCC_total_SLOC,dl_type2.LOCC_total_SLOC)"
   ]
  },
  {
   "cell_type": "code",
   "execution_count": 159,
   "metadata": {},
   "outputs": [
    {
     "data": {
      "text/plain": [
       "0.0"
      ]
     },
     "execution_count": 159,
     "metadata": {},
     "output_type": "execute_result"
    }
   ],
   "source": [
    "cliffsDelta(trad_type3.LOCC_total_SLOC,dl_type3.LOCC_total_SLOC)"
   ]
  },
  {
   "cell_type": "code",
   "execution_count": 226,
   "metadata": {},
   "outputs": [
    {
     "data": {
      "image/png": "[encoded data removed]",
      "text/plain": [
       "<Figure size 432x432 with 1 Axes>"
      ]
     },
     "metadata": {},
     "output_type": "display_data"
    }
   ],
   "source": [
    "sns.set(rc={'figure.figsize':(6,6)})\n",
    "sns.set(font_scale=1.5)\n",
    "sns.set_style('white')\n",
    "sns.set_style('ticks', {'axes.edgecolor': '0',  \n",
    "                        'xtick.color': '0',\n",
    "                        'ytick.color': '0'})\n",
    "# Define some hatches\n",
    "hatches = cycle(['///','x', 'o'])\n",
    "\n",
    "\n",
    "# Boxplot\n",
    "ax = sns.boxplot(x=\"project_type\", y=\"LOCC / total SLOC\", data=repos_clones_size_java_blk, order=[\"Deep Learning\", \"Traditional\"],\n",
    "                 showfliers=False, hue='clone_type',color='black',medianprops=dict(color='black'), \n",
    "                  boxprops = dict(facecolor='white',edgecolor='black' ))\n",
    "ax.set_yscale(\"log\")\n",
    "ax.set(xlabel='Project Type (java Th20)', ylabel='log(LOCC / total SLOC)')\n",
    "#plt.legend(loc='best')\n",
    "plt.title('(b) Block Granularity')\n",
    "patches=[]\n",
    "for i, patch in enumerate(ax.artists):\n",
    "    # Boxes from left to right\n",
    "    hatch = next(hatches)\n",
    "    patch.set_hatch(hatch)\n",
    "    if patch not in patches:\n",
    "        patches.append(patch)\n",
    "\n",
    "type1_patch = Patch(fc='white',edgecolor='black', label='Type 1', hatch='///')\n",
    "type2_patch = Patch( fc='white',edgecolor='black',label='Type 2',     hatch ='x')\n",
    "type3_patch = Patch(fc='white',edgecolor='black', label='Type 3',     hatch ='o')\n",
    "legend=plt.legend(handles=[type1_patch, type2_patch, type3_patch],loc='lower center')\n",
    "frame = legend.get_frame()\n",
    "plt.show()\n",
    "fig = ax.get_figure()\n",
    "fig.savefig(\"images_pdf/java_dl_trad_clone_types_blk_20.pdf\",bbox_inches='tight')"
   ]
  },
  {
   "cell_type": "markdown",
   "metadata": {},
   "source": [
    "# RQ1-C#"
   ]
  },
  {
   "cell_type": "code",
   "execution_count": 228,
   "metadata": {},
   "outputs": [],
   "source": [
    "repos_clones_size = repos_clones_size_all\n",
    "repos_clones_size_csharp= repos_clones_size[repos_clones_size['language']=='csharp']\n",
    "repos_clones_size_csharp_fct = repos_clones_size_csharp[repos_clones_size_csharp['granularity']=='Function']\n",
    "repos_clones_size_csharp_blk = repos_clones_size_csharp[repos_clones_size_csharp['granularity']=='Block']"
   ]
  },
  {
   "cell_type": "code",
   "execution_count": 124,
   "metadata": {
    "scrolled": true
   },
   "outputs": [
    {
     "data": {
      "text/html": [
       "<div>\n",
       "<style scoped>\n",
       "    .dataframe tbody tr th:only-of-type {\n",
       "        vertical-align: middle;\n",
       "    }\n",
       "\n",
       "    .dataframe tbody tr th {\n",
       "        vertical-align: top;\n",
       "    }\n",
       "\n",
       "    .dataframe thead th {\n",
       "        text-align: right;\n",
       "    }\n",
       "</style>\n",
       "<table border=\"1\" class=\"dataframe\">\n",
       "  <thead>\n",
       "    <tr style=\"text-align: right;\">\n",
       "      <th></th>\n",
       "      <th>repoName</th>\n",
       "      <th>granularity</th>\n",
       "      <th>clone_type</th>\n",
       "      <th>language</th>\n",
       "      <th>project_type</th>\n",
       "      <th>locc</th>\n",
       "      <th>repoName_path</th>\n",
       "      <th>total_sloc</th>\n",
       "      <th>LOCC / total SLOC</th>\n",
       "      <th>LOCC_total_SLOC</th>\n",
       "    </tr>\n",
       "  </thead>\n",
       "  <tbody>\n",
       "    <tr>\n",
       "      <th>3</th>\n",
       "      <td>AspectCore-Framework</td>\n",
       "      <td>Function</td>\n",
       "      <td>Type 1</td>\n",
       "      <td>csharp</td>\n",
       "      <td>Traditional</td>\n",
       "      <td>134</td>\n",
       "      <td>/tmpstore/bimus/b-repositories/trad/csharp/Asp...</td>\n",
       "      <td>17316</td>\n",
       "      <td>0.007739</td>\n",
       "      <td>0.007739</td>\n",
       "    </tr>\n",
       "    <tr>\n",
       "      <th>4</th>\n",
       "      <td>AspectCore-Framework</td>\n",
       "      <td>Function</td>\n",
       "      <td>Type 2</td>\n",
       "      <td>csharp</td>\n",
       "      <td>Traditional</td>\n",
       "      <td>939</td>\n",
       "      <td>/tmpstore/bimus/b-repositories/trad/csharp/Asp...</td>\n",
       "      <td>17316</td>\n",
       "      <td>0.054227</td>\n",
       "      <td>0.054227</td>\n",
       "    </tr>\n",
       "    <tr>\n",
       "      <th>5</th>\n",
       "      <td>AspectCore-Framework</td>\n",
       "      <td>Function</td>\n",
       "      <td>Type 3</td>\n",
       "      <td>csharp</td>\n",
       "      <td>Traditional</td>\n",
       "      <td>3411</td>\n",
       "      <td>/tmpstore/bimus/b-repositories/trad/csharp/Asp...</td>\n",
       "      <td>17316</td>\n",
       "      <td>0.196985</td>\n",
       "      <td>0.196985</td>\n",
       "    </tr>\n",
       "    <tr>\n",
       "      <th>9</th>\n",
       "      <td>Avalonia</td>\n",
       "      <td>Function</td>\n",
       "      <td>Type 1</td>\n",
       "      <td>csharp</td>\n",
       "      <td>Traditional</td>\n",
       "      <td>1874</td>\n",
       "      <td>/tmpstore/bimus/b-repositories/trad/csharp/Ava...</td>\n",
       "      <td>245432</td>\n",
       "      <td>0.007636</td>\n",
       "      <td>0.007636</td>\n",
       "    </tr>\n",
       "    <tr>\n",
       "      <th>10</th>\n",
       "      <td>Avalonia</td>\n",
       "      <td>Function</td>\n",
       "      <td>Type 2</td>\n",
       "      <td>csharp</td>\n",
       "      <td>Traditional</td>\n",
       "      <td>8725</td>\n",
       "      <td>/tmpstore/bimus/b-repositories/trad/csharp/Ava...</td>\n",
       "      <td>245432</td>\n",
       "      <td>0.035550</td>\n",
       "      <td>0.035550</td>\n",
       "    </tr>\n",
       "  </tbody>\n",
       "</table>\n",
       "</div>"
      ],
      "text/plain": [
       "                repoName granularity clone_type language project_type  locc  \\\n",
       "3   AspectCore-Framework    Function     Type 1   csharp  Traditional   134   \n",
       "4   AspectCore-Framework    Function     Type 2   csharp  Traditional   939   \n",
       "5   AspectCore-Framework    Function     Type 3   csharp  Traditional  3411   \n",
       "9               Avalonia    Function     Type 1   csharp  Traditional  1874   \n",
       "10              Avalonia    Function     Type 2   csharp  Traditional  8725   \n",
       "\n",
       "                                        repoName_path  total_sloc  \\\n",
       "3   /tmpstore/bimus/b-repositories/trad/csharp/Asp...       17316   \n",
       "4   /tmpstore/bimus/b-repositories/trad/csharp/Asp...       17316   \n",
       "5   /tmpstore/bimus/b-repositories/trad/csharp/Asp...       17316   \n",
       "9   /tmpstore/bimus/b-repositories/trad/csharp/Ava...      245432   \n",
       "10  /tmpstore/bimus/b-repositories/trad/csharp/Ava...      245432   \n",
       "\n",
       "    LOCC / total SLOC  LOCC_total_SLOC  \n",
       "3            0.007739         0.007739  \n",
       "4            0.054227         0.054227  \n",
       "5            0.196985         0.196985  \n",
       "9            0.007636         0.007636  \n",
       "10           0.035550         0.035550  "
      ]
     },
     "execution_count": 124,
     "metadata": {},
     "output_type": "execute_result"
    }
   ],
   "source": [
    "repos_clones_size_csharp_fct.head()"
   ]
  },
  {
   "cell_type": "code",
   "execution_count": 125,
   "metadata": {},
   "outputs": [
    {
     "data": {
      "text/html": [
       "<div>\n",
       "<style scoped>\n",
       "    .dataframe tbody tr th:only-of-type {\n",
       "        vertical-align: middle;\n",
       "    }\n",
       "\n",
       "    .dataframe tbody tr th {\n",
       "        vertical-align: top;\n",
       "    }\n",
       "\n",
       "    .dataframe thead th {\n",
       "        text-align: right;\n",
       "    }\n",
       "</style>\n",
       "<table border=\"1\" class=\"dataframe\">\n",
       "  <thead>\n",
       "    <tr style=\"text-align: right;\">\n",
       "      <th></th>\n",
       "      <th>repoName</th>\n",
       "      <th>granularity</th>\n",
       "      <th>clone_type</th>\n",
       "      <th>language</th>\n",
       "      <th>project_type</th>\n",
       "      <th>locc</th>\n",
       "      <th>repoName_path</th>\n",
       "      <th>total_sloc</th>\n",
       "      <th>LOCC / total SLOC</th>\n",
       "      <th>LOCC_total_SLOC</th>\n",
       "    </tr>\n",
       "  </thead>\n",
       "  <tbody>\n",
       "    <tr>\n",
       "      <th>0</th>\n",
       "      <td>AspectCore-Framework</td>\n",
       "      <td>Block</td>\n",
       "      <td>Type 1</td>\n",
       "      <td>csharp</td>\n",
       "      <td>Traditional</td>\n",
       "      <td>497</td>\n",
       "      <td>/tmpstore/bimus/b-repositories/trad/csharp/Asp...</td>\n",
       "      <td>17316</td>\n",
       "      <td>0.028702</td>\n",
       "      <td>0.028702</td>\n",
       "    </tr>\n",
       "    <tr>\n",
       "      <th>1</th>\n",
       "      <td>AspectCore-Framework</td>\n",
       "      <td>Block</td>\n",
       "      <td>Type 2</td>\n",
       "      <td>csharp</td>\n",
       "      <td>Traditional</td>\n",
       "      <td>1176</td>\n",
       "      <td>/tmpstore/bimus/b-repositories/trad/csharp/Asp...</td>\n",
       "      <td>17316</td>\n",
       "      <td>0.067914</td>\n",
       "      <td>0.067914</td>\n",
       "    </tr>\n",
       "    <tr>\n",
       "      <th>2</th>\n",
       "      <td>AspectCore-Framework</td>\n",
       "      <td>Block</td>\n",
       "      <td>Type 3</td>\n",
       "      <td>csharp</td>\n",
       "      <td>Traditional</td>\n",
       "      <td>4311</td>\n",
       "      <td>/tmpstore/bimus/b-repositories/trad/csharp/Asp...</td>\n",
       "      <td>17316</td>\n",
       "      <td>0.248960</td>\n",
       "      <td>0.248960</td>\n",
       "    </tr>\n",
       "    <tr>\n",
       "      <th>6</th>\n",
       "      <td>Avalonia</td>\n",
       "      <td>Block</td>\n",
       "      <td>Type 1</td>\n",
       "      <td>csharp</td>\n",
       "      <td>Traditional</td>\n",
       "      <td>4000</td>\n",
       "      <td>/tmpstore/bimus/b-repositories/trad/csharp/Ava...</td>\n",
       "      <td>245432</td>\n",
       "      <td>0.016298</td>\n",
       "      <td>0.016298</td>\n",
       "    </tr>\n",
       "    <tr>\n",
       "      <th>7</th>\n",
       "      <td>Avalonia</td>\n",
       "      <td>Block</td>\n",
       "      <td>Type 2</td>\n",
       "      <td>csharp</td>\n",
       "      <td>Traditional</td>\n",
       "      <td>12869</td>\n",
       "      <td>/tmpstore/bimus/b-repositories/trad/csharp/Ava...</td>\n",
       "      <td>245432</td>\n",
       "      <td>0.052434</td>\n",
       "      <td>0.052434</td>\n",
       "    </tr>\n",
       "  </tbody>\n",
       "</table>\n",
       "</div>"
      ],
      "text/plain": [
       "               repoName granularity clone_type language project_type   locc  \\\n",
       "0  AspectCore-Framework       Block     Type 1   csharp  Traditional    497   \n",
       "1  AspectCore-Framework       Block     Type 2   csharp  Traditional   1176   \n",
       "2  AspectCore-Framework       Block     Type 3   csharp  Traditional   4311   \n",
       "6              Avalonia       Block     Type 1   csharp  Traditional   4000   \n",
       "7              Avalonia       Block     Type 2   csharp  Traditional  12869   \n",
       "\n",
       "                                       repoName_path  total_sloc  \\\n",
       "0  /tmpstore/bimus/b-repositories/trad/csharp/Asp...       17316   \n",
       "1  /tmpstore/bimus/b-repositories/trad/csharp/Asp...       17316   \n",
       "2  /tmpstore/bimus/b-repositories/trad/csharp/Asp...       17316   \n",
       "6  /tmpstore/bimus/b-repositories/trad/csharp/Ava...      245432   \n",
       "7  /tmpstore/bimus/b-repositories/trad/csharp/Ava...      245432   \n",
       "\n",
       "   LOCC / total SLOC  LOCC_total_SLOC  \n",
       "0           0.028702         0.028702  \n",
       "1           0.067914         0.067914  \n",
       "2           0.248960         0.248960  \n",
       "6           0.016298         0.016298  \n",
       "7           0.052434         0.052434  "
      ]
     },
     "execution_count": 125,
     "metadata": {},
     "output_type": "execute_result"
    }
   ],
   "source": [
    "repos_clones_size_csharp_blk.head()"
   ]
  },
  {
   "cell_type": "markdown",
   "metadata": {},
   "source": [
    "## C\\# All Types Function granularity"
   ]
  },
  {
   "cell_type": "code",
   "execution_count": 229,
   "metadata": {},
   "outputs": [],
   "source": [
    "repos_clones_size = repos_clones_size_csharp_fct"
   ]
  },
  {
   "cell_type": "code",
   "execution_count": 230,
   "metadata": {},
   "outputs": [],
   "source": [
    "traditional = repos_clones_size[repos_clones_size['project_type']=='Traditional']\n",
    "dl = repos_clones_size[repos_clones_size['project_type']=='Deep Learning']"
   ]
  },
  {
   "cell_type": "code",
   "execution_count": 166,
   "metadata": {},
   "outputs": [
    {
     "data": {
      "text/plain": [
       "MannwhitneyuResult(statistic=653.0, pvalue=0.10908321457834286)"
      ]
     },
     "execution_count": 166,
     "metadata": {},
     "output_type": "execute_result"
    }
   ],
   "source": [
    "stats.mannwhitneyu(traditional.LOCC_total_SLOC,dl.LOCC_total_SLOC)"
   ]
  },
  {
   "cell_type": "code",
   "execution_count": 167,
   "metadata": {},
   "outputs": [
    {
     "data": {
      "text/plain": [
       "MannwhitneyuResult(statistic=653.0, pvalue=0.21816642915668572)"
      ]
     },
     "execution_count": 167,
     "metadata": {},
     "output_type": "execute_result"
    }
   ],
   "source": [
    "stats.mannwhitneyu(traditional.LOCC_total_SLOC,dl.LOCC_total_SLOC, alternative='two-sided')"
   ]
  },
  {
   "cell_type": "code",
   "execution_count": 168,
   "metadata": {},
   "outputs": [
    {
     "data": {
      "text/plain": [
       "MannwhitneyuResult(statistic=905.0, pvalue=0.21816642915668572)"
      ]
     },
     "execution_count": 168,
     "metadata": {},
     "output_type": "execute_result"
    }
   ],
   "source": [
    "stats.mannwhitneyu(dl.LOCC_total_SLOC,traditional.LOCC_total_SLOC, alternative='two-sided')"
   ]
  },
  {
   "cell_type": "code",
   "execution_count": 169,
   "metadata": {},
   "outputs": [
    {
     "data": {
      "text/plain": [
       "0.16174582798459564"
      ]
     },
     "execution_count": 169,
     "metadata": {},
     "output_type": "execute_result"
    }
   ],
   "source": [
    "cliffsDelta(traditional.LOCC_total_SLOC,dl.LOCC_total_SLOC)"
   ]
  },
  {
   "cell_type": "code",
   "execution_count": 231,
   "metadata": {},
   "outputs": [
    {
     "data": {
      "image/png": "[encoded data removed]",
      "text/plain": [
       "<Figure size 432x432 with 1 Axes>"
      ]
     },
     "metadata": {},
     "output_type": "display_data"
    }
   ],
   "source": [
    "sns.set(rc={'figure.figsize':(6,6)})\n",
    "sns.set(font_scale=1.5)\n",
    "sns.set_style('white')\n",
    "sns.set_style('ticks', {'axes.edgecolor': '0',  \n",
    "                        'xtick.color': '0',\n",
    "                        'ytick.color': '0'})\n",
    "# Define some hatches\n",
    "hatches = cycle(['///','x', 'o'])\n",
    "\n",
    "\n",
    "# Boxplot\n",
    "ax = sns.boxplot(x=\"project_type\", y=\"LOCC / total SLOC\", data=repos_clones_size_csharp_fct, order=[\"Deep Learning\", \"Traditional\"], showfliers=False,color='black',medianprops=dict(color='black'), \n",
    "                  boxprops = dict(facecolor='white',edgecolor='black' ))\n",
    "#ax.set_yscale(\"log\")\n",
    "ax.set(xlabel='Project Type (c# Th20)', ylabel='log(LOCC / total SLOC)')\n",
    "#plt.legend(loc='best')\n",
    "plt.title('(a) Function Granularity')\n",
    "patches=[]\n",
    "for i, patch in enumerate(ax.artists):\n",
    "    # Boxes from left to right\n",
    "    hatch = next(hatches)\n",
    "    patch.set_hatch(hatch)\n",
    "    if patch not in patches:\n",
    "        patches.append(patch)\n",
    "\n",
    "#type1_patch = Patch(fc='white',edgecolor='black', label='Type 1', hatch='///')\n",
    "#type2_patch = Patch( fc='white',edgecolor='black',label='Type 2',     hatch ='x')\n",
    "#type3_patch = Patch(fc='white',edgecolor='black', label='Type 3',     hatch ='o')\n",
    "#legend=plt.legend(handles=[type1_patch, type2_patch, type3_patch],loc='best')\n",
    "#frame = legend.get_frame()\n",
    "plt.show()\n",
    "fig = ax.get_figure()\n",
    "fig.savefig(\"images_pdf/csharp_dl_trad_all_clone_type_fct_20.pdf\",bbox_inches='tight')"
   ]
  },
  {
   "cell_type": "markdown",
   "metadata": {},
   "source": [
    "## C\\#- All Types Block granularity"
   ]
  },
  {
   "cell_type": "code",
   "execution_count": 232,
   "metadata": {},
   "outputs": [],
   "source": [
    "repos_clones_size = repos_clones_size_csharp_blk"
   ]
  },
  {
   "cell_type": "code",
   "execution_count": 233,
   "metadata": {},
   "outputs": [],
   "source": [
    "traditional = repos_clones_size[repos_clones_size['project_type']=='Traditional']\n",
    "dl = repos_clones_size[repos_clones_size['project_type']=='Deep Learning']"
   ]
  },
  {
   "cell_type": "code",
   "execution_count": 234,
   "metadata": {},
   "outputs": [
    {
     "data": {
      "text/plain": [
       "MannwhitneyuResult(statistic=729.0, pvalue=0.11551041172083781)"
      ]
     },
     "execution_count": 234,
     "metadata": {},
     "output_type": "execute_result"
    }
   ],
   "source": [
    "stats.mannwhitneyu(traditional.LOCC_total_SLOC,dl.LOCC_total_SLOC)"
   ]
  },
  {
   "cell_type": "code",
   "execution_count": 235,
   "metadata": {},
   "outputs": [
    {
     "data": {
      "text/plain": [
       "MannwhitneyuResult(statistic=729.0, pvalue=0.23102082344167563)"
      ]
     },
     "execution_count": 235,
     "metadata": {},
     "output_type": "execute_result"
    }
   ],
   "source": [
    "stats.mannwhitneyu(traditional.LOCC_total_SLOC,dl.LOCC_total_SLOC, alternative='two-sided')"
   ]
  },
  {
   "cell_type": "code",
   "execution_count": 236,
   "metadata": {},
   "outputs": [
    {
     "data": {
      "text/plain": [
       "MannwhitneyuResult(statistic=993.0, pvalue=0.23102082344167563)"
      ]
     },
     "execution_count": 236,
     "metadata": {},
     "output_type": "execute_result"
    }
   ],
   "source": [
    "stats.mannwhitneyu(dl.LOCC_total_SLOC,traditional.LOCC_total_SLOC, alternative='two-sided')"
   ]
  },
  {
   "cell_type": "code",
   "execution_count": 237,
   "metadata": {},
   "outputs": [
    {
     "data": {
      "text/plain": [
       "0.15331010452961671"
      ]
     },
     "execution_count": 237,
     "metadata": {},
     "output_type": "execute_result"
    }
   ],
   "source": [
    "cliffsDelta(traditional.LOCC_total_SLOC,dl.LOCC_total_SLOC)"
   ]
  },
  {
   "cell_type": "code",
   "execution_count": 239,
   "metadata": {},
   "outputs": [
    {
     "data": {
      "image/png": "[encoded data removed]",
      "text/plain": [
       "<Figure size 432x432 with 1 Axes>"
      ]
     },
     "metadata": {},
     "output_type": "display_data"
    }
   ],
   "source": [
    "sns.set(rc={'figure.figsize':(6,6)})\n",
    "sns.set(font_scale=1.5)\n",
    "sns.set_style('white')\n",
    "sns.set_style('ticks', {'axes.edgecolor': '0',  \n",
    "                        'xtick.color': '0',\n",
    "                        'ytick.color': '0'})\n",
    "# Define some hatches\n",
    "hatches = cycle(['///','x', 'o'])\n",
    "\n",
    "\n",
    "# Boxplot\n",
    "ax = sns.boxplot(x=\"project_type\", y=\"LOCC / total SLOC\", data=repos_clones_size_csharp_blk,order=[\"Deep Learning\", \"Traditional\"],\n",
    "                 showfliers=False,color='black',medianprops=dict(color='black'), \n",
    "                  boxprops = dict(facecolor='white',edgecolor='black' ))\n",
    "#ax.set_yscale(\"log\")\n",
    "ax.set(xlabel='Project Type (c# Th20)', ylabel='log(LOCC / total SLOC)')\n",
    "#plt.legend(loc='best')\n",
    "plt.title('(b) Block Granularity')\n",
    "patches=[]\n",
    "for i, patch in enumerate(ax.artists):\n",
    "    # Boxes from left to right\n",
    "    hatch = next(hatches)\n",
    "    patch.set_hatch(hatch)\n",
    "    if patch not in patches:\n",
    "        patches.append(patch)\n",
    "\n",
    "#type1_patch = Patch(fc='white',edgecolor='black', label='Type 1', hatch='///')\n",
    "#type2_patch = Patch( fc='white',edgecolor='black',label='Type 2',     hatch ='x')\n",
    "#type3_patch = Patch(fc='white',edgecolor='black', label='Type 3',     hatch ='o')\n",
    "#legend=plt.legend(handles=[type1_patch, type2_patch, type3_patch],loc='best')\n",
    "#frame = legend.get_frame()\n",
    "plt.show()\n",
    "fig = ax.get_figure()\n",
    "fig.savefig(\"images_pdf/csharp_dl_trad_all_clone_type_blk_20.pdf\",bbox_inches='tight')"
   ]
  },
  {
   "cell_type": "markdown",
   "metadata": {},
   "source": [
    "## C\\# -By Clone Types-Function granularity"
   ]
  },
  {
   "cell_type": "code",
   "execution_count": 240,
   "metadata": {},
   "outputs": [],
   "source": [
    "repos_clones_size = repos_clones_size_csharp_fct\n",
    "traditional = repos_clones_size[repos_clones_size['project_type']=='Traditional']\n",
    "dl = repos_clones_size[repos_clones_size['project_type']=='Deep Learning']"
   ]
  },
  {
   "cell_type": "code",
   "execution_count": 241,
   "metadata": {},
   "outputs": [],
   "source": [
    "traditional['clone_type'] = traditional.apply(capitalize, axis=1)\n",
    "dl['clone_type'] = dl.apply(capitalize, axis=1)"
   ]
  },
  {
   "cell_type": "code",
   "execution_count": 242,
   "metadata": {},
   "outputs": [],
   "source": [
    "trad_type1 = traditional[traditional['clone_type']=='Type 1']\n",
    "trad_type2 = traditional[traditional['clone_type']=='Type 2']\n",
    "trad_type3 = traditional[traditional['clone_type']=='Type 3']\n",
    "\n",
    "dl_type1 = dl[dl['clone_type']=='Type 1']\n",
    "dl_type2 = dl[dl['clone_type']=='Type 2']\n",
    "dl_type3 = dl[dl['clone_type']=='Type 3']"
   ]
  },
  {
   "cell_type": "code",
   "execution_count": 243,
   "metadata": {},
   "outputs": [
    {
     "data": {
      "text/plain": [
       "MannwhitneyuResult(statistic=69.0, pvalue=0.6438382008132897)"
      ]
     },
     "execution_count": 243,
     "metadata": {},
     "output_type": "execute_result"
    }
   ],
   "source": [
    "stats.mannwhitneyu(trad_type1.LOCC_total_SLOC,dl_type1.LOCC_total_SLOC, alternative='two-sided')"
   ]
  },
  {
   "cell_type": "code",
   "execution_count": 184,
   "metadata": {},
   "outputs": [
    {
     "data": {
      "text/plain": [
       "MannwhitneyuResult(statistic=74.0, pvalue=0.6251055995506551)"
      ]
     },
     "execution_count": 184,
     "metadata": {},
     "output_type": "execute_result"
    }
   ],
   "source": [
    "stats.mannwhitneyu(trad_type2.LOCC_total_SLOC,dl_type2.LOCC_total_SLOC, alternative='two-sided')"
   ]
  },
  {
   "cell_type": "code",
   "execution_count": 185,
   "metadata": {},
   "outputs": [
    {
     "data": {
      "text/plain": [
       "MannwhitneyuResult(statistic=62.0, pvalue=0.10286022472686691)"
      ]
     },
     "execution_count": 185,
     "metadata": {},
     "output_type": "execute_result"
    }
   ],
   "source": [
    "stats.mannwhitneyu(trad_type3.LOCC_total_SLOC,dl_type3.LOCC_total_SLOC, alternative='two-sided')"
   ]
  },
  {
   "cell_type": "code",
   "execution_count": 186,
   "metadata": {},
   "outputs": [
    {
     "data": {
      "text/plain": [
       "0.11538461538461539"
      ]
     },
     "execution_count": 186,
     "metadata": {},
     "output_type": "execute_result"
    }
   ],
   "source": [
    "cliffsDelta(trad_type1.LOCC_total_SLOC,dl_type1.LOCC_total_SLOC)"
   ]
  },
  {
   "cell_type": "code",
   "execution_count": 187,
   "metadata": {},
   "outputs": [
    {
     "data": {
      "text/plain": [
       "0.11904761904761904"
      ]
     },
     "execution_count": 187,
     "metadata": {},
     "output_type": "execute_result"
    }
   ],
   "source": [
    "cliffsDelta(trad_type2.LOCC_total_SLOC,dl_type2.LOCC_total_SLOC)"
   ]
  },
  {
   "cell_type": "code",
   "execution_count": 188,
   "metadata": {},
   "outputs": [
    {
     "data": {
      "text/plain": [
       "0.3673469387755102"
      ]
     },
     "execution_count": 188,
     "metadata": {},
     "output_type": "execute_result"
    }
   ],
   "source": [
    "cliffsDelta(trad_type3.LOCC_total_SLOC,dl_type3.LOCC_total_SLOC)"
   ]
  },
  {
   "cell_type": "code",
   "execution_count": 244,
   "metadata": {},
   "outputs": [
    {
     "data": {
      "image/png": "[encoded data removed]",
      "text/plain": [
       "<Figure size 432x432 with 1 Axes>"
      ]
     },
     "metadata": {},
     "output_type": "display_data"
    }
   ],
   "source": [
    "sns.set(rc={'figure.figsize':(6,6)})\n",
    "sns.set(font_scale=1.5)\n",
    "sns.set_style('white')\n",
    "sns.set_style('ticks', {'axes.edgecolor': '0',  \n",
    "                        'xtick.color': '0',\n",
    "                        'ytick.color': '0'})\n",
    "# Define some hatches\n",
    "hatches = cycle(['///','x', 'o'])\n",
    "\n",
    "\n",
    "# Boxplot\n",
    "ax = sns.boxplot(x=\"project_type\", y=\"LOCC / total SLOC\", data=repos_clones_size_csharp_fct,order=[\"Deep Learning\", \"Traditional\"],\n",
    "                 showfliers=False, hue='clone_type',color='black',medianprops=dict(color='black'), \n",
    "                  boxprops = dict(facecolor='white',edgecolor='black' ))\n",
    "ax.set_yscale(\"log\")\n",
    "ax.set(xlabel='Project Type (c# Th20)', ylabel='log(LOCC / total SLOC)')\n",
    "#plt.legend(loc='best')\n",
    "plt.title('(a) Function Granularity')\n",
    "patches=[]\n",
    "for i, patch in enumerate(ax.artists):\n",
    "    # Boxes from left to right\n",
    "    hatch = next(hatches)\n",
    "    patch.set_hatch(hatch)\n",
    "    if patch not in patches:\n",
    "        patches.append(patch)\n",
    "\n",
    "type1_patch = Patch(fc='white',edgecolor='black', label='Type 1', hatch='///')\n",
    "type2_patch = Patch( fc='white',edgecolor='black',label='Type 2',     hatch ='x')\n",
    "type3_patch = Patch(fc='white',edgecolor='black', label='Type 3',     hatch ='o')\n",
    "legend=plt.legend(handles=[type1_patch, type2_patch, type3_patch],loc='best')\n",
    "frame = legend.get_frame()\n",
    "plt.show()\n",
    "fig = ax.get_figure()\n",
    "fig.savefig(\"images_pdf/csharp_dl_trad_clone_types_fct_20.pdf\",bbox_inches='tight')"
   ]
  },
  {
   "cell_type": "markdown",
   "metadata": {},
   "source": [
    "## C\\# -By Clone Types-Block granularity"
   ]
  },
  {
   "cell_type": "code",
   "execution_count": 245,
   "metadata": {},
   "outputs": [],
   "source": [
    "repos_clones_size = repos_clones_size_csharp_blk\n",
    "traditional = repos_clones_size[repos_clones_size['project_type']=='Traditional']\n",
    "dl = repos_clones_size[repos_clones_size['project_type']=='Deep Learning']"
   ]
  },
  {
   "cell_type": "code",
   "execution_count": 246,
   "metadata": {},
   "outputs": [],
   "source": [
    "traditional['clone_type'] = traditional.apply(capitalize, axis=1)\n",
    "dl['clone_type'] = dl.apply(capitalize, axis=1)"
   ]
  },
  {
   "cell_type": "code",
   "execution_count": 247,
   "metadata": {},
   "outputs": [],
   "source": [
    "trad_type1 = traditional[traditional['clone_type']=='Type 1']\n",
    "trad_type2 = traditional[traditional['clone_type']=='Type 2']\n",
    "trad_type3 = traditional[traditional['clone_type']=='Type 3']\n",
    "\n",
    "dl_type1 = dl[dl['clone_type']=='Type 1']\n",
    "dl_type2 = dl[dl['clone_type']=='Type 2']\n",
    "dl_type3 = dl[dl['clone_type']=='Type 3']"
   ]
  },
  {
   "cell_type": "code",
   "execution_count": 248,
   "metadata": {},
   "outputs": [
    {
     "data": {
      "text/plain": [
       "MannwhitneyuResult(statistic=73.0, pvalue=0.39576568734555595)"
      ]
     },
     "execution_count": 248,
     "metadata": {},
     "output_type": "execute_result"
    }
   ],
   "source": [
    "stats.mannwhitneyu(trad_type1.LOCC_total_SLOC,dl_type1.LOCC_total_SLOC, alternative='two-sided')"
   ]
  },
  {
   "cell_type": "code",
   "execution_count": 194,
   "metadata": {},
   "outputs": [
    {
     "data": {
      "text/plain": [
       "MannwhitneyuResult(statistic=80.0, pvalue=0.42134823269748845)"
      ]
     },
     "execution_count": 194,
     "metadata": {},
     "output_type": "execute_result"
    }
   ],
   "source": [
    "stats.mannwhitneyu(trad_type2.LOCC_total_SLOC,dl_type2.LOCC_total_SLOC, alternative='two-sided')"
   ]
  },
  {
   "cell_type": "code",
   "execution_count": 195,
   "metadata": {},
   "outputs": [
    {
     "data": {
      "text/plain": [
       "MannwhitneyuResult(statistic=49.0, pvalue=0.025849690449110427)"
      ]
     },
     "execution_count": 195,
     "metadata": {},
     "output_type": "execute_result"
    }
   ],
   "source": [
    "stats.mannwhitneyu(trad_type3.LOCC_total_SLOC,dl_type3.LOCC_total_SLOC, alternative='two-sided')"
   ]
  },
  {
   "cell_type": "code",
   "execution_count": 196,
   "metadata": {},
   "outputs": [
    {
     "data": {
      "text/plain": [
       "0.1978021978021978"
      ]
     },
     "execution_count": 196,
     "metadata": {},
     "output_type": "execute_result"
    }
   ],
   "source": [
    "cliffsDelta(trad_type1.LOCC_total_SLOC,dl_type1.LOCC_total_SLOC)"
   ]
  },
  {
   "cell_type": "code",
   "execution_count": 197,
   "metadata": {},
   "outputs": [
    {
     "data": {
      "text/plain": [
       "0.1836734693877551"
      ]
     },
     "execution_count": 197,
     "metadata": {},
     "output_type": "execute_result"
    }
   ],
   "source": [
    "cliffsDelta(trad_type2.LOCC_total_SLOC,dl_type2.LOCC_total_SLOC)"
   ]
  },
  {
   "cell_type": "code",
   "execution_count": 198,
   "metadata": {},
   "outputs": [
    {
     "data": {
      "text/plain": [
       "0.5"
      ]
     },
     "execution_count": 198,
     "metadata": {},
     "output_type": "execute_result"
    }
   ],
   "source": [
    "cliffsDelta(trad_type3.LOCC_total_SLOC,dl_type3.LOCC_total_SLOC)"
   ]
  },
  {
   "cell_type": "code",
   "execution_count": 249,
   "metadata": {},
   "outputs": [
    {
     "data": {
      "image/png": "[encoded data removed]",
      "text/plain": [
       "<Figure size 432x432 with 1 Axes>"
      ]
     },
     "metadata": {},
     "output_type": "display_data"
    }
   ],
   "source": [
    "sns.set(rc={'figure.figsize':(6,6)})\n",
    "sns.set(font_scale=1.5)\n",
    "sns.set_style('white')\n",
    "sns.set_style('ticks', {'axes.edgecolor': '0',  \n",
    "                        'xtick.color': '0',\n",
    "                        'ytick.color': '0'})\n",
    "# Define some hatches\n",
    "hatches = cycle(['///','x', 'o'])\n",
    "\n",
    "\n",
    "# Boxplot\n",
    "ax = sns.boxplot(x=\"project_type\", y=\"LOCC / total SLOC\", data=repos_clones_size_csharp_blk,order=[\"Deep Learning\", \"Traditional\"],\n",
    "                 showfliers=False, hue='clone_type',color='black',medianprops=dict(color='black'), \n",
    "                  boxprops = dict(facecolor='white',edgecolor='black' ))\n",
    "ax.set_yscale(\"log\")\n",
    "ax.set(xlabel='Project Type (c# Th20)', ylabel='log(LOCC / total SLOC)')\n",
    "#plt.legend(loc='best')\n",
    "plt.title('(b) Block Granularity')\n",
    "patches=[]\n",
    "for i, patch in enumerate(ax.artists):\n",
    "    # Boxes from left to right\n",
    "    hatch = next(hatches)\n",
    "    patch.set_hatch(hatch)\n",
    "    if patch not in patches:\n",
    "        patches.append(patch)\n",
    "\n",
    "type1_patch = Patch(fc='white',edgecolor='black', label='Type 1', hatch='///')\n",
    "type2_patch = Patch( fc='white',edgecolor='black',label='Type 2',     hatch ='x')\n",
    "type3_patch = Patch(fc='white',edgecolor='black', label='Type 3',     hatch ='o')\n",
    "legend=plt.legend(handles=[type1_patch, type2_patch, type3_patch],loc='best')\n",
    "frame = legend.get_frame()\n",
    "plt.show()\n",
    "fig = ax.get_figure()\n",
    "fig.savefig(\"images_pdf/csharp_dl_trad_clone_types_blk_20.pdf\",bbox_inches='tight')"
   ]
  },
  {
   "cell_type": "code",
   "execution_count": null,
   "metadata": {},
   "outputs": [],
   "source": []
  }
 ],
 "metadata": {
  "kernelspec": {
   "display_name": "Python 3",
   "language": "python",
   "name": "python3"
  },
  "language_info": {
   "codemirror_mode": {
    "name": "ipython",
    "version": 3
   },
   "file_extension": ".py",
   "mimetype": "text/x-python",
   "name": "python",
   "nbconvert_exporter": "python",
   "pygments_lexer": "ipython3",
   "version": "3.7.4"
  }
 },
 "nbformat": 4,
 "nbformat_minor": 2
}
