{
 "cells": [
  {
   "cell_type": "code",
   "execution_count": 1,
   "metadata": {},
   "outputs": [],
   "source": [
    "import pandas as pd\n",
    "import seaborn as sns\n",
    "import warnings\n",
    "warnings.filterwarnings('ignore')\n",
    "import matplotlib.pyplot as plt\n",
    "from scipy import stats\n",
    "import numpy as np\n",
    "from itertools import cycle\n",
    "from matplotlib.patches import Patch"
   ]
  },
  {
   "cell_type": "code",
   "execution_count": 2,
   "metadata": {},
   "outputs": [],
   "source": [
    "global bar\n",
    "def textured_box(bar):\n",
    "    # Define some hatches\n",
    "    hatches = cycle(['///','x', '*', 'o','-', '+', '\\\\'])\n",
    "\n",
    "    # Loop over the bars\n",
    "    for i,thisbar in enumerate(bar.artists):\n",
    "        # Set a different hatch for each bar\n",
    "        thisbar.set_hatch(hatches[i])"
   ]
  },
  {
   "cell_type": "code",
   "execution_count": 3,
   "metadata": {},
   "outputs": [],
   "source": [
    "global bar\n",
    "global num_metrics\n",
    "hatches = cycle(['///','x', '*', 'o','-', '+', '\\\\'])\n",
    "def textured_box(bar,num_metrics):\n",
    "    \n",
    "    for i, patch in enumerate(bar.artists):\n",
    "        # Blue bars first, then green bars\n",
    "        if i % num_metrics == 0:\n",
    "            hatch = next(hatches)\n",
    "        patch.set_hatch(hatch)"
   ]
  },
  {
   "cell_type": "code",
   "execution_count": 4,
   "metadata": {},
   "outputs": [],
   "source": [
    "global bar\n",
    "def textured_box(bar):\n",
    "    #Loop over the bars\n",
    "    hatches = [\"/\", \"o\", \"*\", \"\\\\\"]\n",
    "    for hatch, patch in zip(hatches, ml_trad_boxplot.artists):\n",
    "        patch.set_hatch(hatch)\n",
    " "
   ]
  },
  {
   "cell_type": "code",
   "execution_count": 5,
   "metadata": {},
   "outputs": [],
   "source": [
    "# ax.patches[5].set_hatch('x')\n",
    "from matplotlib.patches import Patch\n"
   ]
  },
  {
   "cell_type": "markdown",
   "metadata": {},
   "source": [
    "## Clone density distribution"
   ]
  },
  {
   "cell_type": "code",
   "execution_count": 7,
   "metadata": {},
   "outputs": [],
   "source": [
    "dl_all = pd.read_csv('dl_t20_single-type/dl_t20_clean.csv')\n",
    "trad_all = pd.read_csv('trad_t20_single-type/trad_t20_clean.csv')"
   ]
  },
  {
   "cell_type": "code",
   "execution_count": 8,
   "metadata": {},
   "outputs": [],
   "source": [
    "dl_all_clones_java = dl_all[dl_all['language']=='java']\n",
    "trad_all_clones_java = trad_all[trad_all['language']=='java']\n",
    "dl_all_clones_csharp = dl_all[dl_all['language']=='csharp']\n",
    "trad_all_clones_csharp = trad_all[trad_all['language']=='csharp']\n"
   ]
  },
  {
   "cell_type": "code",
   "execution_count": 10,
   "metadata": {},
   "outputs": [],
   "source": [
    "dl_all_clones_csharp['project_type']='Deep Learning'\n",
    "trad_all_clones_csharp['project_type']='Traditional'\n",
    "dl_all_clones_java['project_type']='Deep Learning'\n",
    "trad_all_clones_java['project_type']='Traditional'"
   ]
  },
  {
   "cell_type": "code",
   "execution_count": 9,
   "metadata": {},
   "outputs": [],
   "source": [
    "dl_all_clones_java_t1 = dl_all_clones_java[dl_all_clones_java['clone_type']=='Type 1']\n",
    "dl_all_clones_java_t2 = dl_all_clones_java[dl_all_clones_java['clone_type']=='Type 2']\n",
    "dl_all_clones_java_t3 = dl_all_clones_java[dl_all_clones_java['clone_type']=='Type 3']\n",
    "trad_all_clones_java_t1 = trad_all_clones_java[trad_all_clones_java['clone_type']=='Type 1']\n",
    "trad_all_clones_java_t2 = trad_all_clones_java[trad_all_clones_java['clone_type']=='Type 2']\n",
    "trad_all_clones_java_t3 = trad_all_clones_java[trad_all_clones_java['clone_type']=='Type 3']\n",
    "dl_all_clones_csharp_t1 = dl_all_clones_csharp[dl_all_clones_csharp['clone_type']=='Type 1']\n",
    "dl_all_clones_csharp_t2 = dl_all_clones_csharp[dl_all_clones_csharp['clone_type']=='Type 2']\n",
    "dl_all_clones_csharp_t3 = dl_all_clones_csharp[dl_all_clones_csharp['clone_type']=='Type 3']\n",
    "trad_all_clones_csharp_t1 = trad_all_clones_csharp[trad_all_clones_csharp['clone_type']=='Type 1']\n",
    "trad_all_clones_csharp_t2 = trad_all_clones_csharp[trad_all_clones_csharp['clone_type']=='Type 2']\n",
    "trad_all_clones_csharp_t3 = trad_all_clones_csharp[trad_all_clones_csharp['clone_type']=='Type 3']"
   ]
  },
  {
   "cell_type": "code",
   "execution_count": 11,
   "metadata": {},
   "outputs": [
    {
     "data": {
      "text/plain": [
       "6"
      ]
     },
     "execution_count": 11,
     "metadata": {},
     "output_type": "execute_result"
    }
   ],
   "source": [
    "dl_repos_size_java = pd.read_csv(\"data/dl_java_loc.csv\")\n",
    "trad_repos_size_java = pd.read_csv(\"data/trad_java_loc.csv\")\n",
    "dl_repos_size_java.shape[0]"
   ]
  },
  {
   "cell_type": "code",
   "execution_count": 12,
   "metadata": {},
   "outputs": [
    {
     "data": {
      "text/plain": [
       "14"
      ]
     },
     "execution_count": 12,
     "metadata": {},
     "output_type": "execute_result"
    }
   ],
   "source": [
    "dl_repos_size_csharp = pd.read_csv(\"data/dl_csharp_loc.csv\")\n",
    "trad_repos_size_csharp = pd.read_csv(\"data/trad_csharp_loc.csv\")\n",
    "dl_repos_size_csharp.shape[0]"
   ]
  },
  {
   "cell_type": "code",
   "execution_count": 14,
   "metadata": {},
   "outputs": [],
   "source": [
    "dl_repos_size_java['language']='java'\n",
    "dl_repos_size_java['project_type']='Deep Learning'\n",
    "trad_repos_size_java['language']='java'\n",
    "trad_repos_size_java['project_type']='Deep Learning'\n",
    "dl_repos_size_csharp['language']='csharp'\n",
    "dl_repos_size_csharp['project_type']='Deep Learning'\n",
    "trad_repos_size_csharp['language']='csharp'\n",
    "trad_repos_size_csharp['project_type']='Traditional'"
   ]
  },
  {
   "cell_type": "code",
   "execution_count": 15,
   "metadata": {},
   "outputs": [],
   "source": [
    "otherLanguages_sloc = pd.concat([dl_repos_size_java,trad_repos_size_java])\n",
    "otherLanguages_sloc = pd.concat([otherLanguages_sloc,dl_repos_size_csharp])\n",
    "otherLanguages_sloc = pd.concat([otherLanguages_sloc,trad_repos_size_csharp])"
   ]
  },
  {
   "cell_type": "code",
   "execution_count": 28,
   "metadata": {},
   "outputs": [],
   "source": [
    "# don't\n",
    "# otherLanguages_sloc.to_csv('data/all_otherLanguages_sloc.csv', index=False)"
   ]
  },
  {
   "cell_type": "code",
   "execution_count": 17,
   "metadata": {},
   "outputs": [],
   "source": [
    "dl_all['project_type']='Deep Learning'\n",
    "trad_all['project_type']='Traditional'"
   ]
  },
  {
   "cell_type": "code",
   "execution_count": 18,
   "metadata": {},
   "outputs": [],
   "source": [
    "all_clones = pd.concat([dl_all,trad_all])"
   ]
  },
  {
   "cell_type": "code",
   "execution_count": 19,
   "metadata": {},
   "outputs": [
    {
     "data": {
      "text/plain": [
       "282411"
      ]
     },
     "execution_count": 19,
     "metadata": {},
     "output_type": "execute_result"
    }
   ],
   "source": [
    "all_clones.shape[0]"
   ]
  },
  {
   "cell_type": "code",
   "execution_count": null,
   "metadata": {},
   "outputs": [],
   "source": []
  },
  {
   "cell_type": "code",
   "execution_count": 20,
   "metadata": {},
   "outputs": [],
   "source": [
    "def get_locc(row):\n",
    "    startline=row['startline']\n",
    "    endline = row['endline']\n",
    "    return endline - startline +1 # added +1"
   ]
  },
  {
   "cell_type": "code",
   "execution_count": 21,
   "metadata": {},
   "outputs": [],
   "source": [
    "def update_granularity(row):\n",
    "    granularity=row['granularity']\n",
    "    if 'block' in granularity:\n",
    "        return 'Block'\n",
    "    elif 'function' in granularity:\n",
    "        return 'Function'\n",
    "    else:\n",
    "        return row.granularity"
   ]
  },
  {
   "cell_type": "code",
   "execution_count": 22,
   "metadata": {
    "scrolled": true
   },
   "outputs": [
    {
     "data": {
      "text/plain": [
       "282411"
      ]
     },
     "execution_count": 22,
     "metadata": {},
     "output_type": "execute_result"
    }
   ],
   "source": [
    "all_clones['locc']=all_clones.apply(get_locc, axis=1)\n",
    "all_clones.shape[0]"
   ]
  },
  {
   "cell_type": "code",
   "execution_count": 23,
   "metadata": {},
   "outputs": [
    {
     "data": {
      "text/html": [
       "<div>\n",
       "<style scoped>\n",
       "    .dataframe tbody tr th:only-of-type {\n",
       "        vertical-align: middle;\n",
       "    }\n",
       "\n",
       "    .dataframe tbody tr th {\n",
       "        vertical-align: top;\n",
       "    }\n",
       "\n",
       "    .dataframe thead th {\n",
       "        text-align: right;\n",
       "    }\n",
       "</style>\n",
       "<table border=\"1\" class=\"dataframe\">\n",
       "  <thead>\n",
       "    <tr style=\"text-align: right;\">\n",
       "      <th></th>\n",
       "      <th>repoName</th>\n",
       "      <th>clone_type</th>\n",
       "      <th>classid</th>\n",
       "      <th>similarity</th>\n",
       "      <th>granularity</th>\n",
       "      <th>file</th>\n",
       "      <th>startline</th>\n",
       "      <th>endline</th>\n",
       "      <th>language</th>\n",
       "      <th>project_type</th>\n",
       "      <th>locc</th>\n",
       "    </tr>\n",
       "  </thead>\n",
       "  <tbody>\n",
       "    <tr>\n",
       "      <td>0</td>\n",
       "      <td>SharpNet</td>\n",
       "      <td>type 1</td>\n",
       "      <td>1</td>\n",
       "      <td>100</td>\n",
       "      <td>Function</td>\n",
       "      <td>/tmpstore/bimus/repositories/csharp/SharpNet/P...</td>\n",
       "      <td>816</td>\n",
       "      <td>822</td>\n",
       "      <td>csharp</td>\n",
       "      <td>Deep Learning</td>\n",
       "      <td>7</td>\n",
       "    </tr>\n",
       "    <tr>\n",
       "      <td>1</td>\n",
       "      <td>SharpNet</td>\n",
       "      <td>type 1</td>\n",
       "      <td>1</td>\n",
       "      <td>100</td>\n",
       "      <td>Function</td>\n",
       "      <td>/tmpstore/bimus/repositories/csharp/SharpNet/P...</td>\n",
       "      <td>1028</td>\n",
       "      <td>1034</td>\n",
       "      <td>csharp</td>\n",
       "      <td>Deep Learning</td>\n",
       "      <td>7</td>\n",
       "    </tr>\n",
       "    <tr>\n",
       "      <td>2</td>\n",
       "      <td>SharpNet</td>\n",
       "      <td>type 1</td>\n",
       "      <td>2</td>\n",
       "      <td>100</td>\n",
       "      <td>Function</td>\n",
       "      <td>/tmpstore/bimus/repositories/csharp/SharpNet/P...</td>\n",
       "      <td>64</td>\n",
       "      <td>73</td>\n",
       "      <td>csharp</td>\n",
       "      <td>Deep Learning</td>\n",
       "      <td>10</td>\n",
       "    </tr>\n",
       "    <tr>\n",
       "      <td>3</td>\n",
       "      <td>SharpNet</td>\n",
       "      <td>type 1</td>\n",
       "      <td>2</td>\n",
       "      <td>100</td>\n",
       "      <td>Function</td>\n",
       "      <td>/tmpstore/bimus/repositories/csharp/SharpNet/P...</td>\n",
       "      <td>50</td>\n",
       "      <td>59</td>\n",
       "      <td>csharp</td>\n",
       "      <td>Deep Learning</td>\n",
       "      <td>10</td>\n",
       "    </tr>\n",
       "    <tr>\n",
       "      <td>4</td>\n",
       "      <td>KelpNet</td>\n",
       "      <td>type 1</td>\n",
       "      <td>1</td>\n",
       "      <td>100</td>\n",
       "      <td>Block</td>\n",
       "      <td>/tmpstore/bimus/repositories/csharp/KelpNet/Ke...</td>\n",
       "      <td>13</td>\n",
       "      <td>33</td>\n",
       "      <td>csharp</td>\n",
       "      <td>Deep Learning</td>\n",
       "      <td>21</td>\n",
       "    </tr>\n",
       "  </tbody>\n",
       "</table>\n",
       "</div>"
      ],
      "text/plain": [
       "   repoName clone_type  classid  similarity granularity  \\\n",
       "0  SharpNet     type 1        1         100    Function   \n",
       "1  SharpNet     type 1        1         100    Function   \n",
       "2  SharpNet     type 1        2         100    Function   \n",
       "3  SharpNet     type 1        2         100    Function   \n",
       "4   KelpNet     type 1        1         100       Block   \n",
       "\n",
       "                                                file  startline  endline  \\\n",
       "0  /tmpstore/bimus/repositories/csharp/SharpNet/P...        816      822   \n",
       "1  /tmpstore/bimus/repositories/csharp/SharpNet/P...       1028     1034   \n",
       "2  /tmpstore/bimus/repositories/csharp/SharpNet/P...         64       73   \n",
       "3  /tmpstore/bimus/repositories/csharp/SharpNet/P...         50       59   \n",
       "4  /tmpstore/bimus/repositories/csharp/KelpNet/Ke...         13       33   \n",
       "\n",
       "  language   project_type  locc  \n",
       "0   csharp  Deep Learning     7  \n",
       "1   csharp  Deep Learning     7  \n",
       "2   csharp  Deep Learning    10  \n",
       "3   csharp  Deep Learning    10  \n",
       "4   csharp  Deep Learning    21  "
      ]
     },
     "execution_count": 23,
     "metadata": {},
     "output_type": "execute_result"
    }
   ],
   "source": [
    "# all_clones['granularity']=all_clones.apply(update_granularity, axis=1)\n",
    "all_clones.head()"
   ]
  },
  {
   "cell_type": "code",
   "execution_count": 24,
   "metadata": {},
   "outputs": [],
   "source": [
    "all_clones.to_csv('data/all_dl_trad_clones_20.csv', index=False)"
   ]
  },
  {
   "cell_type": "code",
   "execution_count": 23,
   "metadata": {},
   "outputs": [],
   "source": [
    "# load clones if preprocessed and saved\n",
    "all_clones= pd.read_csv('data/all_dl_trad_clones_20.csv')"
   ]
  },
  {
   "cell_type": "code",
   "execution_count": 25,
   "metadata": {},
   "outputs": [],
   "source": [
    "clones_by_type = all_clones.groupby(['repoName','granularity','clone_type','language','project_type']).agg({'locc':'sum'}).reset_index()"
   ]
  },
  {
   "cell_type": "code",
   "execution_count": 134,
   "metadata": {},
   "outputs": [
    {
     "data": {
      "text/plain": [
       "40"
      ]
     },
     "execution_count": 134,
     "metadata": {},
     "output_type": "execute_result"
    }
   ],
   "source": [
    "trad_repos_size_java = pd.read_csv(\"data/otherLanguages/trad_java_loc.csv\")\n",
    "trad_repos_size_java['repo'] = trad_repos_size_java['repoName_path'].apply(lambda x: x.split('/')[-1])\n",
    "trad_repos_size_csharp = pd.read_csv(\"data/otherLanguages/trad_csharp_loc.csv\")\n",
    "trad_repos_size = pd.concat([trad_repos_size_java,trad_repos_size_csharp])\n",
    "repos_size = pd.concat([dl_repos_size, trad_repos_size])\n",
    "repos_size.rename(columns={'repo':'repoName'}, inplace=True)\n",
    "repos_size.shape[0]"
   ]
  },
  {
   "cell_type": "code",
   "execution_count": 135,
   "metadata": {},
   "outputs": [
    {
     "data": {
      "text/plain": [
       "array(['neuralnetworks', 'SANNet', 'DeepDriver', 'deeplearning4j',\n",
       "       'knime-deeplearning', 'djl', 'ConvNetSharp', 'SiaNet', 'KelpNet',\n",
       "       'MyCaffe', 'RNNSharp', 'SharpNet', 'TensorShader', 'keras-sharp',\n",
       "       'CeNiN', 'Seq2SeqSharp', 'Vortex', 'FaceONNX', 'NeuralNetwork.NET',\n",
       "       'Keras.NET', 'spring-framework', 'framework', 'okhttp', 'retrofit',\n",
       "       'dubbo', 'MPAndroidChart', 'EntityFramework.Extended',\n",
       "       'LockstepFramework', 'AspectCore-Framework',\n",
       "       'Pomelo.EntityFrameworkCore.MySql', 'aspnetboilerplate',\n",
       "       'MassTransit', 'shadowsocks-windows', 'PowerShell', 'ShareX',\n",
       "       'ScreenToGif', 'Dapper', 'Avalonia', 'jellyfin', 'efcore'],\n",
       "      dtype=object)"
      ]
     },
     "execution_count": 135,
     "metadata": {},
     "output_type": "execute_result"
    }
   ],
   "source": [
    "repos_size['repoName'].unique()"
   ]
  },
  {
   "cell_type": "code",
   "execution_count": 30,
   "metadata": {},
   "outputs": [
    {
     "data": {
      "text/html": [
       "<div>\n",
       "<style scoped>\n",
       "    .dataframe tbody tr th:only-of-type {\n",
       "        vertical-align: middle;\n",
       "    }\n",
       "\n",
       "    .dataframe tbody tr th {\n",
       "        vertical-align: top;\n",
       "    }\n",
       "\n",
       "    .dataframe thead th {\n",
       "        text-align: right;\n",
       "    }\n",
       "</style>\n",
       "<table border=\"1\" class=\"dataframe\">\n",
       "  <thead>\n",
       "    <tr style=\"text-align: right;\">\n",
       "      <th></th>\n",
       "      <th>language</th>\n",
       "      <th>project_type</th>\n",
       "      <th>repo</th>\n",
       "      <th>repoName_path</th>\n",
       "      <th>total_sloc</th>\n",
       "    </tr>\n",
       "  </thead>\n",
       "  <tbody>\n",
       "    <tr>\n",
       "      <td>0</td>\n",
       "      <td>java</td>\n",
       "      <td>Deep Learning</td>\n",
       "      <td>neuralnetworks</td>\n",
       "      <td>b-repositories/DL/java/neuralnetworks</td>\n",
       "      <td>43902</td>\n",
       "    </tr>\n",
       "    <tr>\n",
       "      <td>1</td>\n",
       "      <td>java</td>\n",
       "      <td>Deep Learning</td>\n",
       "      <td>SANNet</td>\n",
       "      <td>b-repositories/DL/java/SANNet</td>\n",
       "      <td>16172</td>\n",
       "    </tr>\n",
       "    <tr>\n",
       "      <td>2</td>\n",
       "      <td>java</td>\n",
       "      <td>Deep Learning</td>\n",
       "      <td>DeepDriver</td>\n",
       "      <td>b-repositories/DL/java/DeepDriver</td>\n",
       "      <td>32265</td>\n",
       "    </tr>\n",
       "    <tr>\n",
       "      <td>3</td>\n",
       "      <td>java</td>\n",
       "      <td>Deep Learning</td>\n",
       "      <td>deeplearning4j</td>\n",
       "      <td>b-repositories/DL/java/deeplearning4j</td>\n",
       "      <td>526195</td>\n",
       "    </tr>\n",
       "    <tr>\n",
       "      <td>4</td>\n",
       "      <td>java</td>\n",
       "      <td>Deep Learning</td>\n",
       "      <td>knime-deeplearning</td>\n",
       "      <td>b-repositories/DL/java/knime-deeplearning</td>\n",
       "      <td>49445</td>\n",
       "    </tr>\n",
       "    <tr>\n",
       "      <td>5</td>\n",
       "      <td>java</td>\n",
       "      <td>Deep Learning</td>\n",
       "      <td>djl</td>\n",
       "      <td>b-repositories/DL/java/djl</td>\n",
       "      <td>74161</td>\n",
       "    </tr>\n",
       "    <tr>\n",
       "      <td>0</td>\n",
       "      <td>java</td>\n",
       "      <td>Deep Learning</td>\n",
       "      <td>NaN</td>\n",
       "      <td>/tmpstore/bimus/b-repositories/trad/java/sprin...</td>\n",
       "      <td>699741</td>\n",
       "    </tr>\n",
       "    <tr>\n",
       "      <td>1</td>\n",
       "      <td>java</td>\n",
       "      <td>Deep Learning</td>\n",
       "      <td>NaN</td>\n",
       "      <td>/tmpstore/bimus/b-repositories/trad/java/frame...</td>\n",
       "      <td>437134</td>\n",
       "    </tr>\n",
       "    <tr>\n",
       "      <td>2</td>\n",
       "      <td>java</td>\n",
       "      <td>Deep Learning</td>\n",
       "      <td>NaN</td>\n",
       "      <td>/tmpstore/bimus/b-repositories/trad/java/okhttp</td>\n",
       "      <td>37217</td>\n",
       "    </tr>\n",
       "    <tr>\n",
       "      <td>3</td>\n",
       "      <td>java</td>\n",
       "      <td>Deep Learning</td>\n",
       "      <td>NaN</td>\n",
       "      <td>/tmpstore/bimus/b-repositories/trad/java/retrofit</td>\n",
       "      <td>26513</td>\n",
       "    </tr>\n",
       "    <tr>\n",
       "      <td>4</td>\n",
       "      <td>java</td>\n",
       "      <td>Deep Learning</td>\n",
       "      <td>NaN</td>\n",
       "      <td>/tmpstore/bimus/b-repositories/trad/java/dubbo</td>\n",
       "      <td>174064</td>\n",
       "    </tr>\n",
       "    <tr>\n",
       "      <td>5</td>\n",
       "      <td>java</td>\n",
       "      <td>Deep Learning</td>\n",
       "      <td>NaN</td>\n",
       "      <td>/tmpstore/bimus/b-repositories/trad/java/MPAnd...</td>\n",
       "      <td>25232</td>\n",
       "    </tr>\n",
       "    <tr>\n",
       "      <td>0</td>\n",
       "      <td>csharp</td>\n",
       "      <td>Deep Learning</td>\n",
       "      <td>ConvNetSharp</td>\n",
       "      <td>b-repositories/DL/csharp/ConvNetSharp</td>\n",
       "      <td>16620</td>\n",
       "    </tr>\n",
       "    <tr>\n",
       "      <td>1</td>\n",
       "      <td>csharp</td>\n",
       "      <td>Deep Learning</td>\n",
       "      <td>SiaNet</td>\n",
       "      <td>b-repositories/DL/csharp/SiaNet</td>\n",
       "      <td>248467</td>\n",
       "    </tr>\n",
       "    <tr>\n",
       "      <td>2</td>\n",
       "      <td>csharp</td>\n",
       "      <td>Deep Learning</td>\n",
       "      <td>KelpNet</td>\n",
       "      <td>b-repositories/DL/csharp/KelpNet</td>\n",
       "      <td>21045</td>\n",
       "    </tr>\n",
       "    <tr>\n",
       "      <td>3</td>\n",
       "      <td>csharp</td>\n",
       "      <td>Deep Learning</td>\n",
       "      <td>MyCaffe</td>\n",
       "      <td>b-repositories/DL/csharp/MyCaffe</td>\n",
       "      <td>180353</td>\n",
       "    </tr>\n",
       "    <tr>\n",
       "      <td>4</td>\n",
       "      <td>csharp</td>\n",
       "      <td>Deep Learning</td>\n",
       "      <td>RNNSharp</td>\n",
       "      <td>b-repositories/DL/csharp/RNNSharp</td>\n",
       "      <td>6316</td>\n",
       "    </tr>\n",
       "    <tr>\n",
       "      <td>5</td>\n",
       "      <td>csharp</td>\n",
       "      <td>Deep Learning</td>\n",
       "      <td>SharpNet</td>\n",
       "      <td>b-repositories/DL/csharp/SharpNet</td>\n",
       "      <td>27593</td>\n",
       "    </tr>\n",
       "    <tr>\n",
       "      <td>6</td>\n",
       "      <td>csharp</td>\n",
       "      <td>Deep Learning</td>\n",
       "      <td>TensorShader</td>\n",
       "      <td>b-repositories/DL/csharp/TensorShader</td>\n",
       "      <td>149199</td>\n",
       "    </tr>\n",
       "    <tr>\n",
       "      <td>7</td>\n",
       "      <td>csharp</td>\n",
       "      <td>Deep Learning</td>\n",
       "      <td>keras-sharp</td>\n",
       "      <td>b-repositories/DL/csharp/keras-sharp</td>\n",
       "      <td>10751</td>\n",
       "    </tr>\n",
       "    <tr>\n",
       "      <td>8</td>\n",
       "      <td>csharp</td>\n",
       "      <td>Deep Learning</td>\n",
       "      <td>CeNiN</td>\n",
       "      <td>b-repositories/DL/csharp/CeNiN</td>\n",
       "      <td>1438</td>\n",
       "    </tr>\n",
       "    <tr>\n",
       "      <td>9</td>\n",
       "      <td>csharp</td>\n",
       "      <td>Deep Learning</td>\n",
       "      <td>Seq2SeqSharp</td>\n",
       "      <td>b-repositories/DL/csharp/Seq2SeqSharp</td>\n",
       "      <td>18088</td>\n",
       "    </tr>\n",
       "    <tr>\n",
       "      <td>10</td>\n",
       "      <td>csharp</td>\n",
       "      <td>Deep Learning</td>\n",
       "      <td>Vortex</td>\n",
       "      <td>b-repositories/DL/csharp/Vortex</td>\n",
       "      <td>5769</td>\n",
       "    </tr>\n",
       "    <tr>\n",
       "      <td>11</td>\n",
       "      <td>csharp</td>\n",
       "      <td>Deep Learning</td>\n",
       "      <td>FaceONNX</td>\n",
       "      <td>b-repositories/DL/csharp/FaceONNX</td>\n",
       "      <td>2263</td>\n",
       "    </tr>\n",
       "    <tr>\n",
       "      <td>12</td>\n",
       "      <td>csharp</td>\n",
       "      <td>Deep Learning</td>\n",
       "      <td>NeuralNetwork.NET</td>\n",
       "      <td>b-repositories/DL/csharp/NeuralNetwork.NET</td>\n",
       "      <td>12201</td>\n",
       "    </tr>\n",
       "    <tr>\n",
       "      <td>13</td>\n",
       "      <td>csharp</td>\n",
       "      <td>Deep Learning</td>\n",
       "      <td>Keras.NET</td>\n",
       "      <td>b-repositories/DL/csharp/Keras.NET</td>\n",
       "      <td>5454</td>\n",
       "    </tr>\n",
       "    <tr>\n",
       "      <td>0</td>\n",
       "      <td>csharp</td>\n",
       "      <td>Traditional</td>\n",
       "      <td>EntityFramework.Extended</td>\n",
       "      <td>/tmpstore/bimus/b-repositories/trad/csharp/Ent...</td>\n",
       "      <td>13096</td>\n",
       "    </tr>\n",
       "    <tr>\n",
       "      <td>1</td>\n",
       "      <td>csharp</td>\n",
       "      <td>Traditional</td>\n",
       "      <td>LockstepFramework</td>\n",
       "      <td>/tmpstore/bimus/b-repositories/trad/csharp/Loc...</td>\n",
       "      <td>24733</td>\n",
       "    </tr>\n",
       "    <tr>\n",
       "      <td>2</td>\n",
       "      <td>csharp</td>\n",
       "      <td>Traditional</td>\n",
       "      <td>AspectCore-Framework</td>\n",
       "      <td>/tmpstore/bimus/b-repositories/trad/csharp/Asp...</td>\n",
       "      <td>17316</td>\n",
       "    </tr>\n",
       "    <tr>\n",
       "      <td>3</td>\n",
       "      <td>csharp</td>\n",
       "      <td>Traditional</td>\n",
       "      <td>Pomelo.EntityFrameworkCore.MySql</td>\n",
       "      <td>/tmpstore/bimus/b-repositories/trad/csharp/Pom...</td>\n",
       "      <td>44115</td>\n",
       "    </tr>\n",
       "    <tr>\n",
       "      <td>4</td>\n",
       "      <td>csharp</td>\n",
       "      <td>Traditional</td>\n",
       "      <td>aspnetboilerplate</td>\n",
       "      <td>/tmpstore/bimus/b-repositories/trad/csharp/asp...</td>\n",
       "      <td>109493</td>\n",
       "    </tr>\n",
       "    <tr>\n",
       "      <td>5</td>\n",
       "      <td>csharp</td>\n",
       "      <td>Traditional</td>\n",
       "      <td>MassTransit</td>\n",
       "      <td>/tmpstore/bimus/b-repositories/trad/csharp/Mas...</td>\n",
       "      <td>226522</td>\n",
       "    </tr>\n",
       "    <tr>\n",
       "      <td>6</td>\n",
       "      <td>csharp</td>\n",
       "      <td>Traditional</td>\n",
       "      <td>shadowsocks-windows</td>\n",
       "      <td>/tmpstore/bimus/b-repositories/trad/csharp/sha...</td>\n",
       "      <td>9111</td>\n",
       "    </tr>\n",
       "    <tr>\n",
       "      <td>7</td>\n",
       "      <td>csharp</td>\n",
       "      <td>Traditional</td>\n",
       "      <td>PowerShell</td>\n",
       "      <td>/tmpstore/bimus/b-repositories/trad/csharp/Pow...</td>\n",
       "      <td>508504</td>\n",
       "    </tr>\n",
       "    <tr>\n",
       "      <td>8</td>\n",
       "      <td>csharp</td>\n",
       "      <td>Traditional</td>\n",
       "      <td>ShareX</td>\n",
       "      <td>/tmpstore/bimus/b-repositories/trad/csharp/ShareX</td>\n",
       "      <td>112019</td>\n",
       "    </tr>\n",
       "    <tr>\n",
       "      <td>9</td>\n",
       "      <td>csharp</td>\n",
       "      <td>Traditional</td>\n",
       "      <td>ScreenToGif</td>\n",
       "      <td>/tmpstore/bimus/b-repositories/trad/csharp/Scr...</td>\n",
       "      <td>63092</td>\n",
       "    </tr>\n",
       "    <tr>\n",
       "      <td>10</td>\n",
       "      <td>csharp</td>\n",
       "      <td>Traditional</td>\n",
       "      <td>Dapper</td>\n",
       "      <td>/tmpstore/bimus/b-repositories/trad/csharp/Dapper</td>\n",
       "      <td>18031</td>\n",
       "    </tr>\n",
       "    <tr>\n",
       "      <td>11</td>\n",
       "      <td>csharp</td>\n",
       "      <td>Traditional</td>\n",
       "      <td>Avalonia</td>\n",
       "      <td>/tmpstore/bimus/b-repositories/trad/csharp/Ava...</td>\n",
       "      <td>245432</td>\n",
       "    </tr>\n",
       "    <tr>\n",
       "      <td>12</td>\n",
       "      <td>csharp</td>\n",
       "      <td>Traditional</td>\n",
       "      <td>jellyfin</td>\n",
       "      <td>/tmpstore/bimus/b-repositories/trad/csharp/jel...</td>\n",
       "      <td>150776</td>\n",
       "    </tr>\n",
       "    <tr>\n",
       "      <td>13</td>\n",
       "      <td>csharp</td>\n",
       "      <td>Traditional</td>\n",
       "      <td>efcore</td>\n",
       "      <td>/tmpstore/bimus/b-repositories/trad/csharp/efcore</td>\n",
       "      <td>691019</td>\n",
       "    </tr>\n",
       "  </tbody>\n",
       "</table>\n",
       "</div>"
      ],
      "text/plain": [
       "   language   project_type                              repo  \\\n",
       "0      java  Deep Learning                    neuralnetworks   \n",
       "1      java  Deep Learning                            SANNet   \n",
       "2      java  Deep Learning                        DeepDriver   \n",
       "3      java  Deep Learning                    deeplearning4j   \n",
       "4      java  Deep Learning                knime-deeplearning   \n",
       "5      java  Deep Learning                               djl   \n",
       "0      java  Deep Learning                               NaN   \n",
       "1      java  Deep Learning                               NaN   \n",
       "2      java  Deep Learning                               NaN   \n",
       "3      java  Deep Learning                               NaN   \n",
       "4      java  Deep Learning                               NaN   \n",
       "5      java  Deep Learning                               NaN   \n",
       "0    csharp  Deep Learning                      ConvNetSharp   \n",
       "1    csharp  Deep Learning                            SiaNet   \n",
       "2    csharp  Deep Learning                           KelpNet   \n",
       "3    csharp  Deep Learning                           MyCaffe   \n",
       "4    csharp  Deep Learning                          RNNSharp   \n",
       "5    csharp  Deep Learning                          SharpNet   \n",
       "6    csharp  Deep Learning                      TensorShader   \n",
       "7    csharp  Deep Learning                       keras-sharp   \n",
       "8    csharp  Deep Learning                             CeNiN   \n",
       "9    csharp  Deep Learning                      Seq2SeqSharp   \n",
       "10   csharp  Deep Learning                            Vortex   \n",
       "11   csharp  Deep Learning                          FaceONNX   \n",
       "12   csharp  Deep Learning                 NeuralNetwork.NET   \n",
       "13   csharp  Deep Learning                         Keras.NET   \n",
       "0    csharp    Traditional          EntityFramework.Extended   \n",
       "1    csharp    Traditional                 LockstepFramework   \n",
       "2    csharp    Traditional              AspectCore-Framework   \n",
       "3    csharp    Traditional  Pomelo.EntityFrameworkCore.MySql   \n",
       "4    csharp    Traditional                 aspnetboilerplate   \n",
       "5    csharp    Traditional                       MassTransit   \n",
       "6    csharp    Traditional               shadowsocks-windows   \n",
       "7    csharp    Traditional                        PowerShell   \n",
       "8    csharp    Traditional                            ShareX   \n",
       "9    csharp    Traditional                       ScreenToGif   \n",
       "10   csharp    Traditional                            Dapper   \n",
       "11   csharp    Traditional                          Avalonia   \n",
       "12   csharp    Traditional                          jellyfin   \n",
       "13   csharp    Traditional                            efcore   \n",
       "\n",
       "                                        repoName_path  total_sloc  \n",
       "0               b-repositories/DL/java/neuralnetworks       43902  \n",
       "1                       b-repositories/DL/java/SANNet       16172  \n",
       "2                   b-repositories/DL/java/DeepDriver       32265  \n",
       "3               b-repositories/DL/java/deeplearning4j      526195  \n",
       "4           b-repositories/DL/java/knime-deeplearning       49445  \n",
       "5                          b-repositories/DL/java/djl       74161  \n",
       "0   /tmpstore/bimus/b-repositories/trad/java/sprin...      699741  \n",
       "1   /tmpstore/bimus/b-repositories/trad/java/frame...      437134  \n",
       "2     /tmpstore/bimus/b-repositories/trad/java/okhttp       37217  \n",
       "3   /tmpstore/bimus/b-repositories/trad/java/retrofit       26513  \n",
       "4      /tmpstore/bimus/b-repositories/trad/java/dubbo      174064  \n",
       "5   /tmpstore/bimus/b-repositories/trad/java/MPAnd...       25232  \n",
       "0               b-repositories/DL/csharp/ConvNetSharp       16620  \n",
       "1                     b-repositories/DL/csharp/SiaNet      248467  \n",
       "2                    b-repositories/DL/csharp/KelpNet       21045  \n",
       "3                    b-repositories/DL/csharp/MyCaffe      180353  \n",
       "4                   b-repositories/DL/csharp/RNNSharp        6316  \n",
       "5                   b-repositories/DL/csharp/SharpNet       27593  \n",
       "6               b-repositories/DL/csharp/TensorShader      149199  \n",
       "7                b-repositories/DL/csharp/keras-sharp       10751  \n",
       "8                      b-repositories/DL/csharp/CeNiN        1438  \n",
       "9               b-repositories/DL/csharp/Seq2SeqSharp       18088  \n",
       "10                    b-repositories/DL/csharp/Vortex        5769  \n",
       "11                  b-repositories/DL/csharp/FaceONNX        2263  \n",
       "12         b-repositories/DL/csharp/NeuralNetwork.NET       12201  \n",
       "13                 b-repositories/DL/csharp/Keras.NET        5454  \n",
       "0   /tmpstore/bimus/b-repositories/trad/csharp/Ent...       13096  \n",
       "1   /tmpstore/bimus/b-repositories/trad/csharp/Loc...       24733  \n",
       "2   /tmpstore/bimus/b-repositories/trad/csharp/Asp...       17316  \n",
       "3   /tmpstore/bimus/b-repositories/trad/csharp/Pom...       44115  \n",
       "4   /tmpstore/bimus/b-repositories/trad/csharp/asp...      109493  \n",
       "5   /tmpstore/bimus/b-repositories/trad/csharp/Mas...      226522  \n",
       "6   /tmpstore/bimus/b-repositories/trad/csharp/sha...        9111  \n",
       "7   /tmpstore/bimus/b-repositories/trad/csharp/Pow...      508504  \n",
       "8   /tmpstore/bimus/b-repositories/trad/csharp/ShareX      112019  \n",
       "9   /tmpstore/bimus/b-repositories/trad/csharp/Scr...       63092  \n",
       "10  /tmpstore/bimus/b-repositories/trad/csharp/Dapper       18031  \n",
       "11  /tmpstore/bimus/b-repositories/trad/csharp/Ava...      245432  \n",
       "12  /tmpstore/bimus/b-repositories/trad/csharp/jel...      150776  \n",
       "13  /tmpstore/bimus/b-repositories/trad/csharp/efcore      691019  "
      ]
     },
     "execution_count": 30,
     "metadata": {},
     "output_type": "execute_result"
    }
   ],
   "source": [
    "otherLanguages_sloc = pd.read_csv('data/otherLanguages_sloc.csv')"
   ]
  },
  {
   "cell_type": "code",
   "execution_count": 29,
   "metadata": {},
   "outputs": [
    {
     "ename": "KeyError",
     "evalue": "'repoName'",
     "output_type": "error",
     "traceback": [
      "\u001b[1;31m---------------------------------------------------------------------------\u001b[0m",
      "\u001b[1;31mKeyError\u001b[0m                                  Traceback (most recent call last)",
      "\u001b[1;32m<ipython-input-29-c979855348ca>\u001b[0m in \u001b[0;36m<module>\u001b[1;34m\u001b[0m\n\u001b[1;32m----> 1\u001b[1;33m \u001b[0mrepos_clones_size\u001b[0m \u001b[1;33m=\u001b[0m \u001b[0mpd\u001b[0m\u001b[1;33m.\u001b[0m\u001b[0mmerge\u001b[0m\u001b[1;33m(\u001b[0m\u001b[0mclones_by_type\u001b[0m\u001b[1;33m,\u001b[0m\u001b[0motherLanguages_sloc\u001b[0m\u001b[1;33m,\u001b[0m\u001b[0mhow\u001b[0m\u001b[1;33m=\u001b[0m\u001b[1;34m'left'\u001b[0m\u001b[1;33m,\u001b[0m \u001b[0mon\u001b[0m\u001b[1;33m=\u001b[0m\u001b[1;33m[\u001b[0m\u001b[1;34m'repoName'\u001b[0m\u001b[1;33m,\u001b[0m\u001b[1;34m'language'\u001b[0m\u001b[1;33m,\u001b[0m\u001b[1;34m'project_type'\u001b[0m\u001b[1;33m]\u001b[0m\u001b[1;33m)\u001b[0m\u001b[1;33m\u001b[0m\u001b[1;33m\u001b[0m\u001b[0m\n\u001b[0m\u001b[0;32m      2\u001b[0m \u001b[0mrepos_clones_size\u001b[0m\u001b[1;33m.\u001b[0m\u001b[0mhead\u001b[0m\u001b[1;33m(\u001b[0m\u001b[1;33m)\u001b[0m\u001b[1;33m\u001b[0m\u001b[1;33m\u001b[0m\u001b[0m\n",
      "\u001b[1;32m~\\Anaconda3\\lib\\site-packages\\pandas\\core\\reshape\\merge.py\u001b[0m in \u001b[0;36mmerge\u001b[1;34m(left, right, how, on, left_on, right_on, left_index, right_index, sort, suffixes, copy, indicator, validate)\u001b[0m\n\u001b[0;32m     79\u001b[0m         \u001b[0mcopy\u001b[0m\u001b[1;33m=\u001b[0m\u001b[0mcopy\u001b[0m\u001b[1;33m,\u001b[0m\u001b[1;33m\u001b[0m\u001b[1;33m\u001b[0m\u001b[0m\n\u001b[0;32m     80\u001b[0m         \u001b[0mindicator\u001b[0m\u001b[1;33m=\u001b[0m\u001b[0mindicator\u001b[0m\u001b[1;33m,\u001b[0m\u001b[1;33m\u001b[0m\u001b[1;33m\u001b[0m\u001b[0m\n\u001b[1;32m---> 81\u001b[1;33m         \u001b[0mvalidate\u001b[0m\u001b[1;33m=\u001b[0m\u001b[0mvalidate\u001b[0m\u001b[1;33m,\u001b[0m\u001b[1;33m\u001b[0m\u001b[1;33m\u001b[0m\u001b[0m\n\u001b[0m\u001b[0;32m     82\u001b[0m     )\n\u001b[0;32m     83\u001b[0m     \u001b[1;32mreturn\u001b[0m \u001b[0mop\u001b[0m\u001b[1;33m.\u001b[0m\u001b[0mget_result\u001b[0m\u001b[1;33m(\u001b[0m\u001b[1;33m)\u001b[0m\u001b[1;33m\u001b[0m\u001b[1;33m\u001b[0m\u001b[0m\n",
      "\u001b[1;32m~\\Anaconda3\\lib\\site-packages\\pandas\\core\\reshape\\merge.py\u001b[0m in \u001b[0;36m__init__\u001b[1;34m(self, left, right, how, on, left_on, right_on, axis, left_index, right_index, sort, suffixes, copy, indicator, validate)\u001b[0m\n\u001b[0;32m    624\u001b[0m             \u001b[0mself\u001b[0m\u001b[1;33m.\u001b[0m\u001b[0mright_join_keys\u001b[0m\u001b[1;33m,\u001b[0m\u001b[1;33m\u001b[0m\u001b[1;33m\u001b[0m\u001b[0m\n\u001b[0;32m    625\u001b[0m             \u001b[0mself\u001b[0m\u001b[1;33m.\u001b[0m\u001b[0mjoin_names\u001b[0m\u001b[1;33m,\u001b[0m\u001b[1;33m\u001b[0m\u001b[1;33m\u001b[0m\u001b[0m\n\u001b[1;32m--> 626\u001b[1;33m         ) = self._get_merge_keys()\n\u001b[0m\u001b[0;32m    627\u001b[0m \u001b[1;33m\u001b[0m\u001b[0m\n\u001b[0;32m    628\u001b[0m         \u001b[1;31m# validate the merge keys dtypes. We may need to coerce\u001b[0m\u001b[1;33m\u001b[0m\u001b[1;33m\u001b[0m\u001b[1;33m\u001b[0m\u001b[0m\n",
      "\u001b[1;32m~\\Anaconda3\\lib\\site-packages\\pandas\\core\\reshape\\merge.py\u001b[0m in \u001b[0;36m_get_merge_keys\u001b[1;34m(self)\u001b[0m\n\u001b[0;32m    973\u001b[0m                     \u001b[1;32mif\u001b[0m \u001b[1;32mnot\u001b[0m \u001b[0mis_rkey\u001b[0m\u001b[1;33m(\u001b[0m\u001b[0mrk\u001b[0m\u001b[1;33m)\u001b[0m\u001b[1;33m:\u001b[0m\u001b[1;33m\u001b[0m\u001b[1;33m\u001b[0m\u001b[0m\n\u001b[0;32m    974\u001b[0m                         \u001b[1;32mif\u001b[0m \u001b[0mrk\u001b[0m \u001b[1;32mis\u001b[0m \u001b[1;32mnot\u001b[0m \u001b[1;32mNone\u001b[0m\u001b[1;33m:\u001b[0m\u001b[1;33m\u001b[0m\u001b[1;33m\u001b[0m\u001b[0m\n\u001b[1;32m--> 975\u001b[1;33m                             \u001b[0mright_keys\u001b[0m\u001b[1;33m.\u001b[0m\u001b[0mappend\u001b[0m\u001b[1;33m(\u001b[0m\u001b[0mright\u001b[0m\u001b[1;33m.\u001b[0m\u001b[0m_get_label_or_level_values\u001b[0m\u001b[1;33m(\u001b[0m\u001b[0mrk\u001b[0m\u001b[1;33m)\u001b[0m\u001b[1;33m)\u001b[0m\u001b[1;33m\u001b[0m\u001b[1;33m\u001b[0m\u001b[0m\n\u001b[0m\u001b[0;32m    976\u001b[0m                         \u001b[1;32melse\u001b[0m\u001b[1;33m:\u001b[0m\u001b[1;33m\u001b[0m\u001b[1;33m\u001b[0m\u001b[0m\n\u001b[0;32m    977\u001b[0m                             \u001b[1;31m# work-around for merge_asof(right_index=True)\u001b[0m\u001b[1;33m\u001b[0m\u001b[1;33m\u001b[0m\u001b[1;33m\u001b[0m\u001b[0m\n",
      "\u001b[1;32m~\\Anaconda3\\lib\\site-packages\\pandas\\core\\generic.py\u001b[0m in \u001b[0;36m_get_label_or_level_values\u001b[1;34m(self, key, axis)\u001b[0m\n\u001b[0;32m   1772\u001b[0m             \u001b[0mvalues\u001b[0m \u001b[1;33m=\u001b[0m \u001b[0mself\u001b[0m\u001b[1;33m.\u001b[0m\u001b[0maxes\u001b[0m\u001b[1;33m[\u001b[0m\u001b[0maxis\u001b[0m\u001b[1;33m]\u001b[0m\u001b[1;33m.\u001b[0m\u001b[0mget_level_values\u001b[0m\u001b[1;33m(\u001b[0m\u001b[0mkey\u001b[0m\u001b[1;33m)\u001b[0m\u001b[1;33m.\u001b[0m\u001b[0m_values\u001b[0m\u001b[1;33m\u001b[0m\u001b[1;33m\u001b[0m\u001b[0m\n\u001b[0;32m   1773\u001b[0m         \u001b[1;32melse\u001b[0m\u001b[1;33m:\u001b[0m\u001b[1;33m\u001b[0m\u001b[1;33m\u001b[0m\u001b[0m\n\u001b[1;32m-> 1774\u001b[1;33m             \u001b[1;32mraise\u001b[0m \u001b[0mKeyError\u001b[0m\u001b[1;33m(\u001b[0m\u001b[0mkey\u001b[0m\u001b[1;33m)\u001b[0m\u001b[1;33m\u001b[0m\u001b[1;33m\u001b[0m\u001b[0m\n\u001b[0m\u001b[0;32m   1775\u001b[0m \u001b[1;33m\u001b[0m\u001b[0m\n\u001b[0;32m   1776\u001b[0m         \u001b[1;31m# Check for duplicates\u001b[0m\u001b[1;33m\u001b[0m\u001b[1;33m\u001b[0m\u001b[1;33m\u001b[0m\u001b[0m\n",
      "\u001b[1;31mKeyError\u001b[0m: 'repoName'"
     ]
    }
   ],
   "source": [
    "repos_clones_size = pd.merge(clones_by_type,otherLanguages_sloc,how='left', on=['repoName','language','project_type'])\n",
    "repos_clones_size.head()"
   ]
  },
  {
   "cell_type": "code",
   "execution_count": 137,
   "metadata": {},
   "outputs": [],
   "source": [
    "repos_clones_size = repos_clones_size[repos_clones_size['total_sloc'] !=0]"
   ]
  },
  {
   "cell_type": "code",
   "execution_count": 138,
   "metadata": {},
   "outputs": [],
   "source": [
    "repos_clones_size['LOCC / total SLOC'] = repos_clones_size['locc']/repos_clones_size['total_sloc']"
   ]
  },
  {
   "cell_type": "code",
   "execution_count": 139,
   "metadata": {},
   "outputs": [],
   "source": [
    "repos_clones_size['LOCC_total_SLOC'] = repos_clones_size['locc']/repos_clones_size['total_sloc']"
   ]
  },
  {
   "cell_type": "code",
   "execution_count": 140,
   "metadata": {},
   "outputs": [
    {
     "data": {
      "text/plain": [
       "231"
      ]
     },
     "execution_count": 140,
     "metadata": {},
     "output_type": "execute_result"
    }
   ],
   "source": [
    "repos_clones_size.shape[0]"
   ]
  },
  {
   "cell_type": "code",
   "execution_count": 142,
   "metadata": {},
   "outputs": [],
   "source": [
    "repos_clones_size.to_csv('data/otherLanguages/cleanClones/repos_clones_size_all.csv', index=False)"
   ]
  },
  {
   "cell_type": "code",
   "execution_count": 33,
   "metadata": {},
   "outputs": [],
   "source": [
    "def runs(lst):\n",
    "    \"Iterator, chunks repeated values\"\n",
    "    for j,two in enumerate(lst):\n",
    "        if j == 0:\n",
    "            one,i = two,0\n",
    "        if one!=two:\n",
    "            yield j - i,one\n",
    "            i = j\n",
    "        one=two\n",
    "    yield j - i + 1, two\n",
    "\n",
    "def cliffsDelta(lst1,lst2): \n",
    "    \"Returns true if there are more than 'dull' differences\"\n",
    "    m, n = len(lst1), len(lst2)\n",
    "    lst2 = sorted(lst2)\n",
    "    j = more = less = 0\n",
    "    for repeats,x in runs(sorted(lst1)):\n",
    "        while j <= (n - 1) and lst2[j] <  x: \n",
    "            j += 1\n",
    "        more += j*repeats\n",
    "        while j <= (n - 1) and lst2[j] == x: \n",
    "            j += 1\n",
    "        less += (n - j)*repeats\n",
    "    d= (more - less) / (m*n) \n",
    "    return abs(d)"
   ]
  },
  {
   "cell_type": "code",
   "execution_count": null,
   "metadata": {},
   "outputs": [],
   "source": []
  },
  {
   "cell_type": "code",
   "execution_count": 28,
   "metadata": {},
   "outputs": [],
   "source": [
    "# load data if preprocessed and saved\n",
    "repos_clones_size= pd.read_csv('data/otherLanguages/cleanClones/repos_clones_size_all.csv')"
   ]
  },
  {
   "cell_type": "code",
   "execution_count": 29,
   "metadata": {},
   "outputs": [
    {
     "data": {
      "text/html": [
       "<div>\n",
       "<style scoped>\n",
       "    .dataframe tbody tr th:only-of-type {\n",
       "        vertical-align: middle;\n",
       "    }\n",
       "\n",
       "    .dataframe tbody tr th {\n",
       "        vertical-align: top;\n",
       "    }\n",
       "\n",
       "    .dataframe thead th {\n",
       "        text-align: right;\n",
       "    }\n",
       "</style>\n",
       "<table border=\"1\" class=\"dataframe\">\n",
       "  <thead>\n",
       "    <tr style=\"text-align: right;\">\n",
       "      <th></th>\n",
       "      <th>repoName</th>\n",
       "      <th>granularity</th>\n",
       "      <th>clone_type</th>\n",
       "      <th>language</th>\n",
       "      <th>project_type</th>\n",
       "      <th>locc</th>\n",
       "      <th>repoName_path</th>\n",
       "      <th>total_sloc</th>\n",
       "      <th>LOCC / total SLOC</th>\n",
       "      <th>LOCC_total_SLOC</th>\n",
       "    </tr>\n",
       "  </thead>\n",
       "  <tbody>\n",
       "    <tr>\n",
       "      <th>0</th>\n",
       "      <td>AspectCore-Framework</td>\n",
       "      <td>Block</td>\n",
       "      <td>Type 1</td>\n",
       "      <td>csharp</td>\n",
       "      <td>Traditional</td>\n",
       "      <td>497</td>\n",
       "      <td>/tmpstore/bimus/b-repositories/trad/csharp/Asp...</td>\n",
       "      <td>17316</td>\n",
       "      <td>0.028702</td>\n",
       "      <td>0.028702</td>\n",
       "    </tr>\n",
       "    <tr>\n",
       "      <th>1</th>\n",
       "      <td>AspectCore-Framework</td>\n",
       "      <td>Block</td>\n",
       "      <td>Type 2</td>\n",
       "      <td>csharp</td>\n",
       "      <td>Traditional</td>\n",
       "      <td>1176</td>\n",
       "      <td>/tmpstore/bimus/b-repositories/trad/csharp/Asp...</td>\n",
       "      <td>17316</td>\n",
       "      <td>0.067914</td>\n",
       "      <td>0.067914</td>\n",
       "    </tr>\n",
       "    <tr>\n",
       "      <th>2</th>\n",
       "      <td>AspectCore-Framework</td>\n",
       "      <td>Block</td>\n",
       "      <td>Type 3</td>\n",
       "      <td>csharp</td>\n",
       "      <td>Traditional</td>\n",
       "      <td>4311</td>\n",
       "      <td>/tmpstore/bimus/b-repositories/trad/csharp/Asp...</td>\n",
       "      <td>17316</td>\n",
       "      <td>0.248960</td>\n",
       "      <td>0.248960</td>\n",
       "    </tr>\n",
       "    <tr>\n",
       "      <th>3</th>\n",
       "      <td>AspectCore-Framework</td>\n",
       "      <td>Function</td>\n",
       "      <td>Type 1</td>\n",
       "      <td>csharp</td>\n",
       "      <td>Traditional</td>\n",
       "      <td>134</td>\n",
       "      <td>/tmpstore/bimus/b-repositories/trad/csharp/Asp...</td>\n",
       "      <td>17316</td>\n",
       "      <td>0.007739</td>\n",
       "      <td>0.007739</td>\n",
       "    </tr>\n",
       "    <tr>\n",
       "      <th>4</th>\n",
       "      <td>AspectCore-Framework</td>\n",
       "      <td>Function</td>\n",
       "      <td>Type 2</td>\n",
       "      <td>csharp</td>\n",
       "      <td>Traditional</td>\n",
       "      <td>939</td>\n",
       "      <td>/tmpstore/bimus/b-repositories/trad/csharp/Asp...</td>\n",
       "      <td>17316</td>\n",
       "      <td>0.054227</td>\n",
       "      <td>0.054227</td>\n",
       "    </tr>\n",
       "  </tbody>\n",
       "</table>\n",
       "</div>"
      ],
      "text/plain": [
       "               repoName granularity clone_type language project_type  locc  \\\n",
       "0  AspectCore-Framework       Block     Type 1   csharp  Traditional   497   \n",
       "1  AspectCore-Framework       Block     Type 2   csharp  Traditional  1176   \n",
       "2  AspectCore-Framework       Block     Type 3   csharp  Traditional  4311   \n",
       "3  AspectCore-Framework    Function     Type 1   csharp  Traditional   134   \n",
       "4  AspectCore-Framework    Function     Type 2   csharp  Traditional   939   \n",
       "\n",
       "                                       repoName_path  total_sloc  \\\n",
       "0  /tmpstore/bimus/b-repositories/trad/csharp/Asp...       17316   \n",
       "1  /tmpstore/bimus/b-repositories/trad/csharp/Asp...       17316   \n",
       "2  /tmpstore/bimus/b-repositories/trad/csharp/Asp...       17316   \n",
       "3  /tmpstore/bimus/b-repositories/trad/csharp/Asp...       17316   \n",
       "4  /tmpstore/bimus/b-repositories/trad/csharp/Asp...       17316   \n",
       "\n",
       "   LOCC / total SLOC  LOCC_total_SLOC  \n",
       "0           0.028702         0.028702  \n",
       "1           0.067914         0.067914  \n",
       "2           0.248960         0.248960  \n",
       "3           0.007739         0.007739  \n",
       "4           0.054227         0.054227  "
      ]
     },
     "execution_count": 29,
     "metadata": {},
     "output_type": "execute_result"
    }
   ],
   "source": [
    "repos_clones_size.head()"
   ]
  },
  {
   "cell_type": "code",
   "execution_count": 34,
   "metadata": {
    "scrolled": true
   },
   "outputs": [
    {
     "data": {
      "text/html": [
       "<div>\n",
       "<style scoped>\n",
       "    .dataframe tbody tr th:only-of-type {\n",
       "        vertical-align: middle;\n",
       "    }\n",
       "\n",
       "    .dataframe tbody tr th {\n",
       "        vertical-align: top;\n",
       "    }\n",
       "\n",
       "    .dataframe thead th {\n",
       "        text-align: right;\n",
       "    }\n",
       "</style>\n",
       "<table border=\"1\" class=\"dataframe\">\n",
       "  <thead>\n",
       "    <tr style=\"text-align: right;\">\n",
       "      <th></th>\n",
       "      <th>repoName</th>\n",
       "      <th>granularity</th>\n",
       "      <th>clone_type</th>\n",
       "      <th>language</th>\n",
       "      <th>project_type</th>\n",
       "      <th>locc</th>\n",
       "      <th>repoName_path</th>\n",
       "      <th>total_sloc</th>\n",
       "      <th>LOCC / total SLOC</th>\n",
       "      <th>LOCC_total_SLOC</th>\n",
       "    </tr>\n",
       "  </thead>\n",
       "  <tbody>\n",
       "    <tr>\n",
       "      <th>0</th>\n",
       "      <td>AspectCore-Framework</td>\n",
       "      <td>Block</td>\n",
       "      <td>Type 1</td>\n",
       "      <td>csharp</td>\n",
       "      <td>Traditional</td>\n",
       "      <td>497</td>\n",
       "      <td>/tmpstore/bimus/b-repositories/trad/csharp/Asp...</td>\n",
       "      <td>17316</td>\n",
       "      <td>0.028702</td>\n",
       "      <td>0.028702</td>\n",
       "    </tr>\n",
       "    <tr>\n",
       "      <th>1</th>\n",
       "      <td>AspectCore-Framework</td>\n",
       "      <td>Block</td>\n",
       "      <td>Type 2</td>\n",
       "      <td>csharp</td>\n",
       "      <td>Traditional</td>\n",
       "      <td>1176</td>\n",
       "      <td>/tmpstore/bimus/b-repositories/trad/csharp/Asp...</td>\n",
       "      <td>17316</td>\n",
       "      <td>0.067914</td>\n",
       "      <td>0.067914</td>\n",
       "    </tr>\n",
       "    <tr>\n",
       "      <th>2</th>\n",
       "      <td>AspectCore-Framework</td>\n",
       "      <td>Block</td>\n",
       "      <td>Type 3</td>\n",
       "      <td>csharp</td>\n",
       "      <td>Traditional</td>\n",
       "      <td>4311</td>\n",
       "      <td>/tmpstore/bimus/b-repositories/trad/csharp/Asp...</td>\n",
       "      <td>17316</td>\n",
       "      <td>0.248960</td>\n",
       "      <td>0.248960</td>\n",
       "    </tr>\n",
       "    <tr>\n",
       "      <th>3</th>\n",
       "      <td>AspectCore-Framework</td>\n",
       "      <td>Function</td>\n",
       "      <td>Type 1</td>\n",
       "      <td>csharp</td>\n",
       "      <td>Traditional</td>\n",
       "      <td>134</td>\n",
       "      <td>/tmpstore/bimus/b-repositories/trad/csharp/Asp...</td>\n",
       "      <td>17316</td>\n",
       "      <td>0.007739</td>\n",
       "      <td>0.007739</td>\n",
       "    </tr>\n",
       "    <tr>\n",
       "      <th>4</th>\n",
       "      <td>AspectCore-Framework</td>\n",
       "      <td>Function</td>\n",
       "      <td>Type 2</td>\n",
       "      <td>csharp</td>\n",
       "      <td>Traditional</td>\n",
       "      <td>939</td>\n",
       "      <td>/tmpstore/bimus/b-repositories/trad/csharp/Asp...</td>\n",
       "      <td>17316</td>\n",
       "      <td>0.054227</td>\n",
       "      <td>0.054227</td>\n",
       "    </tr>\n",
       "  </tbody>\n",
       "</table>\n",
       "</div>"
      ],
      "text/plain": [
       "               repoName granularity clone_type language project_type  locc  \\\n",
       "0  AspectCore-Framework       Block     Type 1   csharp  Traditional   497   \n",
       "1  AspectCore-Framework       Block     Type 2   csharp  Traditional  1176   \n",
       "2  AspectCore-Framework       Block     Type 3   csharp  Traditional  4311   \n",
       "3  AspectCore-Framework    Function     Type 1   csharp  Traditional   134   \n",
       "4  AspectCore-Framework    Function     Type 2   csharp  Traditional   939   \n",
       "\n",
       "                                       repoName_path  total_sloc  \\\n",
       "0  /tmpstore/bimus/b-repositories/trad/csharp/Asp...       17316   \n",
       "1  /tmpstore/bimus/b-repositories/trad/csharp/Asp...       17316   \n",
       "2  /tmpstore/bimus/b-repositories/trad/csharp/Asp...       17316   \n",
       "3  /tmpstore/bimus/b-repositories/trad/csharp/Asp...       17316   \n",
       "4  /tmpstore/bimus/b-repositories/trad/csharp/Asp...       17316   \n",
       "\n",
       "   LOCC / total SLOC  LOCC_total_SLOC  \n",
       "0           0.028702         0.028702  \n",
       "1           0.067914         0.067914  \n",
       "2           0.248960         0.248960  \n",
       "3           0.007739         0.007739  \n",
       "4           0.054227         0.054227  "
      ]
     },
     "execution_count": 34,
     "metadata": {},
     "output_type": "execute_result"
    }
   ],
   "source": [
    "repos_clones_size['granularity']=repos_clones_size.apply(update_granularity, axis=1)\n",
    "repos_clones_size.head()"
   ]
  },
  {
   "cell_type": "code",
   "execution_count": 35,
   "metadata": {},
   "outputs": [
    {
     "data": {
      "text/html": [
       "<div>\n",
       "<style scoped>\n",
       "    .dataframe tbody tr th:only-of-type {\n",
       "        vertical-align: middle;\n",
       "    }\n",
       "\n",
       "    .dataframe tbody tr th {\n",
       "        vertical-align: top;\n",
       "    }\n",
       "\n",
       "    .dataframe thead th {\n",
       "        text-align: right;\n",
       "    }\n",
       "</style>\n",
       "<table border=\"1\" class=\"dataframe\">\n",
       "  <thead>\n",
       "    <tr style=\"text-align: right;\">\n",
       "      <th></th>\n",
       "      <th>repoName</th>\n",
       "      <th>granularity</th>\n",
       "      <th>clone_type</th>\n",
       "      <th>language</th>\n",
       "      <th>project_type</th>\n",
       "      <th>locc</th>\n",
       "      <th>repoName_path</th>\n",
       "      <th>total_sloc</th>\n",
       "      <th>LOCC / total SLOC</th>\n",
       "      <th>LOCC_total_SLOC</th>\n",
       "    </tr>\n",
       "  </thead>\n",
       "  <tbody>\n",
       "    <tr>\n",
       "      <th>0</th>\n",
       "      <td>AspectCore-Framework</td>\n",
       "      <td>Block</td>\n",
       "      <td>Type 1</td>\n",
       "      <td>csharp</td>\n",
       "      <td>Traditional</td>\n",
       "      <td>497</td>\n",
       "      <td>/tmpstore/bimus/b-repositories/trad/csharp/Asp...</td>\n",
       "      <td>17316</td>\n",
       "      <td>0.028702</td>\n",
       "      <td>0.028702</td>\n",
       "    </tr>\n",
       "    <tr>\n",
       "      <th>1</th>\n",
       "      <td>AspectCore-Framework</td>\n",
       "      <td>Block</td>\n",
       "      <td>Type 2</td>\n",
       "      <td>csharp</td>\n",
       "      <td>Traditional</td>\n",
       "      <td>1176</td>\n",
       "      <td>/tmpstore/bimus/b-repositories/trad/csharp/Asp...</td>\n",
       "      <td>17316</td>\n",
       "      <td>0.067914</td>\n",
       "      <td>0.067914</td>\n",
       "    </tr>\n",
       "    <tr>\n",
       "      <th>2</th>\n",
       "      <td>AspectCore-Framework</td>\n",
       "      <td>Block</td>\n",
       "      <td>Type 3</td>\n",
       "      <td>csharp</td>\n",
       "      <td>Traditional</td>\n",
       "      <td>4311</td>\n",
       "      <td>/tmpstore/bimus/b-repositories/trad/csharp/Asp...</td>\n",
       "      <td>17316</td>\n",
       "      <td>0.248960</td>\n",
       "      <td>0.248960</td>\n",
       "    </tr>\n",
       "    <tr>\n",
       "      <th>3</th>\n",
       "      <td>AspectCore-Framework</td>\n",
       "      <td>Function</td>\n",
       "      <td>Type 1</td>\n",
       "      <td>csharp</td>\n",
       "      <td>Traditional</td>\n",
       "      <td>134</td>\n",
       "      <td>/tmpstore/bimus/b-repositories/trad/csharp/Asp...</td>\n",
       "      <td>17316</td>\n",
       "      <td>0.007739</td>\n",
       "      <td>0.007739</td>\n",
       "    </tr>\n",
       "    <tr>\n",
       "      <th>4</th>\n",
       "      <td>AspectCore-Framework</td>\n",
       "      <td>Function</td>\n",
       "      <td>Type 2</td>\n",
       "      <td>csharp</td>\n",
       "      <td>Traditional</td>\n",
       "      <td>939</td>\n",
       "      <td>/tmpstore/bimus/b-repositories/trad/csharp/Asp...</td>\n",
       "      <td>17316</td>\n",
       "      <td>0.054227</td>\n",
       "      <td>0.054227</td>\n",
       "    </tr>\n",
       "  </tbody>\n",
       "</table>\n",
       "</div>"
      ],
      "text/plain": [
       "               repoName granularity clone_type language project_type  locc  \\\n",
       "0  AspectCore-Framework       Block     Type 1   csharp  Traditional   497   \n",
       "1  AspectCore-Framework       Block     Type 2   csharp  Traditional  1176   \n",
       "2  AspectCore-Framework       Block     Type 3   csharp  Traditional  4311   \n",
       "3  AspectCore-Framework    Function     Type 1   csharp  Traditional   134   \n",
       "4  AspectCore-Framework    Function     Type 2   csharp  Traditional   939   \n",
       "\n",
       "                                       repoName_path  total_sloc  \\\n",
       "0  /tmpstore/bimus/b-repositories/trad/csharp/Asp...       17316   \n",
       "1  /tmpstore/bimus/b-repositories/trad/csharp/Asp...       17316   \n",
       "2  /tmpstore/bimus/b-repositories/trad/csharp/Asp...       17316   \n",
       "3  /tmpstore/bimus/b-repositories/trad/csharp/Asp...       17316   \n",
       "4  /tmpstore/bimus/b-repositories/trad/csharp/Asp...       17316   \n",
       "\n",
       "   LOCC / total SLOC  LOCC_total_SLOC  \n",
       "0           0.028702         0.028702  \n",
       "1           0.067914         0.067914  \n",
       "2           0.248960         0.248960  \n",
       "3           0.007739         0.007739  \n",
       "4           0.054227         0.054227  "
      ]
     },
     "execution_count": 35,
     "metadata": {},
     "output_type": "execute_result"
    }
   ],
   "source": [
    "repos_clones_size_all = repos_clones_size\n",
    "repos_clones_size_all.head()"
   ]
  },
  {
   "cell_type": "code",
   "execution_count": 41,
   "metadata": {},
   "outputs": [
    {
     "name": "stdout",
     "output_type": "stream",
     "text": [
      "AspectCore-Framework Block Type 1 csharp\n",
      "AspectCore-Framework Block Type 2 csharp\n",
      "AspectCore-Framework Block Type 3 csharp\n",
      "AspectCore-Framework Function Type 1 csharp\n",
      "AspectCore-Framework Function Type 2 csharp\n",
      "AspectCore-Framework Function Type 3 csharp\n",
      "Avalonia Block Type 1 csharp\n",
      "Avalonia Block Type 2 csharp\n",
      "Avalonia Block Type 3 csharp\n",
      "Avalonia Function Type 1 csharp\n",
      "Avalonia Function Type 2 csharp\n",
      "Avalonia Function Type 3 csharp\n",
      "CeNiN Block Type 1 csharp\n",
      "CeNiN Block Type 2 csharp\n",
      "CeNiN Block Type 3 csharp\n",
      "CeNiN Function Type 1 csharp\n",
      "CeNiN Function Type 3 csharp\n",
      "ConvNetSharp Block Type 1 csharp\n",
      "ConvNetSharp Block Type 2 csharp\n",
      "ConvNetSharp Block Type 3 csharp\n",
      "ConvNetSharp Function Type 1 csharp\n",
      "ConvNetSharp Function Type 2 csharp\n",
      "ConvNetSharp Function Type 3 csharp\n",
      "Dapper Block Type 1 csharp\n",
      "Dapper Block Type 2 csharp\n",
      "Dapper Block Type 3 csharp\n",
      "Dapper Function Type 1 csharp\n",
      "Dapper Function Type 2 csharp\n",
      "Dapper Function Type 3 csharp\n",
      "DeepDriver Block Type 1 java\n",
      "DeepDriver Block Type 2 java\n",
      "DeepDriver Block Type 3 java\n",
      "DeepDriver Function Type 1 java\n",
      "DeepDriver Function Type 2 java\n",
      "DeepDriver Function Type 3 java\n",
      "EntityFramework.Extended Block Type 1 csharp\n",
      "EntityFramework.Extended Block Type 2 csharp\n",
      "EntityFramework.Extended Block Type 3 csharp\n",
      "EntityFramework.Extended Function Type 1 csharp\n",
      "EntityFramework.Extended Function Type 2 csharp\n",
      "EntityFramework.Extended Function Type 3 csharp\n",
      "FaceONNX Block Type 1 csharp\n",
      "FaceONNX Block Type 2 csharp\n",
      "FaceONNX Block Type 3 csharp\n",
      "FaceONNX Function Type 1 csharp\n",
      "FaceONNX Function Type 3 csharp\n",
      "KelpNet Block Type 1 csharp\n",
      "KelpNet Block Type 2 csharp\n",
      "KelpNet Block Type 3 csharp\n",
      "KelpNet Function Type 1 csharp\n",
      "KelpNet Function Type 2 csharp\n",
      "KelpNet Function Type 3 csharp\n",
      "Keras.NET Block Type 1 csharp\n",
      "Keras.NET Block Type 2 csharp\n",
      "Keras.NET Block Type 3 csharp\n",
      "Keras.NET Function Type 2 csharp\n",
      "Keras.NET Function Type 3 csharp\n",
      "LockstepFramework Block Type 1 csharp\n",
      "LockstepFramework Block Type 2 csharp\n",
      "LockstepFramework Block Type 3 csharp\n",
      "LockstepFramework Function Type 1 csharp\n",
      "LockstepFramework Function Type 2 csharp\n",
      "LockstepFramework Function Type 3 csharp\n",
      "MPAndroidChart Block Type 1 java\n",
      "MPAndroidChart Block Type 2 java\n",
      "MPAndroidChart Block Type 3 java\n",
      "MPAndroidChart Function Type 1 java\n",
      "MPAndroidChart Function Type 2 java\n",
      "MPAndroidChart Function Type 3 java\n",
      "MassTransit Block Type 1 csharp\n",
      "MassTransit Block Type 2 csharp\n",
      "MassTransit Block Type 3 csharp\n",
      "MassTransit Function Type 1 csharp\n",
      "MassTransit Function Type 2 csharp\n",
      "MassTransit Function Type 3 csharp\n",
      "MyCaffe Block Type 1 csharp\n",
      "MyCaffe Block Type 2 csharp\n",
      "MyCaffe Block Type 3 csharp\n",
      "MyCaffe Function Type 1 csharp\n",
      "MyCaffe Function Type 2 csharp\n",
      "MyCaffe Function Type 3 csharp\n",
      "NeuralNetwork.NET Block Type 1 csharp\n",
      "NeuralNetwork.NET Block Type 2 csharp\n",
      "NeuralNetwork.NET Block Type 3 csharp\n",
      "NeuralNetwork.NET Function Type 1 csharp\n",
      "NeuralNetwork.NET Function Type 2 csharp\n",
      "NeuralNetwork.NET Function Type 3 csharp\n",
      "Pomelo.EntityFrameworkCore.MySql Block Type 1 csharp\n",
      "Pomelo.EntityFrameworkCore.MySql Block Type 2 csharp\n",
      "Pomelo.EntityFrameworkCore.MySql Block Type 3 csharp\n",
      "Pomelo.EntityFrameworkCore.MySql Function Type 1 csharp\n",
      "Pomelo.EntityFrameworkCore.MySql Function Type 2 csharp\n",
      "Pomelo.EntityFrameworkCore.MySql Function Type 3 csharp\n",
      "PowerShell Block Type 1 csharp\n",
      "PowerShell Block Type 2 csharp\n",
      "PowerShell Block Type 3 csharp\n",
      "PowerShell Function Type 1 csharp\n",
      "PowerShell Function Type 2 csharp\n",
      "PowerShell Function Type 3 csharp\n",
      "RNNSharp Block Type 1 csharp\n",
      "RNNSharp Block Type 2 csharp\n",
      "RNNSharp Block Type 3 csharp\n",
      "RNNSharp Function Type 1 csharp\n",
      "RNNSharp Function Type 2 csharp\n",
      "RNNSharp Function Type 3 csharp\n",
      "SANNet Block Type 1 java\n",
      "SANNet Block Type 2 java\n",
      "SANNet Block Type 3 java\n",
      "SANNet Function Type 1 java\n",
      "SANNet Function Type 2 java\n",
      "SANNet Function Type 3 java\n",
      "ScreenToGif Block Type 1 csharp\n",
      "ScreenToGif Block Type 2 csharp\n",
      "ScreenToGif Block Type 3 csharp\n",
      "ScreenToGif Function Type 1 csharp\n",
      "ScreenToGif Function Type 2 csharp\n",
      "ScreenToGif Function Type 3 csharp\n",
      "Seq2SeqSharp Block Type 1 csharp\n",
      "Seq2SeqSharp Block Type 2 csharp\n",
      "Seq2SeqSharp Block Type 3 csharp\n",
      "Seq2SeqSharp Function Type 1 csharp\n",
      "Seq2SeqSharp Function Type 2 csharp\n",
      "Seq2SeqSharp Function Type 3 csharp\n",
      "ShareX Block Type 1 csharp\n",
      "ShareX Block Type 2 csharp\n",
      "ShareX Block Type 3 csharp\n",
      "ShareX Function Type 1 csharp\n",
      "ShareX Function Type 2 csharp\n",
      "ShareX Function Type 3 csharp\n",
      "SharpNet Block Type 1 csharp\n",
      "SharpNet Block Type 2 csharp\n",
      "SharpNet Block Type 3 csharp\n",
      "SharpNet Function Type 1 csharp\n",
      "SharpNet Function Type 2 csharp\n",
      "SharpNet Function Type 3 csharp\n",
      "SiaNet Block Type 1 csharp\n",
      "SiaNet Block Type 2 csharp\n",
      "SiaNet Block Type 3 csharp\n",
      "SiaNet Function Type 1 csharp\n",
      "SiaNet Function Type 2 csharp\n",
      "SiaNet Function Type 3 csharp\n",
      "TensorShader Block Type 1 csharp\n",
      "TensorShader Block Type 2 csharp\n",
      "TensorShader Block Type 3 csharp\n",
      "TensorShader Function Type 1 csharp\n",
      "TensorShader Function Type 2 csharp\n",
      "TensorShader Function Type 3 csharp\n",
      "Vortex Block Type 1 csharp\n",
      "Vortex Block Type 2 csharp\n",
      "Vortex Block Type 3 csharp\n",
      "Vortex Function Type 1 csharp\n",
      "Vortex Function Type 2 csharp\n",
      "Vortex Function Type 3 csharp\n",
      "aspnetboilerplate Block Type 1 csharp\n",
      "aspnetboilerplate Block Type 2 csharp\n",
      "aspnetboilerplate Block Type 3 csharp\n",
      "aspnetboilerplate Function Type 1 csharp\n",
      "aspnetboilerplate Function Type 2 csharp\n",
      "aspnetboilerplate Function Type 3 csharp\n",
      "deeplearning4j Block Type 1 java\n",
      "deeplearning4j Block Type 2 java\n",
      "deeplearning4j Block Type 3 java\n",
      "deeplearning4j Function Type 1 java\n",
      "deeplearning4j Function Type 2 java\n",
      "deeplearning4j Function Type 3 java\n",
      "djl Block Type 1 java\n",
      "djl Block Type 2 java\n",
      "djl Block Type 3 java\n",
      "djl Function Type 1 java\n",
      "djl Function Type 2 java\n",
      "djl Function Type 3 java\n",
      "dubbo Function Type 1 java\n",
      "dubbo Function Type 2 java\n",
      "dubbo Function Type 3 java\n",
      "efcore Block Type 1 csharp\n",
      "efcore Block Type 2 csharp\n",
      "efcore Block Type 3 csharp\n",
      "efcore Function Type 1 csharp\n",
      "efcore Function Type 2 csharp\n",
      "efcore Function Type 3 csharp\n",
      "framework Block Type 1 java\n",
      "framework Block Type 2 java\n",
      "framework Block Type 3 java\n",
      "framework Function Type 1 java\n",
      "framework Function Type 2 java\n",
      "framework Function Type 3 java\n",
      "jellyfin Block Type 1 csharp\n",
      "jellyfin Block Type 2 csharp\n",
      "jellyfin Block Type 3 csharp\n",
      "jellyfin Function Type 1 csharp\n",
      "jellyfin Function Type 2 csharp\n",
      "jellyfin Function Type 3 csharp\n",
      "keras-sharp Block Type 1 csharp\n",
      "keras-sharp Block Type 2 csharp\n",
      "keras-sharp Block Type 3 csharp\n",
      "keras-sharp Function Type 2 csharp\n",
      "keras-sharp Function Type 3 csharp\n",
      "knime-deeplearning Block Type 1 java\n",
      "knime-deeplearning Block Type 2 java\n",
      "knime-deeplearning Block Type 3 java\n",
      "knime-deeplearning Function Type 1 java\n",
      "knime-deeplearning Function Type 2 java\n",
      "knime-deeplearning Function Type 3 java\n",
      "neuralnetworks Block Type 1 java\n",
      "neuralnetworks Block Type 2 java\n",
      "neuralnetworks Block Type 3 java\n",
      "neuralnetworks Function Type 1 java\n",
      "neuralnetworks Function Type 2 java\n",
      "neuralnetworks Function Type 3 java\n",
      "okhttp Block Type 1 java\n",
      "okhttp Block Type 2 java\n",
      "okhttp Block Type 3 java\n",
      "okhttp Function Type 1 java\n",
      "okhttp Function Type 2 java\n",
      "okhttp Function Type 3 java\n",
      "retrofit Block Type 1 java\n",
      "retrofit Block Type 2 java\n",
      "retrofit Block Type 3 java\n",
      "retrofit Function Type 1 java\n",
      "retrofit Function Type 2 java\n",
      "retrofit Function Type 3 java\n",
      "shadowsocks-windows Block Type 2 csharp\n",
      "shadowsocks-windows Block Type 3 csharp\n",
      "shadowsocks-windows Function Type 2 csharp\n",
      "shadowsocks-windows Function Type 3 csharp\n",
      "spring-framework Block Type 1 java\n",
      "spring-framework Block Type 2 java\n",
      "spring-framework Block Type 3 java\n",
      "spring-framework Function Type 1 java\n",
      "spring-framework Function Type 2 java\n",
      "spring-framework Function Type 3 java\n"
     ]
    }
   ],
   "source": [
    "for index1, row1 in repos_clones_size_all.iterrows():\n",
    "    print('{} {} {} {}'.format(row1['repoName'], row1['granularity'], row1['clone_type'], row1['language']))\n",
    "    "
   ]
  },
  {
   "cell_type": "markdown",
   "metadata": {},
   "source": [
    "# RQ1-Java"
   ]
  },
  {
   "cell_type": "code",
   "execution_count": 36,
   "metadata": {},
   "outputs": [],
   "source": [
    "repos_clones_size = repos_clones_size_all\n",
    "repos_clones_size_java= repos_clones_size[repos_clones_size['language']=='java']\n",
    "repos_clones_size_java_fct = repos_clones_size_java[repos_clones_size_java['granularity']=='Function']\n",
    "repos_clones_size_java_blk = repos_clones_size_java[repos_clones_size_java['granularity']=='Block']"
   ]
  },
  {
   "cell_type": "code",
   "execution_count": 37,
   "metadata": {
    "scrolled": true
   },
   "outputs": [
    {
     "data": {
      "text/html": [
       "<div>\n",
       "<style scoped>\n",
       "    .dataframe tbody tr th:only-of-type {\n",
       "        vertical-align: middle;\n",
       "    }\n",
       "\n",
       "    .dataframe tbody tr th {\n",
       "        vertical-align: top;\n",
       "    }\n",
       "\n",
       "    .dataframe thead th {\n",
       "        text-align: right;\n",
       "    }\n",
       "</style>\n",
       "<table border=\"1\" class=\"dataframe\">\n",
       "  <thead>\n",
       "    <tr style=\"text-align: right;\">\n",
       "      <th></th>\n",
       "      <th>repoName</th>\n",
       "      <th>granularity</th>\n",
       "      <th>clone_type</th>\n",
       "      <th>language</th>\n",
       "      <th>project_type</th>\n",
       "      <th>locc</th>\n",
       "      <th>repoName_path</th>\n",
       "      <th>total_sloc</th>\n",
       "      <th>LOCC / total SLOC</th>\n",
       "      <th>LOCC_total_SLOC</th>\n",
       "    </tr>\n",
       "  </thead>\n",
       "  <tbody>\n",
       "    <tr>\n",
       "      <th>32</th>\n",
       "      <td>DeepDriver</td>\n",
       "      <td>Function</td>\n",
       "      <td>Type 1</td>\n",
       "      <td>java</td>\n",
       "      <td>Deep Learning</td>\n",
       "      <td>3510</td>\n",
       "      <td>b-repositories/DL/java/DeepDriver</td>\n",
       "      <td>32265</td>\n",
       "      <td>0.108787</td>\n",
       "      <td>0.108787</td>\n",
       "    </tr>\n",
       "    <tr>\n",
       "      <th>33</th>\n",
       "      <td>DeepDriver</td>\n",
       "      <td>Function</td>\n",
       "      <td>Type 2</td>\n",
       "      <td>java</td>\n",
       "      <td>Deep Learning</td>\n",
       "      <td>1630</td>\n",
       "      <td>b-repositories/DL/java/DeepDriver</td>\n",
       "      <td>32265</td>\n",
       "      <td>0.050519</td>\n",
       "      <td>0.050519</td>\n",
       "    </tr>\n",
       "    <tr>\n",
       "      <th>34</th>\n",
       "      <td>DeepDriver</td>\n",
       "      <td>Function</td>\n",
       "      <td>Type 3</td>\n",
       "      <td>java</td>\n",
       "      <td>Deep Learning</td>\n",
       "      <td>10167</td>\n",
       "      <td>b-repositories/DL/java/DeepDriver</td>\n",
       "      <td>32265</td>\n",
       "      <td>0.315109</td>\n",
       "      <td>0.315109</td>\n",
       "    </tr>\n",
       "    <tr>\n",
       "      <th>66</th>\n",
       "      <td>MPAndroidChart</td>\n",
       "      <td>Function</td>\n",
       "      <td>Type 1</td>\n",
       "      <td>java</td>\n",
       "      <td>Traditional</td>\n",
       "      <td>390</td>\n",
       "      <td>/tmpstore/bimus/b-repositories/trad/java/MPAnd...</td>\n",
       "      <td>25232</td>\n",
       "      <td>0.015457</td>\n",
       "      <td>0.015457</td>\n",
       "    </tr>\n",
       "    <tr>\n",
       "      <th>67</th>\n",
       "      <td>MPAndroidChart</td>\n",
       "      <td>Function</td>\n",
       "      <td>Type 2</td>\n",
       "      <td>java</td>\n",
       "      <td>Traditional</td>\n",
       "      <td>818</td>\n",
       "      <td>/tmpstore/bimus/b-repositories/trad/java/MPAnd...</td>\n",
       "      <td>25232</td>\n",
       "      <td>0.032419</td>\n",
       "      <td>0.032419</td>\n",
       "    </tr>\n",
       "  </tbody>\n",
       "</table>\n",
       "</div>"
      ],
      "text/plain": [
       "          repoName granularity clone_type language   project_type   locc  \\\n",
       "32      DeepDriver    Function     Type 1     java  Deep Learning   3510   \n",
       "33      DeepDriver    Function     Type 2     java  Deep Learning   1630   \n",
       "34      DeepDriver    Function     Type 3     java  Deep Learning  10167   \n",
       "66  MPAndroidChart    Function     Type 1     java    Traditional    390   \n",
       "67  MPAndroidChart    Function     Type 2     java    Traditional    818   \n",
       "\n",
       "                                        repoName_path  total_sloc  \\\n",
       "32                  b-repositories/DL/java/DeepDriver       32265   \n",
       "33                  b-repositories/DL/java/DeepDriver       32265   \n",
       "34                  b-repositories/DL/java/DeepDriver       32265   \n",
       "66  /tmpstore/bimus/b-repositories/trad/java/MPAnd...       25232   \n",
       "67  /tmpstore/bimus/b-repositories/trad/java/MPAnd...       25232   \n",
       "\n",
       "    LOCC / total SLOC  LOCC_total_SLOC  \n",
       "32           0.108787         0.108787  \n",
       "33           0.050519         0.050519  \n",
       "34           0.315109         0.315109  \n",
       "66           0.015457         0.015457  \n",
       "67           0.032419         0.032419  "
      ]
     },
     "execution_count": 37,
     "metadata": {},
     "output_type": "execute_result"
    }
   ],
   "source": [
    "repos_clones_size_java_fct.head()"
   ]
  },
  {
   "cell_type": "code",
   "execution_count": 38,
   "metadata": {},
   "outputs": [
    {
     "data": {
      "text/html": [
       "<div>\n",
       "<style scoped>\n",
       "    .dataframe tbody tr th:only-of-type {\n",
       "        vertical-align: middle;\n",
       "    }\n",
       "\n",
       "    .dataframe tbody tr th {\n",
       "        vertical-align: top;\n",
       "    }\n",
       "\n",
       "    .dataframe thead th {\n",
       "        text-align: right;\n",
       "    }\n",
       "</style>\n",
       "<table border=\"1\" class=\"dataframe\">\n",
       "  <thead>\n",
       "    <tr style=\"text-align: right;\">\n",
       "      <th></th>\n",
       "      <th>repoName</th>\n",
       "      <th>granularity</th>\n",
       "      <th>clone_type</th>\n",
       "      <th>language</th>\n",
       "      <th>project_type</th>\n",
       "      <th>locc</th>\n",
       "      <th>repoName_path</th>\n",
       "      <th>total_sloc</th>\n",
       "      <th>LOCC / total SLOC</th>\n",
       "      <th>LOCC_total_SLOC</th>\n",
       "    </tr>\n",
       "  </thead>\n",
       "  <tbody>\n",
       "    <tr>\n",
       "      <th>29</th>\n",
       "      <td>DeepDriver</td>\n",
       "      <td>Block</td>\n",
       "      <td>Type 1</td>\n",
       "      <td>java</td>\n",
       "      <td>Deep Learning</td>\n",
       "      <td>5790</td>\n",
       "      <td>b-repositories/DL/java/DeepDriver</td>\n",
       "      <td>32265</td>\n",
       "      <td>0.179451</td>\n",
       "      <td>0.179451</td>\n",
       "    </tr>\n",
       "    <tr>\n",
       "      <th>30</th>\n",
       "      <td>DeepDriver</td>\n",
       "      <td>Block</td>\n",
       "      <td>Type 2</td>\n",
       "      <td>java</td>\n",
       "      <td>Deep Learning</td>\n",
       "      <td>2891</td>\n",
       "      <td>b-repositories/DL/java/DeepDriver</td>\n",
       "      <td>32265</td>\n",
       "      <td>0.089602</td>\n",
       "      <td>0.089602</td>\n",
       "    </tr>\n",
       "    <tr>\n",
       "      <th>31</th>\n",
       "      <td>DeepDriver</td>\n",
       "      <td>Block</td>\n",
       "      <td>Type 3</td>\n",
       "      <td>java</td>\n",
       "      <td>Deep Learning</td>\n",
       "      <td>15382</td>\n",
       "      <td>b-repositories/DL/java/DeepDriver</td>\n",
       "      <td>32265</td>\n",
       "      <td>0.476740</td>\n",
       "      <td>0.476740</td>\n",
       "    </tr>\n",
       "    <tr>\n",
       "      <th>63</th>\n",
       "      <td>MPAndroidChart</td>\n",
       "      <td>Block</td>\n",
       "      <td>Type 1</td>\n",
       "      <td>java</td>\n",
       "      <td>Traditional</td>\n",
       "      <td>1969</td>\n",
       "      <td>/tmpstore/bimus/b-repositories/trad/java/MPAnd...</td>\n",
       "      <td>25232</td>\n",
       "      <td>0.078036</td>\n",
       "      <td>0.078036</td>\n",
       "    </tr>\n",
       "    <tr>\n",
       "      <th>64</th>\n",
       "      <td>MPAndroidChart</td>\n",
       "      <td>Block</td>\n",
       "      <td>Type 2</td>\n",
       "      <td>java</td>\n",
       "      <td>Traditional</td>\n",
       "      <td>2590</td>\n",
       "      <td>/tmpstore/bimus/b-repositories/trad/java/MPAnd...</td>\n",
       "      <td>25232</td>\n",
       "      <td>0.102647</td>\n",
       "      <td>0.102647</td>\n",
       "    </tr>\n",
       "  </tbody>\n",
       "</table>\n",
       "</div>"
      ],
      "text/plain": [
       "          repoName granularity clone_type language   project_type   locc  \\\n",
       "29      DeepDriver       Block     Type 1     java  Deep Learning   5790   \n",
       "30      DeepDriver       Block     Type 2     java  Deep Learning   2891   \n",
       "31      DeepDriver       Block     Type 3     java  Deep Learning  15382   \n",
       "63  MPAndroidChart       Block     Type 1     java    Traditional   1969   \n",
       "64  MPAndroidChart       Block     Type 2     java    Traditional   2590   \n",
       "\n",
       "                                        repoName_path  total_sloc  \\\n",
       "29                  b-repositories/DL/java/DeepDriver       32265   \n",
       "30                  b-repositories/DL/java/DeepDriver       32265   \n",
       "31                  b-repositories/DL/java/DeepDriver       32265   \n",
       "63  /tmpstore/bimus/b-repositories/trad/java/MPAnd...       25232   \n",
       "64  /tmpstore/bimus/b-repositories/trad/java/MPAnd...       25232   \n",
       "\n",
       "    LOCC / total SLOC  LOCC_total_SLOC  \n",
       "29           0.179451         0.179451  \n",
       "30           0.089602         0.089602  \n",
       "31           0.476740         0.476740  \n",
       "63           0.078036         0.078036  \n",
       "64           0.102647         0.102647  "
      ]
     },
     "execution_count": 38,
     "metadata": {},
     "output_type": "execute_result"
    }
   ],
   "source": [
    "repos_clones_size_java_blk.head()"
   ]
  },
  {
   "cell_type": "code",
   "execution_count": 39,
   "metadata": {},
   "outputs": [
    {
     "data": {
      "text/html": [
       "<div>\n",
       "<style scoped>\n",
       "    .dataframe tbody tr th:only-of-type {\n",
       "        vertical-align: middle;\n",
       "    }\n",
       "\n",
       "    .dataframe tbody tr th {\n",
       "        vertical-align: top;\n",
       "    }\n",
       "\n",
       "    .dataframe thead th {\n",
       "        text-align: right;\n",
       "    }\n",
       "</style>\n",
       "<table border=\"1\" class=\"dataframe\">\n",
       "  <thead>\n",
       "    <tr style=\"text-align: right;\">\n",
       "      <th></th>\n",
       "      <th>repoName</th>\n",
       "      <th>granularity</th>\n",
       "      <th>clone_type</th>\n",
       "      <th>language</th>\n",
       "      <th>project_type</th>\n",
       "      <th>locc</th>\n",
       "      <th>repoName_path</th>\n",
       "      <th>total_sloc</th>\n",
       "      <th>LOCC / total SLOC</th>\n",
       "      <th>LOCC_total_SLOC</th>\n",
       "    </tr>\n",
       "  </thead>\n",
       "  <tbody>\n",
       "    <tr>\n",
       "      <th>32</th>\n",
       "      <td>DeepDriver</td>\n",
       "      <td>Function</td>\n",
       "      <td>Type 1</td>\n",
       "      <td>java</td>\n",
       "      <td>Deep Learning</td>\n",
       "      <td>3510</td>\n",
       "      <td>b-repositories/DL/java/DeepDriver</td>\n",
       "      <td>32265</td>\n",
       "      <td>0.108787</td>\n",
       "      <td>0.108787</td>\n",
       "    </tr>\n",
       "    <tr>\n",
       "      <th>66</th>\n",
       "      <td>MPAndroidChart</td>\n",
       "      <td>Function</td>\n",
       "      <td>Type 1</td>\n",
       "      <td>java</td>\n",
       "      <td>Traditional</td>\n",
       "      <td>390</td>\n",
       "      <td>/tmpstore/bimus/b-repositories/trad/java/MPAnd...</td>\n",
       "      <td>25232</td>\n",
       "      <td>0.015457</td>\n",
       "      <td>0.015457</td>\n",
       "    </tr>\n",
       "    <tr>\n",
       "      <th>108</th>\n",
       "      <td>SANNet</td>\n",
       "      <td>Function</td>\n",
       "      <td>Type 1</td>\n",
       "      <td>java</td>\n",
       "      <td>Deep Learning</td>\n",
       "      <td>319</td>\n",
       "      <td>b-repositories/DL/java/SANNet</td>\n",
       "      <td>16172</td>\n",
       "      <td>0.019725</td>\n",
       "      <td>0.019725</td>\n",
       "    </tr>\n",
       "    <tr>\n",
       "      <th>162</th>\n",
       "      <td>deeplearning4j</td>\n",
       "      <td>Function</td>\n",
       "      <td>Type 1</td>\n",
       "      <td>java</td>\n",
       "      <td>Deep Learning</td>\n",
       "      <td>14017</td>\n",
       "      <td>b-repositories/DL/java/deeplearning4j</td>\n",
       "      <td>526195</td>\n",
       "      <td>0.026638</td>\n",
       "      <td>0.026638</td>\n",
       "    </tr>\n",
       "    <tr>\n",
       "      <th>168</th>\n",
       "      <td>djl</td>\n",
       "      <td>Function</td>\n",
       "      <td>Type 1</td>\n",
       "      <td>java</td>\n",
       "      <td>Deep Learning</td>\n",
       "      <td>1002</td>\n",
       "      <td>b-repositories/DL/java/djl</td>\n",
       "      <td>74161</td>\n",
       "      <td>0.013511</td>\n",
       "      <td>0.013511</td>\n",
       "    </tr>\n",
       "  </tbody>\n",
       "</table>\n",
       "</div>"
      ],
      "text/plain": [
       "           repoName granularity clone_type language   project_type   locc  \\\n",
       "32       DeepDriver    Function     Type 1     java  Deep Learning   3510   \n",
       "66   MPAndroidChart    Function     Type 1     java    Traditional    390   \n",
       "108          SANNet    Function     Type 1     java  Deep Learning    319   \n",
       "162  deeplearning4j    Function     Type 1     java  Deep Learning  14017   \n",
       "168             djl    Function     Type 1     java  Deep Learning   1002   \n",
       "\n",
       "                                         repoName_path  total_sloc  \\\n",
       "32                   b-repositories/DL/java/DeepDriver       32265   \n",
       "66   /tmpstore/bimus/b-repositories/trad/java/MPAnd...       25232   \n",
       "108                      b-repositories/DL/java/SANNet       16172   \n",
       "162              b-repositories/DL/java/deeplearning4j      526195   \n",
       "168                         b-repositories/DL/java/djl       74161   \n",
       "\n",
       "     LOCC / total SLOC  LOCC_total_SLOC  \n",
       "32            0.108787         0.108787  \n",
       "66            0.015457         0.015457  \n",
       "108           0.019725         0.019725  \n",
       "162           0.026638         0.026638  \n",
       "168           0.013511         0.013511  "
      ]
     },
     "execution_count": 39,
     "metadata": {},
     "output_type": "execute_result"
    }
   ],
   "source": [
    "java_fct=repos_clones_size_java_fct[repos_clones_size_java_fct['language']=='java']\n",
    "java_fct_t1=java_fct[java_fct['clone_type']=='Type 1']\n",
    "java_fct_t1.head()"
   ]
  },
  {
   "cell_type": "markdown",
   "metadata": {},
   "source": [
    "## Java All Types Function granularity"
   ]
  },
  {
   "cell_type": "code",
   "execution_count": 78,
   "metadata": {},
   "outputs": [],
   "source": [
    "repos_clones_size = repos_clones_size_java_fct"
   ]
  },
  {
   "cell_type": "code",
   "execution_count": 79,
   "metadata": {},
   "outputs": [],
   "source": [
    "traditional = repos_clones_size[repos_clones_size['project_type']=='Traditional']\n",
    "dl = repos_clones_size[repos_clones_size['project_type']=='Deep Learning']"
   ]
  },
  {
   "cell_type": "code",
   "execution_count": 80,
   "metadata": {},
   "outputs": [
    {
     "data": {
      "text/plain": [
       "MannwhitneyuResult(statistic=159.0, pvalue=0.46847793383497877)"
      ]
     },
     "execution_count": 80,
     "metadata": {},
     "output_type": "execute_result"
    }
   ],
   "source": [
    "stats.mannwhitneyu(traditional.LOCC_total_SLOC,dl.LOCC_total_SLOC)"
   ]
  },
  {
   "cell_type": "code",
   "execution_count": 81,
   "metadata": {},
   "outputs": [
    {
     "data": {
      "text/plain": [
       "MannwhitneyuResult(statistic=159.0, pvalue=0.9369558676699575)"
      ]
     },
     "execution_count": 81,
     "metadata": {},
     "output_type": "execute_result"
    }
   ],
   "source": [
    "stats.mannwhitneyu(traditional.LOCC_total_SLOC,dl.LOCC_total_SLOC, alternative='two-sided')"
   ]
  },
  {
   "cell_type": "code",
   "execution_count": 82,
   "metadata": {},
   "outputs": [
    {
     "data": {
      "text/plain": [
       "MannwhitneyuResult(statistic=165.0, pvalue=0.9369558676699575)"
      ]
     },
     "execution_count": 82,
     "metadata": {},
     "output_type": "execute_result"
    }
   ],
   "source": [
    "stats.mannwhitneyu(dl.LOCC_total_SLOC,traditional.LOCC_total_SLOC, alternative='two-sided')"
   ]
  },
  {
   "cell_type": "code",
   "execution_count": 83,
   "metadata": {},
   "outputs": [
    {
     "data": {
      "text/plain": [
       "0.018518518518518517"
      ]
     },
     "execution_count": 83,
     "metadata": {},
     "output_type": "execute_result"
    }
   ],
   "source": [
    "cliffsDelta(traditional.LOCC_total_SLOC,dl.LOCC_total_SLOC)"
   ]
  },
  {
   "cell_type": "code",
   "execution_count": 88,
   "metadata": {},
   "outputs": [
    {
     "data": {
      "image/png": "[encoded data removed]",
      "text/plain": [
       "<Figure size 511.2x496.8 with 1 Axes>"
      ]
     },
     "metadata": {},
     "output_type": "display_data"
    }
   ],
   "source": [
    "sns.set(rc={'figure.figsize':(7.1,6.9)})\n",
    "sns.set(font_scale=1.5)\n",
    "sns.set_style('white')\n",
    "sns.set_style('ticks', {'axes.edgecolor': '0',  \n",
    "                        'xtick.color': '0',\n",
    "                        'ytick.color': '0'})\n",
    "# Define some hatches\n",
    "hatches = cycle(['///','x', 'o'])\n",
    "\n",
    "\n",
    "# Boxplot\n",
    "ax = sns.boxplot(x=\"project_type\", y=\"LOCC / total SLOC\", data=repos_clones_size_java_fct, order=[\"Deep Learning\", \"Traditional\"], showfliers=False,color='black',medianprops=dict(color='black'), \n",
    "                  boxprops = dict(facecolor='white',edgecolor='black' ))\n",
    "#ax.set_yscale(\"log\")\n",
    "ax.set(xlabel='Project Type', ylabel='log(LOCC / total SLOC)')\n",
    "#plt.legend(loc='best')\n",
    "plt.title('(a) Function Granularity')\n",
    "patches=[]\n",
    "for i, patch in enumerate(ax.artists):\n",
    "    # Boxes from left to right\n",
    "    hatch = next(hatches)\n",
    "    patch.set_hatch(hatch)\n",
    "    if patch not in patches:\n",
    "        patches.append(patch)\n",
    "\n",
    "plt.show()\n",
    "fig = ax.get_figure()\n",
    "fig.savefig(\"java_dl_trad_all_clone_type_fct.pdf\")"
   ]
  },
  {
   "cell_type": "markdown",
   "metadata": {},
   "source": [
    "## Java- All Types Block granularity"
   ]
  },
  {
   "cell_type": "code",
   "execution_count": 89,
   "metadata": {},
   "outputs": [],
   "source": [
    "repos_clones_size = repos_clones_size_java_blk"
   ]
  },
  {
   "cell_type": "code",
   "execution_count": 90,
   "metadata": {},
   "outputs": [],
   "source": [
    "traditional = repos_clones_size[repos_clones_size['project_type']=='Traditional']\n",
    "dl = repos_clones_size[repos_clones_size['project_type']=='Deep Learning']"
   ]
  },
  {
   "cell_type": "code",
   "execution_count": 91,
   "metadata": {},
   "outputs": [
    {
     "data": {
      "text/plain": [
       "MannwhitneyuResult(statistic=120.0, pvalue=0.3000528188066002)"
      ]
     },
     "execution_count": 91,
     "metadata": {},
     "output_type": "execute_result"
    }
   ],
   "source": [
    "stats.mannwhitneyu(traditional.LOCC_total_SLOC,dl.LOCC_total_SLOC)"
   ]
  },
  {
   "cell_type": "code",
   "execution_count": 92,
   "metadata": {},
   "outputs": [
    {
     "data": {
      "text/plain": [
       "MannwhitneyuResult(statistic=120.0, pvalue=0.6001056376132003)"
      ]
     },
     "execution_count": 92,
     "metadata": {},
     "output_type": "execute_result"
    }
   ],
   "source": [
    "stats.mannwhitneyu(traditional.LOCC_total_SLOC,dl.LOCC_total_SLOC, alternative='two-sided')"
   ]
  },
  {
   "cell_type": "code",
   "execution_count": 93,
   "metadata": {},
   "outputs": [
    {
     "data": {
      "text/plain": [
       "MannwhitneyuResult(statistic=150.0, pvalue=0.6001056376132003)"
      ]
     },
     "execution_count": 93,
     "metadata": {},
     "output_type": "execute_result"
    }
   ],
   "source": [
    "stats.mannwhitneyu(dl.LOCC_total_SLOC,traditional.LOCC_total_SLOC, alternative='two-sided')"
   ]
  },
  {
   "cell_type": "code",
   "execution_count": 94,
   "metadata": {},
   "outputs": [
    {
     "data": {
      "text/plain": [
       "0.1111111111111111"
      ]
     },
     "execution_count": 94,
     "metadata": {},
     "output_type": "execute_result"
    }
   ],
   "source": [
    "cliffsDelta(traditional.LOCC_total_SLOC,dl.LOCC_total_SLOC)"
   ]
  },
  {
   "cell_type": "code",
   "execution_count": 95,
   "metadata": {},
   "outputs": [
    {
     "data": {
      "image/png": "[encoded data removed]",
      "text/plain": [
       "<Figure size 482.4x482.4 with 1 Axes>"
      ]
     },
     "metadata": {},
     "output_type": "display_data"
    }
   ],
   "source": [
    "sns.set(rc={'figure.figsize':(6.7,6.7)})\n",
    "sns.set(font_scale=1.5)\n",
    "sns.set_style('white')\n",
    "sns.set_style('ticks', {'axes.edgecolor': '0',  \n",
    "                        'xtick.color': '0',\n",
    "                        'ytick.color': '0'})\n",
    "# Define some hatches\n",
    "hatches = cycle(['///','x', 'o'])\n",
    "\n",
    "\n",
    "# Boxplot\n",
    "ax = sns.boxplot(x=\"project_type\", y=\"LOCC / total SLOC\", data=repos_clones_size_java_blk,order=[\"Deep Learning\", \"Traditional\"], showfliers=False,color='black',medianprops=dict(color='black'), \n",
    "                  boxprops = dict(facecolor='white',edgecolor='black' ))\n",
    "#ax.set_yscale(\"log\")\n",
    "#ax.set(xlabel='Project Type', ylabel='log(LOCC / total SLOC)')\n",
    "#plt.legend(loc='best')\n",
    "plt.title('(b) Block Granularity')\n",
    "patches=[]\n",
    "for i, patch in enumerate(ax.artists):\n",
    "    # Boxes from left to right\n",
    "    hatch = next(hatches)\n",
    "    patch.set_hatch(hatch)\n",
    "    if patch not in patches:\n",
    "        patches.append(patch)\n",
    "\n",
    "plt.show()\n",
    "fig = ax.get_figure()\n",
    "fig.savefig(\"java_dl_trad_all_clone_type_blk.pdf\")"
   ]
  },
  {
   "cell_type": "markdown",
   "metadata": {},
   "source": [
    "## Java -By Clone Types-Function granularity"
   ]
  },
  {
   "cell_type": "code",
   "execution_count": 96,
   "metadata": {},
   "outputs": [],
   "source": [
    "repos_clones_size = repos_clones_size_java_fct\n",
    "traditional = repos_clones_size[repos_clones_size['project_type']=='Traditional']\n",
    "dl = repos_clones_size[repos_clones_size['project_type']=='Deep Learning']"
   ]
  },
  {
   "cell_type": "code",
   "execution_count": 97,
   "metadata": {},
   "outputs": [],
   "source": [
    "trad_type1 = traditional[traditional['clone_type']=='Type 1']\n",
    "trad_type2 = traditional[traditional['clone_type']=='Type 2']\n",
    "trad_type3 = traditional[traditional['clone_type']=='Type 3']\n",
    "\n",
    "dl_type1 = dl[dl['clone_type']=='Type 1']\n",
    "dl_type2 = dl[dl['clone_type']=='Type 2']\n",
    "dl_type3 = dl[dl['clone_type']=='Type 3']"
   ]
  },
  {
   "cell_type": "code",
   "execution_count": 98,
   "metadata": {},
   "outputs": [
    {
     "data": {
      "text/html": [
       "<div>\n",
       "<style scoped>\n",
       "    .dataframe tbody tr th:only-of-type {\n",
       "        vertical-align: middle;\n",
       "    }\n",
       "\n",
       "    .dataframe tbody tr th {\n",
       "        vertical-align: top;\n",
       "    }\n",
       "\n",
       "    .dataframe thead th {\n",
       "        text-align: right;\n",
       "    }\n",
       "</style>\n",
       "<table border=\"1\" class=\"dataframe\">\n",
       "  <thead>\n",
       "    <tr style=\"text-align: right;\">\n",
       "      <th></th>\n",
       "      <th>repoName</th>\n",
       "      <th>granularity</th>\n",
       "      <th>clone_type</th>\n",
       "      <th>language</th>\n",
       "      <th>project_type</th>\n",
       "      <th>locc</th>\n",
       "      <th>repoName_path</th>\n",
       "      <th>total_sloc</th>\n",
       "      <th>LOCC / total SLOC</th>\n",
       "      <th>LOCC_total_SLOC</th>\n",
       "    </tr>\n",
       "  </thead>\n",
       "  <tbody>\n",
       "    <tr>\n",
       "      <th>66</th>\n",
       "      <td>MPAndroidChart</td>\n",
       "      <td>Function</td>\n",
       "      <td>Type 1</td>\n",
       "      <td>java</td>\n",
       "      <td>Traditional</td>\n",
       "      <td>390</td>\n",
       "      <td>/tmpstore/bimus/b-repositories/trad/java/MPAnd...</td>\n",
       "      <td>25232</td>\n",
       "      <td>0.015457</td>\n",
       "      <td>0.015457</td>\n",
       "    </tr>\n",
       "    <tr>\n",
       "      <th>171</th>\n",
       "      <td>dubbo</td>\n",
       "      <td>Function</td>\n",
       "      <td>Type 1</td>\n",
       "      <td>java</td>\n",
       "      <td>Traditional</td>\n",
       "      <td>13175</td>\n",
       "      <td>/tmpstore/bimus/b-repositories/trad/java/dubbo</td>\n",
       "      <td>174064</td>\n",
       "      <td>0.075691</td>\n",
       "      <td>0.075691</td>\n",
       "    </tr>\n",
       "    <tr>\n",
       "      <th>183</th>\n",
       "      <td>framework</td>\n",
       "      <td>Function</td>\n",
       "      <td>Type 1</td>\n",
       "      <td>java</td>\n",
       "      <td>Traditional</td>\n",
       "      <td>24808</td>\n",
       "      <td>/tmpstore/bimus/b-repositories/trad/java/frame...</td>\n",
       "      <td>437134</td>\n",
       "      <td>0.056751</td>\n",
       "      <td>0.056751</td>\n",
       "    </tr>\n",
       "    <tr>\n",
       "      <th>212</th>\n",
       "      <td>okhttp</td>\n",
       "      <td>Function</td>\n",
       "      <td>Type 1</td>\n",
       "      <td>java</td>\n",
       "      <td>Traditional</td>\n",
       "      <td>1113</td>\n",
       "      <td>/tmpstore/bimus/b-repositories/trad/java/okhttp</td>\n",
       "      <td>37217</td>\n",
       "      <td>0.029906</td>\n",
       "      <td>0.029906</td>\n",
       "    </tr>\n",
       "    <tr>\n",
       "      <th>218</th>\n",
       "      <td>retrofit</td>\n",
       "      <td>Function</td>\n",
       "      <td>Type 1</td>\n",
       "      <td>java</td>\n",
       "      <td>Traditional</td>\n",
       "      <td>4617</td>\n",
       "      <td>/tmpstore/bimus/b-repositories/trad/java/retrofit</td>\n",
       "      <td>26513</td>\n",
       "      <td>0.174141</td>\n",
       "      <td>0.174141</td>\n",
       "    </tr>\n",
       "  </tbody>\n",
       "</table>\n",
       "</div>"
      ],
      "text/plain": [
       "           repoName granularity clone_type language project_type   locc  \\\n",
       "66   MPAndroidChart    Function     Type 1     java  Traditional    390   \n",
       "171           dubbo    Function     Type 1     java  Traditional  13175   \n",
       "183       framework    Function     Type 1     java  Traditional  24808   \n",
       "212          okhttp    Function     Type 1     java  Traditional   1113   \n",
       "218        retrofit    Function     Type 1     java  Traditional   4617   \n",
       "\n",
       "                                         repoName_path  total_sloc  \\\n",
       "66   /tmpstore/bimus/b-repositories/trad/java/MPAnd...       25232   \n",
       "171     /tmpstore/bimus/b-repositories/trad/java/dubbo      174064   \n",
       "183  /tmpstore/bimus/b-repositories/trad/java/frame...      437134   \n",
       "212    /tmpstore/bimus/b-repositories/trad/java/okhttp       37217   \n",
       "218  /tmpstore/bimus/b-repositories/trad/java/retrofit       26513   \n",
       "\n",
       "     LOCC / total SLOC  LOCC_total_SLOC  \n",
       "66            0.015457         0.015457  \n",
       "171           0.075691         0.075691  \n",
       "183           0.056751         0.056751  \n",
       "212           0.029906         0.029906  \n",
       "218           0.174141         0.174141  "
      ]
     },
     "execution_count": 98,
     "metadata": {},
     "output_type": "execute_result"
    }
   ],
   "source": [
    "trad_type1.head()"
   ]
  },
  {
   "cell_type": "code",
   "execution_count": 99,
   "metadata": {},
   "outputs": [
    {
     "data": {
      "text/plain": [
       "MannwhitneyuResult(statistic=19.0, pvalue=0.9361862934730594)"
      ]
     },
     "execution_count": 99,
     "metadata": {},
     "output_type": "execute_result"
    }
   ],
   "source": [
    "stats.mannwhitneyu(trad_type1.LOCC_total_SLOC,dl_type1.LOCC_total_SLOC, alternative='two-sided')"
   ]
  },
  {
   "cell_type": "code",
   "execution_count": 100,
   "metadata": {},
   "outputs": [
    {
     "data": {
      "text/plain": [
       "MannwhitneyuResult(statistic=14.0, pvalue=0.5751735319201967)"
      ]
     },
     "execution_count": 100,
     "metadata": {},
     "output_type": "execute_result"
    }
   ],
   "source": [
    "stats.mannwhitneyu(trad_type2.LOCC_total_SLOC,dl_type2.LOCC_total_SLOC, alternative='two-sided')"
   ]
  },
  {
   "cell_type": "code",
   "execution_count": 101,
   "metadata": {},
   "outputs": [
    {
     "data": {
      "text/plain": [
       "MannwhitneyuResult(statistic=20.0, pvalue=0.8101812364104737)"
      ]
     },
     "execution_count": 101,
     "metadata": {},
     "output_type": "execute_result"
    }
   ],
   "source": [
    "stats.mannwhitneyu(trad_type3.LOCC_total_SLOC,dl_type3.LOCC_total_SLOC, alternative='two-sided')"
   ]
  },
  {
   "cell_type": "code",
   "execution_count": 102,
   "metadata": {},
   "outputs": [
    {
     "data": {
      "text/html": [
       "<div>\n",
       "<style scoped>\n",
       "    .dataframe tbody tr th:only-of-type {\n",
       "        vertical-align: middle;\n",
       "    }\n",
       "\n",
       "    .dataframe tbody tr th {\n",
       "        vertical-align: top;\n",
       "    }\n",
       "\n",
       "    .dataframe thead th {\n",
       "        text-align: right;\n",
       "    }\n",
       "</style>\n",
       "<table border=\"1\" class=\"dataframe\">\n",
       "  <thead>\n",
       "    <tr style=\"text-align: right;\">\n",
       "      <th></th>\n",
       "      <th>repoName</th>\n",
       "      <th>granularity</th>\n",
       "      <th>clone_type</th>\n",
       "      <th>language</th>\n",
       "      <th>project_type</th>\n",
       "      <th>locc</th>\n",
       "      <th>repoName_path</th>\n",
       "      <th>total_sloc</th>\n",
       "      <th>LOCC / total SLOC</th>\n",
       "      <th>LOCC_total_SLOC</th>\n",
       "    </tr>\n",
       "  </thead>\n",
       "  <tbody>\n",
       "    <tr>\n",
       "      <th>66</th>\n",
       "      <td>MPAndroidChart</td>\n",
       "      <td>Function</td>\n",
       "      <td>Type 1</td>\n",
       "      <td>java</td>\n",
       "      <td>Traditional</td>\n",
       "      <td>390</td>\n",
       "      <td>/tmpstore/bimus/b-repositories/trad/java/MPAnd...</td>\n",
       "      <td>25232</td>\n",
       "      <td>0.015457</td>\n",
       "      <td>0.015457</td>\n",
       "    </tr>\n",
       "    <tr>\n",
       "      <th>171</th>\n",
       "      <td>dubbo</td>\n",
       "      <td>Function</td>\n",
       "      <td>Type 1</td>\n",
       "      <td>java</td>\n",
       "      <td>Traditional</td>\n",
       "      <td>13175</td>\n",
       "      <td>/tmpstore/bimus/b-repositories/trad/java/dubbo</td>\n",
       "      <td>174064</td>\n",
       "      <td>0.075691</td>\n",
       "      <td>0.075691</td>\n",
       "    </tr>\n",
       "    <tr>\n",
       "      <th>183</th>\n",
       "      <td>framework</td>\n",
       "      <td>Function</td>\n",
       "      <td>Type 1</td>\n",
       "      <td>java</td>\n",
       "      <td>Traditional</td>\n",
       "      <td>24808</td>\n",
       "      <td>/tmpstore/bimus/b-repositories/trad/java/frame...</td>\n",
       "      <td>437134</td>\n",
       "      <td>0.056751</td>\n",
       "      <td>0.056751</td>\n",
       "    </tr>\n",
       "    <tr>\n",
       "      <th>212</th>\n",
       "      <td>okhttp</td>\n",
       "      <td>Function</td>\n",
       "      <td>Type 1</td>\n",
       "      <td>java</td>\n",
       "      <td>Traditional</td>\n",
       "      <td>1113</td>\n",
       "      <td>/tmpstore/bimus/b-repositories/trad/java/okhttp</td>\n",
       "      <td>37217</td>\n",
       "      <td>0.029906</td>\n",
       "      <td>0.029906</td>\n",
       "    </tr>\n",
       "    <tr>\n",
       "      <th>218</th>\n",
       "      <td>retrofit</td>\n",
       "      <td>Function</td>\n",
       "      <td>Type 1</td>\n",
       "      <td>java</td>\n",
       "      <td>Traditional</td>\n",
       "      <td>4617</td>\n",
       "      <td>/tmpstore/bimus/b-repositories/trad/java/retrofit</td>\n",
       "      <td>26513</td>\n",
       "      <td>0.174141</td>\n",
       "      <td>0.174141</td>\n",
       "    </tr>\n",
       "  </tbody>\n",
       "</table>\n",
       "</div>"
      ],
      "text/plain": [
       "           repoName granularity clone_type language project_type   locc  \\\n",
       "66   MPAndroidChart    Function     Type 1     java  Traditional    390   \n",
       "171           dubbo    Function     Type 1     java  Traditional  13175   \n",
       "183       framework    Function     Type 1     java  Traditional  24808   \n",
       "212          okhttp    Function     Type 1     java  Traditional   1113   \n",
       "218        retrofit    Function     Type 1     java  Traditional   4617   \n",
       "\n",
       "                                         repoName_path  total_sloc  \\\n",
       "66   /tmpstore/bimus/b-repositories/trad/java/MPAnd...       25232   \n",
       "171     /tmpstore/bimus/b-repositories/trad/java/dubbo      174064   \n",
       "183  /tmpstore/bimus/b-repositories/trad/java/frame...      437134   \n",
       "212    /tmpstore/bimus/b-repositories/trad/java/okhttp       37217   \n",
       "218  /tmpstore/bimus/b-repositories/trad/java/retrofit       26513   \n",
       "\n",
       "     LOCC / total SLOC  LOCC_total_SLOC  \n",
       "66            0.015457         0.015457  \n",
       "171           0.075691         0.075691  \n",
       "183           0.056751         0.056751  \n",
       "212           0.029906         0.029906  \n",
       "218           0.174141         0.174141  "
      ]
     },
     "execution_count": 102,
     "metadata": {},
     "output_type": "execute_result"
    }
   ],
   "source": [
    "trad_type1.head()"
   ]
  },
  {
   "cell_type": "code",
   "execution_count": 103,
   "metadata": {},
   "outputs": [
    {
     "data": {
      "text/html": [
       "<div>\n",
       "<style scoped>\n",
       "    .dataframe tbody tr th:only-of-type {\n",
       "        vertical-align: middle;\n",
       "    }\n",
       "\n",
       "    .dataframe tbody tr th {\n",
       "        vertical-align: top;\n",
       "    }\n",
       "\n",
       "    .dataframe thead th {\n",
       "        text-align: right;\n",
       "    }\n",
       "</style>\n",
       "<table border=\"1\" class=\"dataframe\">\n",
       "  <thead>\n",
       "    <tr style=\"text-align: right;\">\n",
       "      <th></th>\n",
       "      <th>repoName</th>\n",
       "      <th>granularity</th>\n",
       "      <th>clone_type</th>\n",
       "      <th>language</th>\n",
       "      <th>project_type</th>\n",
       "      <th>locc</th>\n",
       "      <th>repoName_path</th>\n",
       "      <th>total_sloc</th>\n",
       "      <th>LOCC / total SLOC</th>\n",
       "      <th>LOCC_total_SLOC</th>\n",
       "    </tr>\n",
       "  </thead>\n",
       "  <tbody>\n",
       "    <tr>\n",
       "      <th>32</th>\n",
       "      <td>DeepDriver</td>\n",
       "      <td>Function</td>\n",
       "      <td>Type 1</td>\n",
       "      <td>java</td>\n",
       "      <td>Deep Learning</td>\n",
       "      <td>3510</td>\n",
       "      <td>b-repositories/DL/java/DeepDriver</td>\n",
       "      <td>32265</td>\n",
       "      <td>0.108787</td>\n",
       "      <td>0.108787</td>\n",
       "    </tr>\n",
       "    <tr>\n",
       "      <th>108</th>\n",
       "      <td>SANNet</td>\n",
       "      <td>Function</td>\n",
       "      <td>Type 1</td>\n",
       "      <td>java</td>\n",
       "      <td>Deep Learning</td>\n",
       "      <td>319</td>\n",
       "      <td>b-repositories/DL/java/SANNet</td>\n",
       "      <td>16172</td>\n",
       "      <td>0.019725</td>\n",
       "      <td>0.019725</td>\n",
       "    </tr>\n",
       "    <tr>\n",
       "      <th>162</th>\n",
       "      <td>deeplearning4j</td>\n",
       "      <td>Function</td>\n",
       "      <td>Type 1</td>\n",
       "      <td>java</td>\n",
       "      <td>Deep Learning</td>\n",
       "      <td>14017</td>\n",
       "      <td>b-repositories/DL/java/deeplearning4j</td>\n",
       "      <td>526195</td>\n",
       "      <td>0.026638</td>\n",
       "      <td>0.026638</td>\n",
       "    </tr>\n",
       "    <tr>\n",
       "      <th>168</th>\n",
       "      <td>djl</td>\n",
       "      <td>Function</td>\n",
       "      <td>Type 1</td>\n",
       "      <td>java</td>\n",
       "      <td>Deep Learning</td>\n",
       "      <td>1002</td>\n",
       "      <td>b-repositories/DL/java/djl</td>\n",
       "      <td>74161</td>\n",
       "      <td>0.013511</td>\n",
       "      <td>0.013511</td>\n",
       "    </tr>\n",
       "    <tr>\n",
       "      <th>200</th>\n",
       "      <td>knime-deeplearning</td>\n",
       "      <td>Function</td>\n",
       "      <td>Type 1</td>\n",
       "      <td>java</td>\n",
       "      <td>Deep Learning</td>\n",
       "      <td>4249</td>\n",
       "      <td>b-repositories/DL/java/knime-deeplearning</td>\n",
       "      <td>49445</td>\n",
       "      <td>0.085934</td>\n",
       "      <td>0.085934</td>\n",
       "    </tr>\n",
       "  </tbody>\n",
       "</table>\n",
       "</div>"
      ],
      "text/plain": [
       "               repoName granularity clone_type language   project_type   locc  \\\n",
       "32           DeepDriver    Function     Type 1     java  Deep Learning   3510   \n",
       "108              SANNet    Function     Type 1     java  Deep Learning    319   \n",
       "162      deeplearning4j    Function     Type 1     java  Deep Learning  14017   \n",
       "168                 djl    Function     Type 1     java  Deep Learning   1002   \n",
       "200  knime-deeplearning    Function     Type 1     java  Deep Learning   4249   \n",
       "\n",
       "                                 repoName_path  total_sloc  LOCC / total SLOC  \\\n",
       "32           b-repositories/DL/java/DeepDriver       32265           0.108787   \n",
       "108              b-repositories/DL/java/SANNet       16172           0.019725   \n",
       "162      b-repositories/DL/java/deeplearning4j      526195           0.026638   \n",
       "168                 b-repositories/DL/java/djl       74161           0.013511   \n",
       "200  b-repositories/DL/java/knime-deeplearning       49445           0.085934   \n",
       "\n",
       "     LOCC_total_SLOC  \n",
       "32          0.108787  \n",
       "108         0.019725  \n",
       "162         0.026638  \n",
       "168         0.013511  \n",
       "200         0.085934  "
      ]
     },
     "execution_count": 103,
     "metadata": {},
     "output_type": "execute_result"
    }
   ],
   "source": [
    "dl_type1.head()"
   ]
  },
  {
   "cell_type": "code",
   "execution_count": 104,
   "metadata": {},
   "outputs": [
    {
     "data": {
      "text/plain": [
       "0.05555555555555555"
      ]
     },
     "execution_count": 104,
     "metadata": {},
     "output_type": "execute_result"
    }
   ],
   "source": [
    "cliffsDelta(trad_type1.LOCC_total_SLOC,dl_type1.LOCC_total_SLOC)"
   ]
  },
  {
   "cell_type": "code",
   "execution_count": 105,
   "metadata": {},
   "outputs": [
    {
     "data": {
      "text/plain": [
       "0.2222222222222222"
      ]
     },
     "execution_count": 105,
     "metadata": {},
     "output_type": "execute_result"
    }
   ],
   "source": [
    "cliffsDelta(trad_type2.LOCC_total_SLOC,dl_type2.LOCC_total_SLOC)"
   ]
  },
  {
   "cell_type": "code",
   "execution_count": 106,
   "metadata": {},
   "outputs": [
    {
     "data": {
      "text/plain": [
       "0.1111111111111111"
      ]
     },
     "execution_count": 106,
     "metadata": {},
     "output_type": "execute_result"
    }
   ],
   "source": [
    "cliffsDelta(trad_type3.LOCC_total_SLOC,dl_type3.LOCC_total_SLOC)"
   ]
  },
  {
   "cell_type": "code",
   "execution_count": 107,
   "metadata": {},
   "outputs": [
    {
     "data": {
      "image/png": "[encoded data removed]",
      "text/plain": [
       "<Figure size 482.4x482.4 with 1 Axes>"
      ]
     },
     "metadata": {},
     "output_type": "display_data"
    }
   ],
   "source": [
    "sns.set(rc={'figure.figsize':(6.7,6.7)})\n",
    "sns.set(font_scale=1.5)\n",
    "sns.set_style('white')\n",
    "sns.set_style('ticks', {'axes.edgecolor': '0',  \n",
    "                        'xtick.color': '0',\n",
    "                        'ytick.color': '0'})\n",
    "# Define some hatches\n",
    "hatches = cycle(['///','x', 'o'])\n",
    "\n",
    "\n",
    "# Boxplot\n",
    "ax = sns.boxplot(x=\"project_type\", y=\"LOCC / total SLOC\", data=repos_clones_size_java_fct,order=[\"Deep Learning\", \"Traditional\"],\n",
    "                 showfliers=False, hue='clone_type',color='black',medianprops=dict(color='black'), \n",
    "                  boxprops = dict(facecolor='white',edgecolor='black' ))\n",
    "ax.set_yscale(\"log\")\n",
    "ax.set(xlabel='Project Type', ylabel='log(LOCC / total SLOC)')\n",
    "#plt.legend(loc='best')\n",
    "plt.title('(a) Function Granularity')\n",
    "patches=[]\n",
    "for i, patch in enumerate(ax.artists):\n",
    "    # Boxes from left to right\n",
    "    hatch = next(hatches)\n",
    "    patch.set_hatch(hatch)\n",
    "    if patch not in patches:\n",
    "        patches.append(patch)\n",
    "\n",
    "type1_patch = Patch(fc='white',edgecolor='black', label='Type 1', hatch='///')\n",
    "type2_patch = Patch( fc='white',edgecolor='black',label='Type 2',     hatch ='x')\n",
    "type3_patch = Patch(fc='white',edgecolor='black', label='Type 3',     hatch ='o')\n",
    "legend=plt.legend(handles=[type1_patch, type2_patch, type3_patch],loc='best')\n",
    "frame = legend.get_frame()\n",
    "plt.show()\n",
    "fig = ax.get_figure()\n",
    "fig.savefig(\"java_dl_trad_clone_types_fct.pdf\")"
   ]
  },
  {
   "cell_type": "markdown",
   "metadata": {},
   "source": [
    "## Java -By Clone Types-Block granularity"
   ]
  },
  {
   "cell_type": "code",
   "execution_count": 108,
   "metadata": {},
   "outputs": [],
   "source": [
    "repos_clones_size = repos_clones_size_java_blk\n",
    "traditional = repos_clones_size[repos_clones_size['project_type']=='Traditional']\n",
    "dl = repos_clones_size[repos_clones_size['project_type']=='Deep Learning']"
   ]
  },
  {
   "cell_type": "code",
   "execution_count": 109,
   "metadata": {},
   "outputs": [],
   "source": [
    "trad_type1 = traditional[traditional['clone_type']=='Type 1']\n",
    "trad_type2 = traditional[traditional['clone_type']=='Type 2']\n",
    "trad_type3 = traditional[traditional['clone_type']=='Type 3']\n",
    "\n",
    "dl_type1 = dl[dl['clone_type']=='Type 1']\n",
    "dl_type2 = dl[dl['clone_type']=='Type 2']\n",
    "dl_type3 = dl[dl['clone_type']=='Type 3']"
   ]
  },
  {
   "cell_type": "code",
   "execution_count": 110,
   "metadata": {},
   "outputs": [
    {
     "data": {
      "text/plain": [
       "MannwhitneyuResult(statistic=14.0, pvalue=0.9272644735252321)"
      ]
     },
     "execution_count": 110,
     "metadata": {},
     "output_type": "execute_result"
    }
   ],
   "source": [
    "stats.mannwhitneyu(trad_type1.LOCC_total_SLOC,dl_type1.LOCC_total_SLOC, alternative='two-sided')"
   ]
  },
  {
   "cell_type": "code",
   "execution_count": 111,
   "metadata": {},
   "outputs": [
    {
     "data": {
      "text/plain": [
       "MannwhitneyuResult(statistic=12.0, pvalue=0.6480768681391461)"
      ]
     },
     "execution_count": 111,
     "metadata": {},
     "output_type": "execute_result"
    }
   ],
   "source": [
    "stats.mannwhitneyu(trad_type2.LOCC_total_SLOC,dl_type2.LOCC_total_SLOC, alternative='two-sided')"
   ]
  },
  {
   "cell_type": "code",
   "execution_count": 112,
   "metadata": {},
   "outputs": [
    {
     "data": {
      "text/plain": [
       "MannwhitneyuResult(statistic=18.0, pvalue=0.6480768681391461)"
      ]
     },
     "execution_count": 112,
     "metadata": {},
     "output_type": "execute_result"
    }
   ],
   "source": [
    "stats.mannwhitneyu(trad_type3.LOCC_total_SLOC,dl_type3.LOCC_total_SLOC, alternative='two-sided')"
   ]
  },
  {
   "cell_type": "code",
   "execution_count": 113,
   "metadata": {},
   "outputs": [
    {
     "data": {
      "text/plain": [
       "0.06666666666666667"
      ]
     },
     "execution_count": 113,
     "metadata": {},
     "output_type": "execute_result"
    }
   ],
   "source": [
    "cliffsDelta(trad_type1.LOCC_total_SLOC,dl_type1.LOCC_total_SLOC)"
   ]
  },
  {
   "cell_type": "code",
   "execution_count": 114,
   "metadata": {},
   "outputs": [
    {
     "data": {
      "text/plain": [
       "0.2"
      ]
     },
     "execution_count": 114,
     "metadata": {},
     "output_type": "execute_result"
    }
   ],
   "source": [
    "cliffsDelta(trad_type2.LOCC_total_SLOC,dl_type2.LOCC_total_SLOC)"
   ]
  },
  {
   "cell_type": "code",
   "execution_count": 115,
   "metadata": {},
   "outputs": [
    {
     "data": {
      "text/plain": [
       "0.2"
      ]
     },
     "execution_count": 115,
     "metadata": {},
     "output_type": "execute_result"
    }
   ],
   "source": [
    "cliffsDelta(trad_type3.LOCC_total_SLOC,dl_type3.LOCC_total_SLOC)"
   ]
  },
  {
   "cell_type": "code",
   "execution_count": 122,
   "metadata": {},
   "outputs": [
    {
     "data": {
      "image/png": "[encoded data removed]",
      "text/plain": [
       "<Figure size 511.2x504 with 1 Axes>"
      ]
     },
     "metadata": {},
     "output_type": "display_data"
    }
   ],
   "source": [
    "sns.set(rc={'figure.figsize':(7.1,7)})\n",
    "sns.set(font_scale=1.5)\n",
    "sns.set_style('white')\n",
    "sns.set_style('ticks', {'axes.edgecolor': '0',  \n",
    "                        'xtick.color': '0',\n",
    "                        'ytick.color': '0'})\n",
    "# Define some hatches\n",
    "hatches = cycle(['///','x', 'o'])\n",
    "\n",
    "\n",
    "# Boxplot\n",
    "ax = sns.boxplot(x=\"project_type\", y=\"LOCC / total SLOC\", data=repos_clones_size_java_blk, order=[\"Deep Learning\", \"Traditional\"],\n",
    "                 showfliers=False, hue='clone_type',color='black',medianprops=dict(color='black'), \n",
    "                  boxprops = dict(facecolor='white',edgecolor='black' ))\n",
    "ax.set_yscale(\"log\")\n",
    "ax.set(xlabel='Project Type', ylabel='log(LOCC / total SLOC)')\n",
    "#plt.legend(loc='best')\n",
    "plt.title('(b) Block Granularity')\n",
    "patches=[]\n",
    "for i, patch in enumerate(ax.artists):\n",
    "    # Boxes from left to right\n",
    "    hatch = next(hatches)\n",
    "    patch.set_hatch(hatch)\n",
    "    if patch not in patches:\n",
    "        patches.append(patch)\n",
    "\n",
    "type1_patch = Patch(fc='white',edgecolor='black', label='Type 1', hatch='///')\n",
    "type2_patch = Patch( fc='white',edgecolor='black',label='Type 2',     hatch ='x')\n",
    "type3_patch = Patch(fc='white',edgecolor='black', label='Type 3',     hatch ='o')\n",
    "legend=plt.legend(handles=[type1_patch, type2_patch, type3_patch],loc='best')\n",
    "frame = legend.get_frame()\n",
    "plt.show()\n",
    "fig = ax.get_figure()\n",
    "fig.savefig(\"java_dl_trad_clone_types_blk.pdf\")"
   ]
  },
  {
   "cell_type": "markdown",
   "metadata": {},
   "source": [
    "# RQ1-C#"
   ]
  },
  {
   "cell_type": "code",
   "execution_count": 123,
   "metadata": {},
   "outputs": [],
   "source": [
    "repos_clones_size = repos_clones_size_all\n",
    "repos_clones_size_csharp= repos_clones_size[repos_clones_size['language']=='csharp']\n",
    "repos_clones_size_csharp_fct = repos_clones_size_csharp[repos_clones_size_csharp['granularity']=='Function']\n",
    "repos_clones_size_csharp_blk = repos_clones_size_csharp[repos_clones_size_csharp['granularity']=='Block']"
   ]
  },
  {
   "cell_type": "code",
   "execution_count": 124,
   "metadata": {
    "scrolled": true
   },
   "outputs": [
    {
     "data": {
      "text/html": [
       "<div>\n",
       "<style scoped>\n",
       "    .dataframe tbody tr th:only-of-type {\n",
       "        vertical-align: middle;\n",
       "    }\n",
       "\n",
       "    .dataframe tbody tr th {\n",
       "        vertical-align: top;\n",
       "    }\n",
       "\n",
       "    .dataframe thead th {\n",
       "        text-align: right;\n",
       "    }\n",
       "</style>\n",
       "<table border=\"1\" class=\"dataframe\">\n",
       "  <thead>\n",
       "    <tr style=\"text-align: right;\">\n",
       "      <th></th>\n",
       "      <th>repoName</th>\n",
       "      <th>granularity</th>\n",
       "      <th>clone_type</th>\n",
       "      <th>language</th>\n",
       "      <th>project_type</th>\n",
       "      <th>locc</th>\n",
       "      <th>repoName_path</th>\n",
       "      <th>total_sloc</th>\n",
       "      <th>LOCC / total SLOC</th>\n",
       "      <th>LOCC_total_SLOC</th>\n",
       "    </tr>\n",
       "  </thead>\n",
       "  <tbody>\n",
       "    <tr>\n",
       "      <th>3</th>\n",
       "      <td>AspectCore-Framework</td>\n",
       "      <td>Function</td>\n",
       "      <td>Type 1</td>\n",
       "      <td>csharp</td>\n",
       "      <td>Traditional</td>\n",
       "      <td>134</td>\n",
       "      <td>/tmpstore/bimus/b-repositories/trad/csharp/Asp...</td>\n",
       "      <td>17316</td>\n",
       "      <td>0.007739</td>\n",
       "      <td>0.007739</td>\n",
       "    </tr>\n",
       "    <tr>\n",
       "      <th>4</th>\n",
       "      <td>AspectCore-Framework</td>\n",
       "      <td>Function</td>\n",
       "      <td>Type 2</td>\n",
       "      <td>csharp</td>\n",
       "      <td>Traditional</td>\n",
       "      <td>939</td>\n",
       "      <td>/tmpstore/bimus/b-repositories/trad/csharp/Asp...</td>\n",
       "      <td>17316</td>\n",
       "      <td>0.054227</td>\n",
       "      <td>0.054227</td>\n",
       "    </tr>\n",
       "    <tr>\n",
       "      <th>5</th>\n",
       "      <td>AspectCore-Framework</td>\n",
       "      <td>Function</td>\n",
       "      <td>Type 3</td>\n",
       "      <td>csharp</td>\n",
       "      <td>Traditional</td>\n",
       "      <td>3411</td>\n",
       "      <td>/tmpstore/bimus/b-repositories/trad/csharp/Asp...</td>\n",
       "      <td>17316</td>\n",
       "      <td>0.196985</td>\n",
       "      <td>0.196985</td>\n",
       "    </tr>\n",
       "    <tr>\n",
       "      <th>9</th>\n",
       "      <td>Avalonia</td>\n",
       "      <td>Function</td>\n",
       "      <td>Type 1</td>\n",
       "      <td>csharp</td>\n",
       "      <td>Traditional</td>\n",
       "      <td>1874</td>\n",
       "      <td>/tmpstore/bimus/b-repositories/trad/csharp/Ava...</td>\n",
       "      <td>245432</td>\n",
       "      <td>0.007636</td>\n",
       "      <td>0.007636</td>\n",
       "    </tr>\n",
       "    <tr>\n",
       "      <th>10</th>\n",
       "      <td>Avalonia</td>\n",
       "      <td>Function</td>\n",
       "      <td>Type 2</td>\n",
       "      <td>csharp</td>\n",
       "      <td>Traditional</td>\n",
       "      <td>8725</td>\n",
       "      <td>/tmpstore/bimus/b-repositories/trad/csharp/Ava...</td>\n",
       "      <td>245432</td>\n",
       "      <td>0.035550</td>\n",
       "      <td>0.035550</td>\n",
       "    </tr>\n",
       "  </tbody>\n",
       "</table>\n",
       "</div>"
      ],
      "text/plain": [
       "                repoName granularity clone_type language project_type  locc  \\\n",
       "3   AspectCore-Framework    Function     Type 1   csharp  Traditional   134   \n",
       "4   AspectCore-Framework    Function     Type 2   csharp  Traditional   939   \n",
       "5   AspectCore-Framework    Function     Type 3   csharp  Traditional  3411   \n",
       "9               Avalonia    Function     Type 1   csharp  Traditional  1874   \n",
       "10              Avalonia    Function     Type 2   csharp  Traditional  8725   \n",
       "\n",
       "                                        repoName_path  total_sloc  \\\n",
       "3   /tmpstore/bimus/b-repositories/trad/csharp/Asp...       17316   \n",
       "4   /tmpstore/bimus/b-repositories/trad/csharp/Asp...       17316   \n",
       "5   /tmpstore/bimus/b-repositories/trad/csharp/Asp...       17316   \n",
       "9   /tmpstore/bimus/b-repositories/trad/csharp/Ava...      245432   \n",
       "10  /tmpstore/bimus/b-repositories/trad/csharp/Ava...      245432   \n",
       "\n",
       "    LOCC / total SLOC  LOCC_total_SLOC  \n",
       "3            0.007739         0.007739  \n",
       "4            0.054227         0.054227  \n",
       "5            0.196985         0.196985  \n",
       "9            0.007636         0.007636  \n",
       "10           0.035550         0.035550  "
      ]
     },
     "execution_count": 124,
     "metadata": {},
     "output_type": "execute_result"
    }
   ],
   "source": [
    "repos_clones_size_csharp_fct.head()"
   ]
  },
  {
   "cell_type": "code",
   "execution_count": 125,
   "metadata": {},
   "outputs": [
    {
     "data": {
      "text/html": [
       "<div>\n",
       "<style scoped>\n",
       "    .dataframe tbody tr th:only-of-type {\n",
       "        vertical-align: middle;\n",
       "    }\n",
       "\n",
       "    .dataframe tbody tr th {\n",
       "        vertical-align: top;\n",
       "    }\n",
       "\n",
       "    .dataframe thead th {\n",
       "        text-align: right;\n",
       "    }\n",
       "</style>\n",
       "<table border=\"1\" class=\"dataframe\">\n",
       "  <thead>\n",
       "    <tr style=\"text-align: right;\">\n",
       "      <th></th>\n",
       "      <th>repoName</th>\n",
       "      <th>granularity</th>\n",
       "      <th>clone_type</th>\n",
       "      <th>language</th>\n",
       "      <th>project_type</th>\n",
       "      <th>locc</th>\n",
       "      <th>repoName_path</th>\n",
       "      <th>total_sloc</th>\n",
       "      <th>LOCC / total SLOC</th>\n",
       "      <th>LOCC_total_SLOC</th>\n",
       "    </tr>\n",
       "  </thead>\n",
       "  <tbody>\n",
       "    <tr>\n",
       "      <th>0</th>\n",
       "      <td>AspectCore-Framework</td>\n",
       "      <td>Block</td>\n",
       "      <td>Type 1</td>\n",
       "      <td>csharp</td>\n",
       "      <td>Traditional</td>\n",
       "      <td>497</td>\n",
       "      <td>/tmpstore/bimus/b-repositories/trad/csharp/Asp...</td>\n",
       "      <td>17316</td>\n",
       "      <td>0.028702</td>\n",
       "      <td>0.028702</td>\n",
       "    </tr>\n",
       "    <tr>\n",
       "      <th>1</th>\n",
       "      <td>AspectCore-Framework</td>\n",
       "      <td>Block</td>\n",
       "      <td>Type 2</td>\n",
       "      <td>csharp</td>\n",
       "      <td>Traditional</td>\n",
       "      <td>1176</td>\n",
       "      <td>/tmpstore/bimus/b-repositories/trad/csharp/Asp...</td>\n",
       "      <td>17316</td>\n",
       "      <td>0.067914</td>\n",
       "      <td>0.067914</td>\n",
       "    </tr>\n",
       "    <tr>\n",
       "      <th>2</th>\n",
       "      <td>AspectCore-Framework</td>\n",
       "      <td>Block</td>\n",
       "      <td>Type 3</td>\n",
       "      <td>csharp</td>\n",
       "      <td>Traditional</td>\n",
       "      <td>4311</td>\n",
       "      <td>/tmpstore/bimus/b-repositories/trad/csharp/Asp...</td>\n",
       "      <td>17316</td>\n",
       "      <td>0.248960</td>\n",
       "      <td>0.248960</td>\n",
       "    </tr>\n",
       "    <tr>\n",
       "      <th>6</th>\n",
       "      <td>Avalonia</td>\n",
       "      <td>Block</td>\n",
       "      <td>Type 1</td>\n",
       "      <td>csharp</td>\n",
       "      <td>Traditional</td>\n",
       "      <td>4000</td>\n",
       "      <td>/tmpstore/bimus/b-repositories/trad/csharp/Ava...</td>\n",
       "      <td>245432</td>\n",
       "      <td>0.016298</td>\n",
       "      <td>0.016298</td>\n",
       "    </tr>\n",
       "    <tr>\n",
       "      <th>7</th>\n",
       "      <td>Avalonia</td>\n",
       "      <td>Block</td>\n",
       "      <td>Type 2</td>\n",
       "      <td>csharp</td>\n",
       "      <td>Traditional</td>\n",
       "      <td>12869</td>\n",
       "      <td>/tmpstore/bimus/b-repositories/trad/csharp/Ava...</td>\n",
       "      <td>245432</td>\n",
       "      <td>0.052434</td>\n",
       "      <td>0.052434</td>\n",
       "    </tr>\n",
       "  </tbody>\n",
       "</table>\n",
       "</div>"
      ],
      "text/plain": [
       "               repoName granularity clone_type language project_type   locc  \\\n",
       "0  AspectCore-Framework       Block     Type 1   csharp  Traditional    497   \n",
       "1  AspectCore-Framework       Block     Type 2   csharp  Traditional   1176   \n",
       "2  AspectCore-Framework       Block     Type 3   csharp  Traditional   4311   \n",
       "6              Avalonia       Block     Type 1   csharp  Traditional   4000   \n",
       "7              Avalonia       Block     Type 2   csharp  Traditional  12869   \n",
       "\n",
       "                                       repoName_path  total_sloc  \\\n",
       "0  /tmpstore/bimus/b-repositories/trad/csharp/Asp...       17316   \n",
       "1  /tmpstore/bimus/b-repositories/trad/csharp/Asp...       17316   \n",
       "2  /tmpstore/bimus/b-repositories/trad/csharp/Asp...       17316   \n",
       "6  /tmpstore/bimus/b-repositories/trad/csharp/Ava...      245432   \n",
       "7  /tmpstore/bimus/b-repositories/trad/csharp/Ava...      245432   \n",
       "\n",
       "   LOCC / total SLOC  LOCC_total_SLOC  \n",
       "0           0.028702         0.028702  \n",
       "1           0.067914         0.067914  \n",
       "2           0.248960         0.248960  \n",
       "6           0.016298         0.016298  \n",
       "7           0.052434         0.052434  "
      ]
     },
     "execution_count": 125,
     "metadata": {},
     "output_type": "execute_result"
    }
   ],
   "source": [
    "repos_clones_size_csharp_blk.head()"
   ]
  },
  {
   "cell_type": "markdown",
   "metadata": {},
   "source": [
    "## C\\# All Types Function granularity"
   ]
  },
  {
   "cell_type": "code",
   "execution_count": 126,
   "metadata": {},
   "outputs": [],
   "source": [
    "repos_clones_size = repos_clones_size_csharp_fct"
   ]
  },
  {
   "cell_type": "code",
   "execution_count": 127,
   "metadata": {},
   "outputs": [],
   "source": [
    "traditional = repos_clones_size[repos_clones_size['project_type']=='Traditional']\n",
    "dl = repos_clones_size[repos_clones_size['project_type']=='Deep Learning']"
   ]
  },
  {
   "cell_type": "code",
   "execution_count": 128,
   "metadata": {},
   "outputs": [
    {
     "data": {
      "text/plain": [
       "MannwhitneyuResult(statistic=655.0, pvalue=0.11279558936754053)"
      ]
     },
     "execution_count": 128,
     "metadata": {},
     "output_type": "execute_result"
    }
   ],
   "source": [
    "stats.mannwhitneyu(traditional.LOCC_total_SLOC,dl.LOCC_total_SLOC)"
   ]
  },
  {
   "cell_type": "code",
   "execution_count": 129,
   "metadata": {},
   "outputs": [
    {
     "data": {
      "text/plain": [
       "MannwhitneyuResult(statistic=655.0, pvalue=0.22559117873508105)"
      ]
     },
     "execution_count": 129,
     "metadata": {},
     "output_type": "execute_result"
    }
   ],
   "source": [
    "stats.mannwhitneyu(traditional.LOCC_total_SLOC,dl.LOCC_total_SLOC, alternative='two-sided')"
   ]
  },
  {
   "cell_type": "code",
   "execution_count": 130,
   "metadata": {},
   "outputs": [
    {
     "data": {
      "text/plain": [
       "MannwhitneyuResult(statistic=903.0, pvalue=0.22559117873508105)"
      ]
     },
     "execution_count": 130,
     "metadata": {},
     "output_type": "execute_result"
    }
   ],
   "source": [
    "stats.mannwhitneyu(dl.LOCC_total_SLOC,traditional.LOCC_total_SLOC, alternative='two-sided')"
   ]
  },
  {
   "cell_type": "code",
   "execution_count": 131,
   "metadata": {},
   "outputs": [
    {
     "data": {
      "text/plain": [
       "0.15917843388960207"
      ]
     },
     "execution_count": 131,
     "metadata": {},
     "output_type": "execute_result"
    }
   ],
   "source": [
    "cliffsDelta(traditional.LOCC_total_SLOC,dl.LOCC_total_SLOC)"
   ]
  },
  {
   "cell_type": "code",
   "execution_count": 132,
   "metadata": {},
   "outputs": [
    {
     "data": {
      "image/png": "[encoded data removed]",
      "text/plain": [
       "<Figure size 482.4x482.4 with 1 Axes>"
      ]
     },
     "metadata": {},
     "output_type": "display_data"
    }
   ],
   "source": [
    "sns.set(rc={'figure.figsize':(6.7,6.7)})\n",
    "sns.set(font_scale=1.5)\n",
    "sns.set_style('white')\n",
    "sns.set_style('ticks', {'axes.edgecolor': '0',  \n",
    "                        'xtick.color': '0',\n",
    "                        'ytick.color': '0'})\n",
    "# Define some hatches\n",
    "hatches = cycle(['///','x', 'o'])\n",
    "\n",
    "\n",
    "# Boxplot\n",
    "ax = sns.boxplot(x=\"project_type\", y=\"LOCC / total SLOC\", data=repos_clones_size_csharp_fct, order=[\"Deep Learning\", \"Traditional\"], showfliers=False,color='black',medianprops=dict(color='black'), \n",
    "                  boxprops = dict(facecolor='white',edgecolor='black' ))\n",
    "#ax.set_yscale(\"log\")\n",
    "#ax.set(xlabel='Project Type', ylabel='log(LOCC / total SLOC)')\n",
    "#plt.legend(loc='best')\n",
    "plt.title('(a) Function Granularity')\n",
    "patches=[]\n",
    "for i, patch in enumerate(ax.artists):\n",
    "    # Boxes from left to right\n",
    "    hatch = next(hatches)\n",
    "    patch.set_hatch(hatch)\n",
    "    if patch not in patches:\n",
    "        patches.append(patch)\n",
    "\n",
    "#type1_patch = Patch(fc='white',edgecolor='black', label='Type 1', hatch='///')\n",
    "#type2_patch = Patch( fc='white',edgecolor='black',label='Type 2',     hatch ='x')\n",
    "#type3_patch = Patch(fc='white',edgecolor='black', label='Type 3',     hatch ='o')\n",
    "#legend=plt.legend(handles=[type1_patch, type2_patch, type3_patch],loc='best')\n",
    "#frame = legend.get_frame()\n",
    "plt.show()\n",
    "fig = ax.get_figure()\n",
    "fig.savefig(\"csharp_dl_trad_all_clone_type_fct.pdf\")"
   ]
  },
  {
   "cell_type": "markdown",
   "metadata": {},
   "source": [
    "## C\\#- All Types Block granularity"
   ]
  },
  {
   "cell_type": "code",
   "execution_count": 133,
   "metadata": {},
   "outputs": [],
   "source": [
    "repos_clones_size = repos_clones_size_csharp_blk"
   ]
  },
  {
   "cell_type": "code",
   "execution_count": 134,
   "metadata": {},
   "outputs": [],
   "source": [
    "traditional = repos_clones_size[repos_clones_size['project_type']=='Traditional']\n",
    "dl = repos_clones_size[repos_clones_size['project_type']=='Deep Learning']"
   ]
  },
  {
   "cell_type": "code",
   "execution_count": 135,
   "metadata": {},
   "outputs": [
    {
     "data": {
      "text/plain": [
       "MannwhitneyuResult(statistic=751.0, pvalue=0.15929680580917993)"
      ]
     },
     "execution_count": 135,
     "metadata": {},
     "output_type": "execute_result"
    }
   ],
   "source": [
    "stats.mannwhitneyu(traditional.LOCC_total_SLOC,dl.LOCC_total_SLOC)"
   ]
  },
  {
   "cell_type": "code",
   "execution_count": 136,
   "metadata": {},
   "outputs": [
    {
     "data": {
      "text/plain": [
       "MannwhitneyuResult(statistic=751.0, pvalue=0.31859361161835986)"
      ]
     },
     "execution_count": 136,
     "metadata": {},
     "output_type": "execute_result"
    }
   ],
   "source": [
    "stats.mannwhitneyu(traditional.LOCC_total_SLOC,dl.LOCC_total_SLOC, alternative='two-sided')"
   ]
  },
  {
   "cell_type": "code",
   "execution_count": 137,
   "metadata": {},
   "outputs": [
    {
     "data": {
      "text/plain": [
       "MannwhitneyuResult(statistic=971.0, pvalue=0.31859361161835986)"
      ]
     },
     "execution_count": 137,
     "metadata": {},
     "output_type": "execute_result"
    }
   ],
   "source": [
    "stats.mannwhitneyu(dl.LOCC_total_SLOC,traditional.LOCC_total_SLOC, alternative='two-sided')"
   ]
  },
  {
   "cell_type": "code",
   "execution_count": 138,
   "metadata": {},
   "outputs": [
    {
     "data": {
      "text/plain": [
       "0.12775842044134728"
      ]
     },
     "execution_count": 138,
     "metadata": {},
     "output_type": "execute_result"
    }
   ],
   "source": [
    "cliffsDelta(traditional.LOCC_total_SLOC,dl.LOCC_total_SLOC)"
   ]
  },
  {
   "cell_type": "code",
   "execution_count": 139,
   "metadata": {},
   "outputs": [
    {
     "data": {
      "image/png": "[encoded data removed]",
      "text/plain": [
       "<Figure size 482.4x482.4 with 1 Axes>"
      ]
     },
     "metadata": {},
     "output_type": "display_data"
    }
   ],
   "source": [
    "sns.set(rc={'figure.figsize':(6.7,6.7)})\n",
    "sns.set(font_scale=1.5)\n",
    "sns.set_style('white')\n",
    "sns.set_style('ticks', {'axes.edgecolor': '0',  \n",
    "                        'xtick.color': '0',\n",
    "                        'ytick.color': '0'})\n",
    "# Define some hatches\n",
    "hatches = cycle(['///','x', 'o'])\n",
    "\n",
    "\n",
    "# Boxplot\n",
    "ax = sns.boxplot(x=\"project_type\", y=\"LOCC / total SLOC\", data=repos_clones_size_csharp_blk,order=[\"Deep Learning\", \"Traditional\"],\n",
    "                 showfliers=False,color='black',medianprops=dict(color='black'), \n",
    "                  boxprops = dict(facecolor='white',edgecolor='black' ))\n",
    "#ax.set_yscale(\"log\")\n",
    "#ax.set(xlabel='Project Type', ylabel='log(LOCC / total SLOC)')\n",
    "#plt.legend(loc='best')\n",
    "plt.title('(b) Block Granularity')\n",
    "patches=[]\n",
    "for i, patch in enumerate(ax.artists):\n",
    "    # Boxes from left to right\n",
    "    hatch = next(hatches)\n",
    "    patch.set_hatch(hatch)\n",
    "    if patch not in patches:\n",
    "        patches.append(patch)\n",
    "\n",
    "#type1_patch = Patch(fc='white',edgecolor='black', label='Type 1', hatch='///')\n",
    "#type2_patch = Patch( fc='white',edgecolor='black',label='Type 2',     hatch ='x')\n",
    "#type3_patch = Patch(fc='white',edgecolor='black', label='Type 3',     hatch ='o')\n",
    "#legend=plt.legend(handles=[type1_patch, type2_patch, type3_patch],loc='best')\n",
    "#frame = legend.get_frame()\n",
    "plt.show()\n",
    "fig = ax.get_figure()\n",
    "fig.savefig(\"csharp_dl_trad_all_clone_type_blk.pdf\")"
   ]
  },
  {
   "cell_type": "markdown",
   "metadata": {},
   "source": [
    "## C\\# -By Clone Types-Function granularity"
   ]
  },
  {
   "cell_type": "code",
   "execution_count": 140,
   "metadata": {},
   "outputs": [],
   "source": [
    "repos_clones_size = repos_clones_size_csharp_fct\n",
    "traditional = repos_clones_size[repos_clones_size['project_type']=='Traditional']\n",
    "dl = repos_clones_size[repos_clones_size['project_type']=='Deep Learning']"
   ]
  },
  {
   "cell_type": "code",
   "execution_count": 141,
   "metadata": {},
   "outputs": [],
   "source": [
    "trad_type1 = traditional[traditional['clone_type']=='Type 1']\n",
    "trad_type2 = traditional[traditional['clone_type']=='Type 2']\n",
    "trad_type3 = traditional[traditional['clone_type']=='Type 3']\n",
    "\n",
    "dl_type1 = dl[dl['clone_type']=='Type 1']\n",
    "dl_type2 = dl[dl['clone_type']=='Type 2']\n",
    "dl_type3 = dl[dl['clone_type']=='Type 3']"
   ]
  },
  {
   "cell_type": "code",
   "execution_count": 142,
   "metadata": {},
   "outputs": [
    {
     "data": {
      "text/plain": [
       "MannwhitneyuResult(statistic=69.0, pvalue=0.6438382008132897)"
      ]
     },
     "execution_count": 142,
     "metadata": {},
     "output_type": "execute_result"
    }
   ],
   "source": [
    "stats.mannwhitneyu(trad_type1.LOCC_total_SLOC,dl_type1.LOCC_total_SLOC, alternative='two-sided')"
   ]
  },
  {
   "cell_type": "code",
   "execution_count": 143,
   "metadata": {},
   "outputs": [
    {
     "data": {
      "text/plain": [
       "MannwhitneyuResult(statistic=74.0, pvalue=0.6251055995506551)"
      ]
     },
     "execution_count": 143,
     "metadata": {},
     "output_type": "execute_result"
    }
   ],
   "source": [
    "stats.mannwhitneyu(trad_type2.LOCC_total_SLOC,dl_type2.LOCC_total_SLOC, alternative='two-sided')"
   ]
  },
  {
   "cell_type": "code",
   "execution_count": 144,
   "metadata": {},
   "outputs": [
    {
     "data": {
      "text/plain": [
       "MannwhitneyuResult(statistic=55.0, pvalue=0.0508460958338979)"
      ]
     },
     "execution_count": 144,
     "metadata": {},
     "output_type": "execute_result"
    }
   ],
   "source": [
    "stats.mannwhitneyu(trad_type3.LOCC_total_SLOC,dl_type3.LOCC_total_SLOC, alternative='two-sided')"
   ]
  },
  {
   "cell_type": "code",
   "execution_count": 145,
   "metadata": {},
   "outputs": [
    {
     "data": {
      "text/plain": [
       "0.11538461538461539"
      ]
     },
     "execution_count": 145,
     "metadata": {},
     "output_type": "execute_result"
    }
   ],
   "source": [
    "cliffsDelta(trad_type1.LOCC_total_SLOC,dl_type1.LOCC_total_SLOC)"
   ]
  },
  {
   "cell_type": "code",
   "execution_count": 146,
   "metadata": {},
   "outputs": [
    {
     "data": {
      "text/plain": [
       "0.11904761904761904"
      ]
     },
     "execution_count": 146,
     "metadata": {},
     "output_type": "execute_result"
    }
   ],
   "source": [
    "cliffsDelta(trad_type2.LOCC_total_SLOC,dl_type2.LOCC_total_SLOC)"
   ]
  },
  {
   "cell_type": "code",
   "execution_count": 147,
   "metadata": {},
   "outputs": [
    {
     "data": {
      "text/plain": [
       "0.4387755102040816"
      ]
     },
     "execution_count": 147,
     "metadata": {},
     "output_type": "execute_result"
    }
   ],
   "source": [
    "cliffsDelta(trad_type3.LOCC_total_SLOC,dl_type3.LOCC_total_SLOC)"
   ]
  },
  {
   "cell_type": "code",
   "execution_count": 150,
   "metadata": {},
   "outputs": [
    {
     "data": {
      "image/png": "[encoded data removed]",
      "text/plain": [
       "<Figure size 511.2x482.4 with 1 Axes>"
      ]
     },
     "metadata": {},
     "output_type": "display_data"
    }
   ],
   "source": [
    "sns.set(rc={'figure.figsize':(7.1,6.7)})\n",
    "sns.set(font_scale=1.5)\n",
    "sns.set_style('white')\n",
    "sns.set_style('ticks', {'axes.edgecolor': '0',  \n",
    "                        'xtick.color': '0',\n",
    "                        'ytick.color': '0'})\n",
    "# Define some hatches\n",
    "hatches = cycle(['///','x', 'o'])\n",
    "\n",
    "\n",
    "# Boxplot\n",
    "ax = sns.boxplot(x=\"project_type\", y=\"LOCC / total SLOC\", data=repos_clones_size_csharp_fct,order=[\"Deep Learning\", \"Traditional\"],\n",
    "                 showfliers=False, hue='clone_type',color='black',medianprops=dict(color='black'), \n",
    "                  boxprops = dict(facecolor='white',edgecolor='black' ))\n",
    "ax.set_yscale(\"log\")\n",
    "ax.set(xlabel='Project Type', ylabel='log(LOCC / total SLOC)')\n",
    "#plt.legend(loc='best')\n",
    "plt.title('(a) Function Granularity')\n",
    "patches=[]\n",
    "for i, patch in enumerate(ax.artists):\n",
    "    # Boxes from left to right\n",
    "    hatch = next(hatches)\n",
    "    patch.set_hatch(hatch)\n",
    "    if patch not in patches:\n",
    "        patches.append(patch)\n",
    "\n",
    "type1_patch = Patch(fc='white',edgecolor='black', label='Type 1', hatch='///')\n",
    "type2_patch = Patch( fc='white',edgecolor='black',label='Type 2',     hatch ='x')\n",
    "type3_patch = Patch(fc='white',edgecolor='black', label='Type 3',     hatch ='o')\n",
    "legend=plt.legend(handles=[type1_patch, type2_patch, type3_patch],loc='best')\n",
    "frame = legend.get_frame()\n",
    "plt.show()\n",
    "fig = ax.get_figure()\n",
    "fig.savefig(\"csharp_dl_trad_clone_types_fct.pdf\")"
   ]
  },
  {
   "cell_type": "markdown",
   "metadata": {},
   "source": [
    "## C\\# -By Clone Types-Block granularity"
   ]
  },
  {
   "cell_type": "code",
   "execution_count": 151,
   "metadata": {},
   "outputs": [],
   "source": [
    "repos_clones_size = repos_clones_size_csharp_blk\n",
    "traditional = repos_clones_size[repos_clones_size['project_type']=='Traditional']\n",
    "dl = repos_clones_size[repos_clones_size['project_type']=='Deep Learning']"
   ]
  },
  {
   "cell_type": "code",
   "execution_count": 152,
   "metadata": {},
   "outputs": [],
   "source": [
    "trad_type1 = traditional[traditional['clone_type']=='Type 1']\n",
    "trad_type2 = traditional[traditional['clone_type']=='Type 2']\n",
    "trad_type3 = traditional[traditional['clone_type']=='Type 3']\n",
    "\n",
    "dl_type1 = dl[dl['clone_type']=='Type 1']\n",
    "dl_type2 = dl[dl['clone_type']=='Type 2']\n",
    "dl_type3 = dl[dl['clone_type']=='Type 3']"
   ]
  },
  {
   "cell_type": "code",
   "execution_count": 153,
   "metadata": {},
   "outputs": [
    {
     "data": {
      "text/plain": [
       "MannwhitneyuResult(statistic=73.0, pvalue=0.39576568734555595)"
      ]
     },
     "execution_count": 153,
     "metadata": {},
     "output_type": "execute_result"
    }
   ],
   "source": [
    "stats.mannwhitneyu(trad_type1.LOCC_total_SLOC,dl_type1.LOCC_total_SLOC, alternative='two-sided')"
   ]
  },
  {
   "cell_type": "code",
   "execution_count": 154,
   "metadata": {},
   "outputs": [
    {
     "data": {
      "text/plain": [
       "MannwhitneyuResult(statistic=80.0, pvalue=0.42134823269748845)"
      ]
     },
     "execution_count": 154,
     "metadata": {},
     "output_type": "execute_result"
    }
   ],
   "source": [
    "stats.mannwhitneyu(trad_type2.LOCC_total_SLOC,dl_type2.LOCC_total_SLOC, alternative='two-sided')"
   ]
  },
  {
   "cell_type": "code",
   "execution_count": 155,
   "metadata": {},
   "outputs": [
    {
     "data": {
      "text/plain": [
       "MannwhitneyuResult(statistic=48.0, pvalue=0.02294133695494205)"
      ]
     },
     "execution_count": 155,
     "metadata": {},
     "output_type": "execute_result"
    }
   ],
   "source": [
    "stats.mannwhitneyu(trad_type3.LOCC_total_SLOC,dl_type3.LOCC_total_SLOC, alternative='two-sided')"
   ]
  },
  {
   "cell_type": "code",
   "execution_count": 156,
   "metadata": {},
   "outputs": [
    {
     "data": {
      "text/plain": [
       "0.1978021978021978"
      ]
     },
     "execution_count": 156,
     "metadata": {},
     "output_type": "execute_result"
    }
   ],
   "source": [
    "cliffsDelta(trad_type1.LOCC_total_SLOC,dl_type1.LOCC_total_SLOC)"
   ]
  },
  {
   "cell_type": "code",
   "execution_count": 157,
   "metadata": {},
   "outputs": [
    {
     "data": {
      "text/plain": [
       "0.1836734693877551"
      ]
     },
     "execution_count": 157,
     "metadata": {},
     "output_type": "execute_result"
    }
   ],
   "source": [
    "cliffsDelta(trad_type2.LOCC_total_SLOC,dl_type2.LOCC_total_SLOC)"
   ]
  },
  {
   "cell_type": "code",
   "execution_count": 158,
   "metadata": {},
   "outputs": [
    {
     "data": {
      "text/plain": [
       "0.5102040816326531"
      ]
     },
     "execution_count": 158,
     "metadata": {},
     "output_type": "execute_result"
    }
   ],
   "source": [
    "cliffsDelta(trad_type3.LOCC_total_SLOC,dl_type3.LOCC_total_SLOC)"
   ]
  },
  {
   "cell_type": "code",
   "execution_count": 159,
   "metadata": {},
   "outputs": [
    {
     "data": {
      "image/png": "[encoded data removed]",
      "text/plain": [
       "<Figure size 511.2x482.4 with 1 Axes>"
      ]
     },
     "metadata": {},
     "output_type": "display_data"
    }
   ],
   "source": [
    "sns.set(rc={'figure.figsize':(7.1,6.7)})\n",
    "sns.set(font_scale=1.5)\n",
    "sns.set_style('white')\n",
    "sns.set_style('ticks', {'axes.edgecolor': '0',  \n",
    "                        'xtick.color': '0',\n",
    "                        'ytick.color': '0'})\n",
    "# Define some hatches\n",
    "hatches = cycle(['///','x', 'o'])\n",
    "\n",
    "\n",
    "# Boxplot\n",
    "ax = sns.boxplot(x=\"project_type\", y=\"LOCC / total SLOC\", data=repos_clones_size_csharp_blk,order=[\"Deep Learning\", \"Traditional\"],\n",
    "                 showfliers=False, hue='clone_type',color='black',medianprops=dict(color='black'), \n",
    "                  boxprops = dict(facecolor='white',edgecolor='black' ))\n",
    "ax.set_yscale(\"log\")\n",
    "ax.set(xlabel='Project Type', ylabel='log(LOCC / total SLOC)')\n",
    "#plt.legend(loc='best')\n",
    "plt.title('(b) Block Granularity')\n",
    "patches=[]\n",
    "for i, patch in enumerate(ax.artists):\n",
    "    # Boxes from left to right\n",
    "    hatch = next(hatches)\n",
    "    patch.set_hatch(hatch)\n",
    "    if patch not in patches:\n",
    "        patches.append(patch)\n",
    "\n",
    "type1_patch = Patch(fc='white',edgecolor='black', label='Type 1', hatch='///')\n",
    "type2_patch = Patch( fc='white',edgecolor='black',label='Type 2',     hatch ='x')\n",
    "type3_patch = Patch(fc='white',edgecolor='black', label='Type 3',     hatch ='o')\n",
    "legend=plt.legend(handles=[type1_patch, type2_patch, type3_patch],loc='best')\n",
    "frame = legend.get_frame()\n",
    "plt.show()\n",
    "fig = ax.get_figure()\n",
    "fig.savefig(\"csharp_dl_trad_clone_types_blk.pdf\")"
   ]
  },
  {
   "cell_type": "code",
   "execution_count": null,
   "metadata": {},
   "outputs": [],
   "source": []
  }
 ],
 "metadata": {
  "kernelspec": {
   "display_name": "Python 3",
   "language": "python",
   "name": "python3"
  },
  "language_info": {
   "codemirror_mode": {
    "name": "ipython",
    "version": 3
   },
   "file_extension": ".py",
   "mimetype": "text/x-python",
   "name": "python",
   "nbconvert_exporter": "python",
   "pygments_lexer": "ipython3",
   "version": "3.7.4"
  }
 },
 "nbformat": 4,
 "nbformat_minor": 2
}
